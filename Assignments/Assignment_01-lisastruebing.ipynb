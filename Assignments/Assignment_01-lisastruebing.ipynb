{
 "cells": [
  {
   "cell_type": "markdown",
   "metadata": {
    "colab_type": "text",
    "id": "cmoZVkBbcW-T"
   },
   "source": [
    "# Assignment 1: Julia Exercises\n",
    "## Due: Wednesday, 25 Jan. 2023 at beginning of class."
   ]
  },
  {
   "cell_type": "markdown",
   "metadata": {
    "colab_type": "text",
    "id": "71fA3ibycW-T"
   },
   "source": [
    "## Finding errors in code\n",
    "For each of the following cells, <br>\n",
    "a) run the cell and see the error message,<br>\n",
    "b) add a new markdown cell describing the error, and describing what you need to do to fix the problem, and<br>\n",
    "c) add a new code cell fixing the error. find the error, and correct it in a new cell below the original.<br>"
   ]
  },
  {
   "cell_type": "code",
   "execution_count": 6,
   "metadata": {
    "colab": {
     "autoexec": {
      "startup": false,
      "wait_interval": 0
     }
    },
    "colab_type": "code",
    "id": "WTelHESicW-U"
   },
   "outputs": [
    {
     "name": "stdout",
     "output_type": "stream",
     "text": [
      "14\n"
     ]
    }
   ],
   "source": [
    "z = x + y\n",
    "x = 6\n",
    "y = 8\n",
    "println(z)"
   ]
  },
  {
   "cell_type": "markdown",
   "metadata": {},
   "source": [
    "### The variable x was used in the top-level line 1 before it was declared. I moved the both the x and y variables in the next code cell. \n",
    "### NOTE: After executing the code a few times, it seems to run fine...is this a problem with Julia?"
   ]
  },
  {
   "cell_type": "code",
   "execution_count": 3,
   "metadata": {},
   "outputs": [
    {
     "name": "stdout",
     "output_type": "stream",
     "text": [
      "14\n"
     ]
    }
   ],
   "source": [
    "x = 6\n",
    "y = 8\n",
    "z = x + y\n",
    "println(z)"
   ]
  },
  {
   "cell_type": "code",
   "execution_count": 8,
   "metadata": {
    "colab": {
     "autoexec": {
      "startup": false,
      "wait_interval": 0
     }
    },
    "colab_type": "code",
    "id": "5jvG7AbDcW-X"
   },
   "outputs": [
    {
     "ename": "LoadError",
     "evalue": "syntax: incomplete: \"for\" at In[8]:1 requires end",
     "output_type": "error",
     "traceback": [
      "syntax: incomplete: \"for\" at In[8]:1 requires end",
      "",
      "Stacktrace:",
      " [1] top-level scope",
      "   @ In[8]:1"
     ]
    }
   ],
   "source": [
    "for i in range(10)\n",
    "    println(i)"
   ]
  },
  {
   "cell_type": "markdown",
   "metadata": {},
   "source": [
    "### The syntax error says that there is a code structure error in line 1 of the code. The code looks like it is written to print 10 numbers on their own line. This for loop doesn't have an end statement. I added the end statent and the code popped an argument because it didn't find a range for the iterations. I added the starting point, 1, and the step size 5 to print 2 integers between 1 and 10. I do NOT know why it came out with what was returned. Therefore, I ran with increments of 1 and got what was expected, as well as the increments of 5...why did I get the output I did?"
   ]
  },
  {
   "cell_type": "code",
   "execution_count": 13,
   "metadata": {},
   "outputs": [
    {
     "name": "stdout",
     "output_type": "stream",
     "text": [
      "1.0\n",
      "1.0\n",
      "1.0\n",
      "1.0\n",
      "1.0\n",
      "1.0\n",
      "1.0\n",
      "1.0\n",
      "1.0\n",
      "1.0\n"
     ]
    }
   ],
   "source": [
    "for i in range(1, 1, 10)\n",
    "    println(i)\n",
    "end"
   ]
  },
  {
   "cell_type": "code",
   "execution_count": 33,
   "metadata": {},
   "outputs": [
    {
     "name": "stdout",
     "output_type": "stream",
     "text": [
      "1.0\n",
      "1.1111111111111112\n",
      "1.2222222222222223\n",
      "1.3333333333333333\n",
      "1.4444444444444444\n",
      "1.5555555555555556\n",
      "1.6666666666666667\n",
      "1.7777777777777777\n",
      "1.8888888888888888\n",
      "2.0\n"
     ]
    }
   ],
   "source": [
    "for i in range(1, 2, 10)\n",
    "    println(i)\n",
    "end"
   ]
  },
  {
   "cell_type": "code",
   "execution_count": 34,
   "metadata": {},
   "outputs": [
    {
     "ename": "LoadError",
     "evalue": "BoundsError: attempt to access 9-element Vector{Float64} at index [0]",
     "output_type": "error",
     "traceback": [
      "BoundsError: attempt to access 9-element Vector{Float64} at index [0]",
      "",
      "Stacktrace:",
      " [1] getindex(A::Vector{Float64}, i1::Int64)",
      "   @ Base .\\array.jl:924",
      " [2] top-level scope",
      "   @ In[34]:2"
     ]
    }
   ],
   "source": [
    "data = [1.0, 2.0, 4.0, 8.0, 16.0, 32.0, 64.0, 128.0, 256.0]\n",
    "data[0]"
   ]
  },
  {
   "cell_type": "markdown",
   "metadata": {},
   "source": [
    "### A bounds error popped while running the code because it said it was trying to access index 0. However, in arrays, the indices start at 1. The code, by requesting index 0, is looking for the 1.0 in the array, so I changed the data call parameter to 1."
   ]
  },
  {
   "cell_type": "code",
   "execution_count": 14,
   "metadata": {},
   "outputs": [
    {
     "data": {
      "text/plain": [
       "1.0"
      ]
     },
     "execution_count": 14,
     "metadata": {},
     "output_type": "execute_result"
    }
   ],
   "source": [
    "data = [1.0, 2.0, 4.0, 8.0, 16.0, 32.0, 64.0, 128.0, 256.0]\n",
    "data[1]"
   ]
  },
  {
   "cell_type": "code",
   "execution_count": 15,
   "metadata": {
    "colab": {
     "autoexec": {
      "startup": false,
      "wait_interval": 0
     }
    },
    "colab_type": "code",
    "id": "h8kItX78cW-Y"
   },
   "outputs": [
    {
     "ename": "LoadError",
     "evalue": "syntax: extra token \"values\" after end of expression",
     "output_type": "error",
     "traceback": [
      "syntax: extra token \"values\" after end of expression",
      "",
      "Stacktrace:",
      " [1] top-level scope",
      "   @ In[15]:2"
     ]
    }
   ],
   "source": [
    "values = (2,6,0)\n",
    "println values(2)"
   ]
  },
  {
   "cell_type": "markdown",
   "metadata": {},
   "source": [
    "### I'm not sure if this code cell wants to print the second value of an \"array\", all of the values of the variable \"values\", or the return value of a function called values that take a single parameter. To print the output of \"values\" we just need to take off the (2) as it is an extra token for the println. If it was mistakenly coded to be an array index call, I created the array by changing to brackets, and removing the println call.\n",
    "\n",
    "### I did not create a function called values."
   ]
  },
  {
   "cell_type": "code",
   "execution_count": 103,
   "metadata": {},
   "outputs": [
    {
     "name": "stdout",
     "output_type": "stream",
     "text": [
      "(2, 6, 0)\n"
     ]
    }
   ],
   "source": [
    "values = (2,6,0)\n",
    "println(values)"
   ]
  },
  {
   "cell_type": "code",
   "execution_count": 17,
   "metadata": {},
   "outputs": [
    {
     "data": {
      "text/plain": [
       "6"
      ]
     },
     "execution_count": 17,
     "metadata": {},
     "output_type": "execute_result"
    }
   ],
   "source": [
    "values = [2,6,0]\n",
    "values[2]"
   ]
  },
  {
   "cell_type": "markdown",
   "metadata": {
    "colab_type": "text",
    "id": "cIWJwFqNcW-a"
   },
   "source": [
    "## Short Julia snippets\n",
    "Below each markdow cell, write a short Julia snippet to perform the indicated action.<br>\n",
    "Add a markdown cell to explain your thinking if this is needed."
   ]
  },
  {
   "cell_type": "markdown",
   "metadata": {
    "colab_type": "text",
    "id": "pFRbu4rPcW-a"
   },
   "source": [
    "### Write a piece of code to decide if an integer is even or odd. \n",
    "(Print out \"true\" if the number is odd, and \"false\" if it is even.) There are at least two ways to do this in Julia. One involves the modulus function:  mod( ).  You can get help on any function in julia by preceding the name with a question mark; i.e. to get help on the mod( ) function, type ?mod ."
   ]
  },
  {
   "cell_type": "code",
   "execution_count": 23,
   "metadata": {
    "colab": {
     "autoexec": {
      "startup": false,
      "wait_interval": 0
     }
    },
    "colab_type": "code",
    "id": "8PoUMOAucW-b"
   },
   "outputs": [
    {
     "name": "stdout",
     "output_type": "stream",
     "text": [
      "true\n"
     ]
    }
   ],
   "source": [
    "#x = 6                #if even, print false\n",
    "x = 7                 #if odd, print true\n",
    "\n",
    "if x % 2 == 0         #if the remainder of x/2 = 0, call it false\n",
    "    println(\"false\")\n",
    "else                  #else if the remainder of x/2 = 1, call it true because it will indicate an odd number\n",
    "    println(\"true\")\n",
    "end                   #IMPROVE: ADD CODE TO ASK USER TO INPUT A NUMBER, READ THAT NUMBER IN AS X"
   ]
  },
  {
   "cell_type": "markdown",
   "metadata": {
    "colab_type": "text",
    "id": "NSBAVqbDcW-d"
   },
   "source": [
    "#### Sum all of the numbers from 1 to 1,000,000 \n",
    "Solve this by using a for loop."
   ]
  },
  {
   "cell_type": "code",
   "execution_count": 32,
   "metadata": {
    "colab": {
     "autoexec": {
      "startup": false,
      "wait_interval": 0
     }
    },
    "colab_type": "code",
    "id": "9-1pTsX0cW-d"
   },
   "outputs": [
    {
     "name": "stdout",
     "output_type": "stream",
     "text": [
      "5000050000\n"
     ]
    }
   ],
   "source": [
    "x = 0                            #return value for the for loop\n",
    "for i in 1:100000                #iterations starting at 1 and ending at 1  million\n",
    "    x = x + i                    #first iteration would be 0 + 1\n",
    "end\n",
    "println(x)                       #print the return value for x (final sum)"
   ]
  },
  {
   "cell_type": "markdown",
   "metadata": {
    "colab_type": "text",
    "id": "obc3bq9ZcW-f"
   },
   "source": [
    "#### Sum all of the odd numbers from 1 to 1,000,000\n",
    "Again, solve this by using a for loop."
   ]
  },
  {
   "cell_type": "code",
   "execution_count": 35,
   "metadata": {
    "colab": {
     "autoexec": {
      "startup": false,
      "wait_interval": 0
     }
    },
    "colab_type": "code",
    "id": "j6sXki9EcW-f"
   },
   "outputs": [
    {
     "name": "stdout",
     "output_type": "stream",
     "text": [
      "250000000000\n"
     ]
    }
   ],
   "source": [
    "x = 0                            #return value for the for loop\n",
    "#for i in 1:10                   #iterations starting at 1 and ending at 10 to test function, returned 25 which is correct.\n",
    "for i in 1:1000000               #iterations starting at 1 and ending at 1  million\n",
    "    if i % 2 == 0                #if the i value is even, disregard it and...\n",
    "        x = x + 0                #add zero\n",
    "    else\n",
    "        x = x + i                #or else add the odd value of i\n",
    "    end\n",
    "end\n",
    "println(x)                       #print the return value for x (final sum)"
   ]
  },
  {
   "cell_type": "markdown",
   "metadata": {},
   "source": [
    "#### Now sum all the numbers from 1 to 1,000,000 another way.\n",
    "Use the built in function sum( ) to add all the numbers; you should do this in *one line of code without a for loop.*"
   ]
  },
  {
   "cell_type": "code",
   "execution_count": 38,
   "metadata": {},
   "outputs": [
    {
     "data": {
      "text/plain": [
       "500000500000"
      ]
     },
     "execution_count": 38,
     "metadata": {},
     "output_type": "execute_result"
    }
   ],
   "source": [
    "sum(1:1000000)                       #wow...this was my first guess....I was expecting an error to guide me. awesome"
   ]
  },
  {
   "cell_type": "markdown",
   "metadata": {
    "colab_type": "text",
    "id": "b_TYTDp7cW-h"
   },
   "source": [
    "#### Define a string variable s; assign the value 'fishy snack' to it, and then print out the characters one by one"
   ]
  },
  {
   "cell_type": "code",
   "execution_count": 131,
   "metadata": {},
   "outputs": [
    {
     "name": "stdout",
     "output_type": "stream",
     "text": [
      "f\n",
      "i\n",
      "s\n",
      "h\n",
      "y\n",
      " \n",
      "s\n",
      "n\n",
      "a\n",
      "c\n",
      "k\n"
     ]
    }
   ],
   "source": [
    "s = \"fishy snack\"                         #declare string\n",
    "location = firstindex(s)                     #start the location at the first index, or letter, of the string\n",
    "while location <= sizeof(s)                  #while the location is before the last index of the string\n",
    "    letter = s[location]                     #assign the current letter to the current location in the string\n",
    "    println(letter)\n",
    "    location = nextind(s, location)          #move to the next letter\n",
    "end"
   ]
  },
  {
   "cell_type": "markdown",
   "metadata": {
    "colab_type": "text",
    "id": "ipXrlj7TcW-k"
   },
   "source": [
    "#### For the string s above, print out the first 4 characters"
   ]
  },
  {
   "cell_type": "code",
   "execution_count": 92,
   "metadata": {
    "colab": {
     "autoexec": {
      "startup": false,
      "wait_interval": 0
     }
    },
    "colab_type": "code",
    "id": "wNkLuKracW-k"
   },
   "outputs": [
    {
     "name": "stdout",
     "output_type": "stream",
     "text": [
      "fish\n"
     ]
    }
   ],
   "source": [
    "s = \"fishy snack\"\n",
    "first_four = s[1:4]\n",
    "println(first_four)"
   ]
  },
  {
   "cell_type": "markdown",
   "metadata": {
    "colab_type": "text",
    "id": "SKSafv0CcW-m"
   },
   "source": [
    "#### For the string s above, print out the last 4 characters"
   ]
  },
  {
   "cell_type": "code",
   "execution_count": 98,
   "metadata": {
    "colab": {
     "autoexec": {
      "startup": false,
      "wait_interval": 0
     }
    },
    "colab_type": "code",
    "id": "Hrp6M7zScW-m"
   },
   "outputs": [
    {
     "name": "stdout",
     "output_type": "stream",
     "text": [
      "nack\n"
     ]
    }
   ],
   "source": [
    "s = \"fishy snack\"\n",
    "len=length(s)\n",
    "#println(len)                           #testing for length of string\n",
    "#println(len-8)                         \n",
    "last_four = s[len-3:end]                #there is a better way to do this, I was experimenting\n",
    "println(last_four)                      # revisit this code...to clean it up and make it more efficeient and usre friendly"
   ]
  },
  {
   "cell_type": "markdown",
   "metadata": {
    "colab_type": "text",
    "id": "OBhLE_J5cW-o"
   },
   "source": [
    "#### Define a list called months and have each entry of the list contain the three letter abbreviation for each month. Then write a loop to print out each month's abbreviation."
   ]
  },
  {
   "cell_type": "code",
   "execution_count": 121,
   "metadata": {},
   "outputs": [
    {
     "name": "stdout",
     "output_type": "stream",
     "text": [
      "Jan\n",
      "Feb\n",
      "Mar\n",
      "Apr\n",
      "May\n",
      "Jun\n",
      "Jul\n",
      "Aug\n",
      "Sep\n",
      "Oct\n",
      "Nov\n"
     ]
    }
   ],
   "source": [
    "monthlist = (\"Jan\", \"Feb\", \"Mar\", \"Apr\", \"May\", \"Jun\", \"Jul\", \"Aug\", \"Sep\", \"Oct\", \"Nov\", \"Dec\") #list of 3 letter abbreviations\n",
    "len = length(monthlist)\n",
    "index = firstindex(monthlist)\n",
    "while index < len\n",
    "    abbrev = monthlist[index]\n",
    "    println(abbrev)\n",
    "    global index = nextind(monthlist, index)\n",
    "end"
   ]
  },
  {
   "cell_type": "markdown",
   "metadata": {
    "colab": {
     "autoexec": {
      "startup": false,
      "wait_interval": 0
     }
    },
    "colab_type": "code",
    "id": "t6lTIRPMcW-o"
   },
   "source": [
    "## Plotting\n",
    "As we move forward, the following cell will typically be at the top of each notebook. \n",
    "This cell imports the Plots package, sets the backend to gr(), and defines some nice plot defaults\n",
    "which you can alter or overwrite on a plot-by-plot basis. \n",
    "To execute the cell press shift-enter."
   ]
  },
  {
   "cell_type": "code",
   "execution_count": 1,
   "metadata": {
    "colab": {
     "autoexec": {
      "startup": false,
      "wait_interval": 0
     }
    },
    "colab_type": "code",
    "id": "wOafJ-GxcW-q"
   },
   "outputs": [
    {
     "data": {
      "image/svg+xml": [
       "<?xml version=\"1.0\" encoding=\"utf-8\"?>\n",
       "<svg xmlns=\"http://www.w3.org/2000/svg\" xmlns:xlink=\"http://www.w3.org/1999/xlink\" width=\"800\" height=\"500\" viewBox=\"0 0 3200 2000\">\n",
       "<defs>\n",
       "  <clipPath id=\"clip960\">\n",
       "    <rect x=\"0\" y=\"0\" width=\"3200\" height=\"2000\"/>\n",
       "  </clipPath>\n",
       "</defs>\n",
       "<path clip-path=\"url(#clip960)\" d=\"M0 2000 L3200 2000 L3200 0 L0 0  Z\" fill=\"#ffffff\" fill-rule=\"evenodd\" fill-opacity=\"1\"/>\n",
       "<defs>\n",
       "  <clipPath id=\"clip961\">\n",
       "    <rect x=\"640\" y=\"0\" width=\"2241\" height=\"2000\"/>\n",
       "  </clipPath>\n",
       "</defs>\n",
       "<path clip-path=\"url(#clip960)\" d=\"M418.73 1693.37 L2553.77 1693.37 L2553.77 141.732 L418.73 141.732  Z\" fill=\"#ffffff\" fill-rule=\"evenodd\" fill-opacity=\"1\"/>\n",
       "<defs>\n",
       "  <clipPath id=\"clip962\">\n",
       "    <rect x=\"418\" y=\"141\" width=\"2136\" height=\"1553\"/>\n",
       "  </clipPath>\n",
       "</defs>\n",
       "<polyline clip-path=\"url(#clip962)\" style=\"stroke:#000000; stroke-linecap:round; stroke-linejoin:round; stroke-width:2; stroke-opacity:0.1; fill:none\" points=\"479.156,1693.37 479.156,141.732 \"/>\n",
       "<polyline clip-path=\"url(#clip962)\" style=\"stroke:#000000; stroke-linecap:round; stroke-linejoin:round; stroke-width:2; stroke-opacity:0.1; fill:none\" points=\"982.703,1693.37 982.703,141.732 \"/>\n",
       "<polyline clip-path=\"url(#clip962)\" style=\"stroke:#000000; stroke-linecap:round; stroke-linejoin:round; stroke-width:2; stroke-opacity:0.1; fill:none\" points=\"1486.25,1693.37 1486.25,141.732 \"/>\n",
       "<polyline clip-path=\"url(#clip962)\" style=\"stroke:#000000; stroke-linecap:round; stroke-linejoin:round; stroke-width:2; stroke-opacity:0.1; fill:none\" points=\"1989.8,1693.37 1989.8,141.732 \"/>\n",
       "<polyline clip-path=\"url(#clip962)\" style=\"stroke:#000000; stroke-linecap:round; stroke-linejoin:round; stroke-width:2; stroke-opacity:0.1; fill:none\" points=\"2493.34,1693.37 2493.34,141.732 \"/>\n",
       "<polyline clip-path=\"url(#clip960)\" style=\"stroke:#000000; stroke-linecap:round; stroke-linejoin:round; stroke-width:4; stroke-opacity:1; fill:none\" points=\"418.73,1693.37 2553.77,1693.37 \"/>\n",
       "<polyline clip-path=\"url(#clip960)\" style=\"stroke:#000000; stroke-linecap:round; stroke-linejoin:round; stroke-width:4; stroke-opacity:1; fill:none\" points=\"418.73,141.732 2553.77,141.732 \"/>\n",
       "<polyline clip-path=\"url(#clip960)\" style=\"stroke:#000000; stroke-linecap:round; stroke-linejoin:round; stroke-width:4; stroke-opacity:1; fill:none\" points=\"479.156,1693.37 479.156,1674.47 \"/>\n",
       "<polyline clip-path=\"url(#clip960)\" style=\"stroke:#000000; stroke-linecap:round; stroke-linejoin:round; stroke-width:4; stroke-opacity:1; fill:none\" points=\"982.703,1693.37 982.703,1674.47 \"/>\n",
       "<polyline clip-path=\"url(#clip960)\" style=\"stroke:#000000; stroke-linecap:round; stroke-linejoin:round; stroke-width:4; stroke-opacity:1; fill:none\" points=\"1486.25,1693.37 1486.25,1674.47 \"/>\n",
       "<polyline clip-path=\"url(#clip960)\" style=\"stroke:#000000; stroke-linecap:round; stroke-linejoin:round; stroke-width:4; stroke-opacity:1; fill:none\" points=\"1989.8,1693.37 1989.8,1674.47 \"/>\n",
       "<polyline clip-path=\"url(#clip960)\" style=\"stroke:#000000; stroke-linecap:round; stroke-linejoin:round; stroke-width:4; stroke-opacity:1; fill:none\" points=\"2493.34,1693.37 2493.34,1674.47 \"/>\n",
       "<path clip-path=\"url(#clip960)\" d=\"M429.724 1769.65 L429.724 1765.17 L449.919 1765.17 L449.919 1769.65 L429.724 1769.65 Z\" fill=\"#000000\" fill-rule=\"evenodd\" fill-opacity=\"1\" /><path clip-path=\"url(#clip960)\" d=\"M457.997 1783.77 Q457.997 1782.4 458.109 1781.99 Q458.257 1781.59 458.85 1780.96 L473.412 1764.73 Q481.379 1755.76 481.379 1747.94 Q481.379 1742.86 478.711 1739.23 Q476.08 1735.6 471.226 1735.6 Q467.891 1735.6 465.075 1737.64 Q462.259 1739.68 460.962 1743.31 Q461.184 1743.23 461.962 1743.23 Q463.852 1743.23 464.89 1744.42 Q465.964 1745.6 465.964 1747.2 Q465.964 1749.24 464.63 1750.24 Q463.333 1751.2 462.036 1751.2 Q461.518 1751.2 460.814 1751.09 Q460.147 1750.98 459.072 1749.94 Q457.997 1748.87 457.997 1746.98 Q457.997 1741.68 461.999 1737.45 Q466.038 1733.23 472.19 1733.23 Q479.156 1733.23 483.714 1737.38 Q488.308 1741.49 488.308 1747.94 Q488.308 1750.2 487.604 1752.27 Q486.937 1754.31 486.011 1755.91 Q485.122 1757.5 482.676 1760.06 Q480.23 1762.61 478.267 1764.43 Q476.303 1766.24 471.893 1770.1 L463.852 1777.92 L477.525 1777.92 Q484.195 1777.92 484.714 1777.32 Q485.455 1776.25 486.382 1770.58 L488.308 1770.58 L486.159 1783.77 L457.997 1783.77 Z\" fill=\"#000000\" fill-rule=\"evenodd\" fill-opacity=\"1\" /><path clip-path=\"url(#clip960)\" d=\"M494.423 1756.76 Q494.423 1755.68 496.016 1753.87 Q497.609 1752.05 499.314 1751.46 Q500.24 1751.16 502.093 1751.13 L526.253 1751.13 Q527.253 1751.13 527.587 1751.5 Q527.92 1751.83 527.92 1752.87 L527.92 1754.31 Q527.92 1755.31 527.587 1755.65 Q527.29 1755.98 526.475 1756.05 L517.953 1756.05 L517.953 1766.32 Q517.953 1778.84 523.288 1778.84 Q524.585 1778.84 525.771 1777.95 Q526.994 1777.03 527.29 1777.03 Q528.587 1777.03 528.587 1779.29 Q528.587 1781.4 527.068 1783.03 Q525.549 1784.62 523.288 1784.62 Q520.843 1784.62 519.249 1783.18 Q517.656 1781.73 516.989 1778.99 Q516.359 1776.25 516.211 1774.17 Q516.063 1772.1 516.063 1768.99 L516.063 1756.05 L506.132 1756.05 L506.132 1766.17 Q506.132 1774.73 504.983 1782.03 Q504.39 1785.14 502.093 1785.14 Q500.722 1785.14 499.833 1784.22 Q498.98 1783.33 498.98 1782.33 Q498.98 1781.4 499.796 1780.14 Q500.648 1778.84 501.611 1777.47 Q502.575 1776.1 503.39 1773.1 Q504.242 1770.1 504.242 1766.32 Q504.242 1766.02 504.205 1765.36 Q504.168 1764.65 504.168 1764.28 L504.168 1756.05 L502.093 1756.05 Q500.055 1756.05 498.573 1756.43 Q497.091 1756.76 496.349 1757.13 Q495.645 1757.5 495.349 1757.5 Q495.052 1757.5 494.719 1757.24 Q494.423 1756.98 494.423 1756.76 Z\" fill=\"#000000\" fill-rule=\"evenodd\" fill-opacity=\"1\" /><path clip-path=\"url(#clip960)\" d=\"M952.244 1769.65 L952.244 1765.17 L972.439 1765.17 L972.439 1769.65 L952.244 1769.65 Z\" fill=\"#000000\" fill-rule=\"evenodd\" fill-opacity=\"1\" /><path clip-path=\"url(#clip960)\" d=\"M978.998 1756.76 Q978.998 1755.68 980.591 1753.87 Q982.184 1752.05 983.889 1751.46 Q984.815 1751.16 986.668 1751.13 L1010.83 1751.13 Q1011.83 1751.13 1012.16 1751.5 Q1012.5 1751.83 1012.5 1752.87 L1012.5 1754.31 Q1012.5 1755.31 1012.16 1755.65 Q1011.87 1755.98 1011.05 1756.05 L1002.53 1756.05 L1002.53 1766.32 Q1002.53 1778.84 1007.86 1778.84 Q1009.16 1778.84 1010.35 1777.95 Q1011.57 1777.03 1011.87 1777.03 Q1013.16 1777.03 1013.16 1779.29 Q1013.16 1781.4 1011.64 1783.03 Q1010.12 1784.62 1007.86 1784.62 Q1005.42 1784.62 1003.82 1783.18 Q1002.23 1781.73 1001.56 1778.99 Q1000.93 1776.25 1000.79 1774.17 Q1000.64 1772.1 1000.64 1768.99 L1000.64 1756.05 L990.707 1756.05 L990.707 1766.17 Q990.707 1774.73 989.558 1782.03 Q988.965 1785.14 986.668 1785.14 Q985.297 1785.14 984.408 1784.22 Q983.555 1783.33 983.555 1782.33 Q983.555 1781.4 984.371 1780.14 Q985.223 1778.84 986.186 1777.47 Q987.15 1776.1 987.965 1773.1 Q988.817 1770.1 988.817 1766.32 Q988.817 1766.02 988.78 1765.36 Q988.743 1764.65 988.743 1764.28 L988.743 1756.05 L986.668 1756.05 Q984.63 1756.05 983.148 1756.43 Q981.666 1756.76 980.924 1757.13 Q980.22 1757.5 979.924 1757.5 Q979.627 1757.5 979.294 1757.24 Q978.998 1756.98 978.998 1756.76 Z\" fill=\"#000000\" fill-rule=\"evenodd\" fill-opacity=\"1\" /><path clip-path=\"url(#clip960)\" d=\"M1470.28 1759.5 Q1470.28 1748.35 1473.1 1742.27 Q1477.02 1733.23 1486.29 1733.23 Q1488.25 1733.23 1490.29 1733.78 Q1492.36 1734.3 1494.96 1736.34 Q1497.59 1738.38 1499.18 1741.71 Q1502.22 1748.16 1502.22 1759.5 Q1502.22 1770.58 1499.4 1776.62 Q1495.29 1785.44 1486.21 1785.44 Q1482.8 1785.44 1479.32 1783.7 Q1475.87 1781.96 1473.69 1777.77 Q1470.28 1771.51 1470.28 1759.5 M1476.58 1758.57 Q1476.58 1770.02 1477.39 1774.58 Q1478.32 1779.51 1480.84 1781.66 Q1483.4 1783.77 1486.21 1783.77 Q1489.25 1783.77 1491.77 1781.51 Q1494.33 1779.21 1495.11 1774.29 Q1495.96 1769.43 1495.92 1758.57 Q1495.92 1748.01 1495.18 1743.79 Q1494.18 1738.86 1491.51 1736.9 Q1488.88 1734.9 1486.21 1734.9 Q1485.21 1734.9 1484.14 1735.19 Q1483.1 1735.49 1481.58 1736.34 Q1480.06 1737.19 1478.88 1739.31 Q1477.73 1741.42 1477.17 1744.6 Q1476.58 1748.72 1476.58 1758.57 Z\" fill=\"#000000\" fill-rule=\"evenodd\" fill-opacity=\"1\" /><path clip-path=\"url(#clip960)\" d=\"M1972.72 1756.76 Q1972.72 1755.68 1974.31 1753.87 Q1975.9 1752.05 1977.61 1751.46 Q1978.53 1751.16 1980.39 1751.13 L2004.55 1751.13 Q2005.55 1751.13 2005.88 1751.5 Q2006.21 1751.83 2006.21 1752.87 L2006.21 1754.31 Q2006.21 1755.31 2005.88 1755.65 Q2005.58 1755.98 2004.77 1756.05 L1996.25 1756.05 L1996.25 1766.32 Q1996.25 1778.84 2001.58 1778.84 Q2002.88 1778.84 2004.06 1777.95 Q2005.29 1777.03 2005.58 1777.03 Q2006.88 1777.03 2006.88 1779.29 Q2006.88 1781.4 2005.36 1783.03 Q2003.84 1784.62 2001.58 1784.62 Q1999.14 1784.62 1997.54 1783.18 Q1995.95 1781.73 1995.28 1778.99 Q1994.65 1776.25 1994.5 1774.17 Q1994.36 1772.1 1994.36 1768.99 L1994.36 1756.05 L1984.42 1756.05 L1984.42 1766.17 Q1984.42 1774.73 1983.28 1782.03 Q1982.68 1785.14 1980.39 1785.14 Q1979.01 1785.14 1978.13 1784.22 Q1977.27 1783.33 1977.27 1782.33 Q1977.27 1781.4 1978.09 1780.14 Q1978.94 1778.84 1979.9 1777.47 Q1980.87 1776.1 1981.68 1773.1 Q1982.53 1770.1 1982.53 1766.32 Q1982.53 1766.02 1982.5 1765.36 Q1982.46 1764.65 1982.46 1764.28 L1982.46 1756.05 L1980.39 1756.05 Q1978.35 1756.05 1976.87 1756.43 Q1975.38 1756.76 1974.64 1757.13 Q1973.94 1757.5 1973.64 1757.5 Q1973.34 1757.5 1973.01 1757.24 Q1972.72 1756.98 1972.72 1756.76 Z\" fill=\"#000000\" fill-rule=\"evenodd\" fill-opacity=\"1\" /><path clip-path=\"url(#clip960)\" d=\"M2458.05 1783.77 Q2458.05 1782.4 2458.16 1781.99 Q2458.31 1781.59 2458.9 1780.96 L2473.46 1764.73 Q2481.43 1755.76 2481.43 1747.94 Q2481.43 1742.86 2478.76 1739.23 Q2476.13 1735.6 2471.28 1735.6 Q2467.94 1735.6 2465.13 1737.64 Q2462.31 1739.68 2461.01 1743.31 Q2461.24 1743.23 2462.01 1743.23 Q2463.9 1743.23 2464.94 1744.42 Q2466.02 1745.6 2466.02 1747.2 Q2466.02 1749.24 2464.68 1750.24 Q2463.39 1751.2 2462.09 1751.2 Q2461.57 1751.2 2460.87 1751.09 Q2460.2 1750.98 2459.12 1749.94 Q2458.05 1748.87 2458.05 1746.98 Q2458.05 1741.68 2462.05 1737.45 Q2466.09 1733.23 2472.24 1733.23 Q2479.21 1733.23 2483.77 1737.38 Q2488.36 1741.49 2488.36 1747.94 Q2488.36 1750.2 2487.66 1752.27 Q2486.99 1754.31 2486.06 1755.91 Q2485.17 1757.5 2482.73 1760.06 Q2480.28 1762.61 2478.32 1764.43 Q2476.35 1766.24 2471.95 1770.1 L2463.9 1777.92 L2477.58 1777.92 Q2484.25 1777.92 2484.77 1777.32 Q2485.51 1776.25 2486.43 1770.58 L2488.36 1770.58 L2486.21 1783.77 L2458.05 1783.77 Z\" fill=\"#000000\" fill-rule=\"evenodd\" fill-opacity=\"1\" /><path clip-path=\"url(#clip960)\" d=\"M2494.47 1756.76 Q2494.47 1755.68 2496.07 1753.87 Q2497.66 1752.05 2499.37 1751.46 Q2500.29 1751.16 2502.15 1751.13 L2526.31 1751.13 Q2527.31 1751.13 2527.64 1751.5 Q2527.97 1751.83 2527.97 1752.87 L2527.97 1754.31 Q2527.97 1755.31 2527.64 1755.65 Q2527.34 1755.98 2526.53 1756.05 L2518 1756.05 L2518 1766.32 Q2518 1778.84 2523.34 1778.84 Q2524.64 1778.84 2525.82 1777.95 Q2527.05 1777.03 2527.34 1777.03 Q2528.64 1777.03 2528.64 1779.29 Q2528.64 1781.4 2527.12 1783.03 Q2525.6 1784.62 2523.34 1784.62 Q2520.9 1784.62 2519.3 1783.18 Q2517.71 1781.73 2517.04 1778.99 Q2516.41 1776.25 2516.26 1774.17 Q2516.11 1772.1 2516.11 1768.99 L2516.11 1756.05 L2506.18 1756.05 L2506.18 1766.17 Q2506.18 1774.73 2505.04 1782.03 Q2504.44 1785.14 2502.15 1785.14 Q2500.77 1785.14 2499.88 1784.22 Q2499.03 1783.33 2499.03 1782.33 Q2499.03 1781.4 2499.85 1780.14 Q2500.7 1778.84 2501.66 1777.47 Q2502.63 1776.1 2503.44 1773.1 Q2504.29 1770.1 2504.29 1766.32 Q2504.29 1766.02 2504.26 1765.36 Q2504.22 1764.65 2504.22 1764.28 L2504.22 1756.05 L2502.15 1756.05 Q2500.11 1756.05 2498.62 1756.43 Q2497.14 1756.76 2496.4 1757.13 Q2495.7 1757.5 2495.4 1757.5 Q2495.1 1757.5 2494.77 1757.24 Q2494.47 1756.98 2494.47 1756.76 Z\" fill=\"#000000\" fill-rule=\"evenodd\" fill-opacity=\"1\" /><path clip-path=\"url(#clip960)\" d=\"M1386.21 1836.39 Q1386.21 1844.26 1383.68 1853.12 Q1381.2 1861.93 1377.26 1869.05 Q1373.33 1876.12 1368.17 1880.8 Q1363.02 1885.44 1358.1 1885.44 Q1354.96 1885.44 1352.62 1883.71 Q1350.32 1881.93 1349.06 1878.98 Q1347.79 1875.98 1347.19 1872.7 Q1346.58 1869.37 1346.58 1865.77 Q1346.58 1860.38 1347.75 1854.52 Q1348.92 1848.62 1350.89 1843.28 Q1352.85 1837.89 1355.62 1833.02 Q1358.38 1828.1 1361.43 1824.54 Q1364.52 1820.94 1367.99 1818.83 Q1371.45 1816.72 1374.68 1816.72 Q1377.03 1816.72 1378.9 1817.75 Q1380.82 1818.73 1382.04 1820.47 Q1383.26 1822.15 1384.1 1824.17 Q1384.99 1826.18 1385.41 1828.52 Q1385.83 1830.82 1386.02 1832.74 Q1386.21 1834.61 1386.21 1836.39 M1379.88 1830.45 Q1379.88 1828.06 1379.7 1826.28 Q1379.51 1824.45 1378.99 1822.62 Q1378.48 1820.8 1377.35 1819.81 Q1376.28 1818.83 1374.59 1818.83 Q1369.67 1818.83 1364.14 1828.9 Q1362.36 1832.04 1360.77 1836.3 Q1359.18 1840.56 1358.62 1842.58 Q1358.05 1844.59 1356.74 1849.56 L1376.79 1849.56 Q1379.88 1836.77 1379.88 1830.45 M1375.95 1852.6 L1355.99 1852.6 Q1352.9 1864.31 1352.9 1871.62 Q1352.9 1877.99 1354.21 1880.66 Q1355.57 1883.29 1358.1 1883.29 Q1361.01 1883.29 1363.72 1880.38 Q1366.44 1877.43 1369.2 1872.09 Q1372.86 1865.16 1375.95 1852.6 Z\" fill=\"#006400\" fill-rule=\"evenodd\" fill-opacity=\"1\" /><path clip-path=\"url(#clip960)\" d=\"M1412.24 1860.38 Q1412.24 1844.17 1418.28 1831.1 Q1420.86 1825.62 1424.47 1821.03 Q1428.08 1816.44 1430.46 1814.42 Q1432.85 1812.41 1433.51 1812.41 Q1434.45 1812.41 1434.49 1813.35 Q1434.49 1813.82 1433.23 1814.99 Q1417.77 1830.73 1417.82 1860.38 Q1417.82 1890.13 1432.85 1905.26 Q1434.49 1906.9 1434.49 1907.41 Q1434.49 1908.35 1433.51 1908.35 Q1432.85 1908.35 1430.56 1906.43 Q1428.26 1904.51 1424.7 1900.1 Q1421.14 1895.7 1418.57 1890.31 Q1412.24 1877.24 1412.24 1860.38 Z\" fill=\"#006400\" fill-rule=\"evenodd\" fill-opacity=\"1\" /><path clip-path=\"url(#clip960)\" d=\"M1480.85 1848.2 Q1480.85 1850.68 1479.21 1852.28 Q1477.62 1853.87 1475.56 1853.87 Q1473.78 1853.87 1472.84 1852.84 Q1471.91 1851.81 1471.91 1850.5 Q1471.91 1848.62 1473.36 1847.08 Q1474.81 1845.53 1476.92 1845.2 Q1475.37 1844.08 1472.89 1844.08 Q1468.81 1844.08 1465.21 1847.22 Q1463.61 1848.67 1461.88 1851.34 Q1460.15 1853.96 1459.82 1855.09 L1456.78 1867.59 Q1456.49 1869 1454.76 1875.74 Q1453.07 1882.44 1452.93 1882.72 Q1452.47 1884.04 1451.43 1884.74 Q1450.4 1885.44 1449.37 1885.44 Q1448.2 1885.44 1447.41 1884.74 Q1446.61 1884.04 1446.61 1882.82 Q1446.61 1882.63 1446.75 1881.93 Q1446.89 1881.23 1447.12 1880.24 Q1447.36 1879.26 1447.45 1878.7 L1453.03 1856.54 Q1454.06 1852.51 1454.29 1851.24 Q1454.57 1849.93 1454.57 1848.48 Q1454.57 1845.95 1453.78 1845.01 Q1452.98 1844.08 1451.58 1844.08 Q1449.14 1844.08 1447.55 1846.98 Q1445.95 1849.89 1444.6 1855.51 Q1444.17 1857.05 1443.89 1857.38 Q1443.66 1857.71 1442.96 1857.71 Q1441.78 1857.66 1441.78 1856.73 Q1441.78 1856.49 1442.16 1854.99 Q1442.53 1853.45 1443.24 1851.2 Q1443.99 1848.9 1444.78 1847.45 Q1445.25 1846.47 1445.67 1845.81 Q1446.09 1845.15 1446.94 1844.12 Q1447.78 1843.09 1449.05 1842.53 Q1450.31 1841.97 1451.86 1841.97 Q1455.23 1841.97 1457.62 1844.03 Q1460.05 1846.09 1460.62 1849.32 Q1461.79 1847.64 1463.24 1846.19 Q1464.69 1844.69 1467.36 1843.33 Q1470.03 1841.97 1472.89 1841.97 Q1476.45 1841.97 1478.65 1843.8 Q1480.85 1845.58 1480.85 1848.2 Z\" fill=\"#006400\" fill-rule=\"evenodd\" fill-opacity=\"1\" /><path clip-path=\"url(#clip960)\" d=\"M1531.49 1870.64 Q1530.23 1876.68 1528.59 1880.15 Q1525.96 1885.44 1521.51 1885.44 Q1518.14 1885.44 1515.75 1883.38 Q1513.36 1881.32 1512.8 1878.23 Q1506.66 1885.44 1500.29 1885.44 Q1494.67 1885.44 1491.11 1881.18 Q1487.55 1876.87 1487.55 1870.08 Q1487.55 1863.24 1490.92 1856.68 Q1494.34 1850.12 1499.73 1846.04 Q1505.12 1841.97 1510.64 1841.97 Q1516.5 1841.97 1519.5 1848.11 Q1519.73 1846.42 1520.81 1845.15 Q1521.89 1843.89 1523.53 1843.89 Q1524.79 1843.89 1525.54 1844.59 Q1526.29 1845.25 1526.29 1846.47 Q1526.29 1847.08 1525.64 1849.75 L1522.17 1863.14 L1520.06 1871.81 Q1519.26 1875 1519.03 1876.17 Q1518.84 1877.34 1518.84 1878.88 Q1518.84 1883.29 1521.7 1883.29 Q1523.11 1883.29 1524.23 1882.4 Q1525.35 1881.51 1526.24 1879.63 Q1527.13 1877.76 1527.7 1876.03 Q1528.26 1874.25 1529.01 1871.43 Q1529.24 1870.31 1529.43 1870.03 Q1529.66 1869.7 1530.32 1869.7 Q1531.49 1869.7 1531.49 1870.64 M1518.33 1852.51 Q1518.33 1852.09 1518 1850.92 Q1517.67 1849.75 1516.92 1848.11 Q1516.17 1846.47 1514.53 1845.3 Q1512.94 1844.08 1510.79 1844.08 Q1507.88 1844.08 1504.84 1846.56 Q1501.84 1849.04 1499.64 1853.26 Q1497.95 1856.63 1496.12 1863.71 Q1494.34 1870.78 1494.34 1874.29 Q1494.34 1876.45 1494.81 1878.37 Q1495.33 1880.24 1496.78 1881.79 Q1498.23 1883.29 1500.48 1883.29 Q1505.96 1883.29 1511.35 1876.49 Q1512.38 1875.32 1512.61 1874.85 Q1512.89 1874.34 1513.27 1872.93 L1518.05 1854.15 Q1518.33 1852.74 1518.33 1852.51 Z\" fill=\"#006400\" fill-rule=\"evenodd\" fill-opacity=\"1\" /><path clip-path=\"url(#clip960)\" d=\"M1583.47 1818.83 L1569.65 1874.29 Q1569.09 1876.78 1569.09 1878.88 Q1569.09 1883.29 1571.95 1883.29 Q1573.35 1883.29 1574.48 1882.4 Q1575.6 1881.51 1576.49 1879.63 Q1577.38 1877.76 1577.94 1876.03 Q1578.51 1874.25 1579.26 1871.43 Q1579.49 1870.31 1579.68 1870.03 Q1579.91 1869.7 1580.57 1869.7 Q1581.74 1869.7 1581.74 1870.64 Q1580.47 1876.68 1578.83 1880.15 Q1576.21 1885.44 1571.76 1885.44 Q1568.39 1885.44 1566 1883.38 Q1563.61 1881.32 1563.05 1878.23 Q1556.91 1885.44 1550.54 1885.44 Q1544.92 1885.44 1541.36 1881.18 Q1537.8 1876.87 1537.8 1870.08 Q1537.8 1863.24 1541.17 1856.68 Q1544.59 1850.12 1549.98 1846.04 Q1555.36 1841.97 1560.89 1841.97 Q1566.75 1841.97 1569.75 1848.11 L1575.51 1825.34 L1575.79 1823.47 Q1575.79 1822.9 1575.56 1822.62 Q1575.37 1822.29 1574.24 1822.06 Q1573.17 1821.83 1571.01 1821.83 Q1570.12 1821.83 1569.7 1821.78 Q1569.32 1821.73 1569 1821.5 Q1568.67 1821.22 1568.67 1820.66 Q1568.67 1819.02 1570.03 1818.83 Q1579.02 1817.8 1582.21 1817.8 Q1582.77 1817.8 1583.1 1818.08 Q1583.43 1818.31 1583.43 1818.59 L1583.47 1818.83 M1568.58 1852.51 Q1568.58 1852.09 1568.25 1850.92 Q1567.92 1849.75 1567.17 1848.11 Q1566.42 1846.47 1564.78 1845.3 Q1563.19 1844.08 1561.03 1844.08 Q1558.13 1844.08 1555.08 1846.56 Q1552.09 1849.04 1549.88 1853.26 Q1548.2 1856.63 1546.37 1863.71 Q1544.59 1870.78 1544.59 1874.29 Q1544.59 1876.45 1545.06 1878.37 Q1545.57 1880.24 1547.03 1881.79 Q1548.48 1883.29 1550.73 1883.29 Q1556.21 1883.29 1561.6 1876.49 Q1562.63 1875.32 1562.86 1874.85 Q1563.14 1874.34 1563.52 1872.93 L1568.29 1854.15 Q1568.58 1852.74 1568.58 1852.51 Z\" fill=\"#006400\" fill-rule=\"evenodd\" fill-opacity=\"1\" /><path clip-path=\"url(#clip960)\" d=\"M1589.08 1907.41 Q1589.08 1906.94 1590.3 1905.77 Q1605.76 1890.03 1605.76 1860.38 Q1605.76 1830.63 1590.91 1815.6 Q1589.08 1813.86 1589.08 1813.35 Q1589.08 1812.41 1590.02 1812.41 Q1590.68 1812.41 1592.97 1814.33 Q1595.31 1816.25 1598.83 1820.66 Q1602.39 1825.06 1605.01 1830.45 Q1611.34 1843.52 1611.34 1860.38 Q1611.34 1876.59 1605.29 1889.66 Q1602.72 1895.14 1599.11 1899.73 Q1595.5 1904.32 1593.11 1906.33 Q1590.72 1908.35 1590.02 1908.35 Q1589.08 1908.35 1589.08 1907.41 Z\" fill=\"#006400\" fill-rule=\"evenodd\" fill-opacity=\"1\" /><polyline clip-path=\"url(#clip962)\" style=\"stroke:#000000; stroke-linecap:round; stroke-linejoin:round; stroke-width:2; stroke-opacity:0.1; fill:none\" points=\"418.73,1649.46 2553.77,1649.46 \"/>\n",
       "<polyline clip-path=\"url(#clip962)\" style=\"stroke:#000000; stroke-linecap:round; stroke-linejoin:round; stroke-width:2; stroke-opacity:0.1; fill:none\" points=\"418.73,1283.51 2553.77,1283.51 \"/>\n",
       "<polyline clip-path=\"url(#clip962)\" style=\"stroke:#000000; stroke-linecap:round; stroke-linejoin:round; stroke-width:2; stroke-opacity:0.1; fill:none\" points=\"418.73,917.555 2553.77,917.555 \"/>\n",
       "<polyline clip-path=\"url(#clip962)\" style=\"stroke:#000000; stroke-linecap:round; stroke-linejoin:round; stroke-width:2; stroke-opacity:0.1; fill:none\" points=\"418.73,551.601 2553.77,551.601 \"/>\n",
       "<polyline clip-path=\"url(#clip962)\" style=\"stroke:#000000; stroke-linecap:round; stroke-linejoin:round; stroke-width:2; stroke-opacity:0.1; fill:none\" points=\"418.73,185.647 2553.77,185.647 \"/>\n",
       "<polyline clip-path=\"url(#clip962)\" style=\"stroke:#000000; stroke-linecap:round; stroke-linejoin:round; stroke-width:2; stroke-opacity:0.05; fill:none\" points=\"418.73,1576.27 2553.77,1576.27 \"/>\n",
       "<polyline clip-path=\"url(#clip962)\" style=\"stroke:#000000; stroke-linecap:round; stroke-linejoin:round; stroke-width:2; stroke-opacity:0.05; fill:none\" points=\"418.73,1503.08 2553.77,1503.08 \"/>\n",
       "<polyline clip-path=\"url(#clip962)\" style=\"stroke:#000000; stroke-linecap:round; stroke-linejoin:round; stroke-width:2; stroke-opacity:0.05; fill:none\" points=\"418.73,1429.89 2553.77,1429.89 \"/>\n",
       "<polyline clip-path=\"url(#clip962)\" style=\"stroke:#000000; stroke-linecap:round; stroke-linejoin:round; stroke-width:2; stroke-opacity:0.05; fill:none\" points=\"418.73,1356.7 2553.77,1356.7 \"/>\n",
       "<polyline clip-path=\"url(#clip962)\" style=\"stroke:#000000; stroke-linecap:round; stroke-linejoin:round; stroke-width:2; stroke-opacity:0.05; fill:none\" points=\"418.73,1210.32 2553.77,1210.32 \"/>\n",
       "<polyline clip-path=\"url(#clip962)\" style=\"stroke:#000000; stroke-linecap:round; stroke-linejoin:round; stroke-width:2; stroke-opacity:0.05; fill:none\" points=\"418.73,1137.13 2553.77,1137.13 \"/>\n",
       "<polyline clip-path=\"url(#clip962)\" style=\"stroke:#000000; stroke-linecap:round; stroke-linejoin:round; stroke-width:2; stroke-opacity:0.05; fill:none\" points=\"418.73,1063.94 2553.77,1063.94 \"/>\n",
       "<polyline clip-path=\"url(#clip962)\" style=\"stroke:#000000; stroke-linecap:round; stroke-linejoin:round; stroke-width:2; stroke-opacity:0.05; fill:none\" points=\"418.73,990.746 2553.77,990.746 \"/>\n",
       "<polyline clip-path=\"url(#clip962)\" style=\"stroke:#000000; stroke-linecap:round; stroke-linejoin:round; stroke-width:2; stroke-opacity:0.05; fill:none\" points=\"418.73,844.364 2553.77,844.364 \"/>\n",
       "<polyline clip-path=\"url(#clip962)\" style=\"stroke:#000000; stroke-linecap:round; stroke-linejoin:round; stroke-width:2; stroke-opacity:0.05; fill:none\" points=\"418.73,771.173 2553.77,771.173 \"/>\n",
       "<polyline clip-path=\"url(#clip962)\" style=\"stroke:#000000; stroke-linecap:round; stroke-linejoin:round; stroke-width:2; stroke-opacity:0.05; fill:none\" points=\"418.73,697.983 2553.77,697.983 \"/>\n",
       "<polyline clip-path=\"url(#clip962)\" style=\"stroke:#000000; stroke-linecap:round; stroke-linejoin:round; stroke-width:2; stroke-opacity:0.05; fill:none\" points=\"418.73,624.792 2553.77,624.792 \"/>\n",
       "<polyline clip-path=\"url(#clip962)\" style=\"stroke:#000000; stroke-linecap:round; stroke-linejoin:round; stroke-width:2; stroke-opacity:0.05; fill:none\" points=\"418.73,478.41 2553.77,478.41 \"/>\n",
       "<polyline clip-path=\"url(#clip962)\" style=\"stroke:#000000; stroke-linecap:round; stroke-linejoin:round; stroke-width:2; stroke-opacity:0.05; fill:none\" points=\"418.73,405.219 2553.77,405.219 \"/>\n",
       "<polyline clip-path=\"url(#clip962)\" style=\"stroke:#000000; stroke-linecap:round; stroke-linejoin:round; stroke-width:2; stroke-opacity:0.05; fill:none\" points=\"418.73,332.028 2553.77,332.028 \"/>\n",
       "<polyline clip-path=\"url(#clip962)\" style=\"stroke:#000000; stroke-linecap:round; stroke-linejoin:round; stroke-width:2; stroke-opacity:0.05; fill:none\" points=\"418.73,258.837 2553.77,258.837 \"/>\n",
       "<polyline clip-path=\"url(#clip960)\" style=\"stroke:#000000; stroke-linecap:round; stroke-linejoin:round; stroke-width:4; stroke-opacity:1; fill:none\" points=\"418.73,1693.37 418.73,141.732 \"/>\n",
       "<polyline clip-path=\"url(#clip960)\" style=\"stroke:#000000; stroke-linecap:round; stroke-linejoin:round; stroke-width:4; stroke-opacity:1; fill:none\" points=\"2553.77,1693.37 2553.77,141.732 \"/>\n",
       "<polyline clip-path=\"url(#clip960)\" style=\"stroke:#000000; stroke-linecap:round; stroke-linejoin:round; stroke-width:4; stroke-opacity:1; fill:none\" points=\"418.73,1649.46 434.016,1649.46 \"/>\n",
       "<polyline clip-path=\"url(#clip960)\" style=\"stroke:#000000; stroke-linecap:round; stroke-linejoin:round; stroke-width:4; stroke-opacity:1; fill:none\" points=\"418.73,1283.51 434.016,1283.51 \"/>\n",
       "<polyline clip-path=\"url(#clip960)\" style=\"stroke:#000000; stroke-linecap:round; stroke-linejoin:round; stroke-width:4; stroke-opacity:1; fill:none\" points=\"418.73,917.555 434.016,917.555 \"/>\n",
       "<polyline clip-path=\"url(#clip960)\" style=\"stroke:#000000; stroke-linecap:round; stroke-linejoin:round; stroke-width:4; stroke-opacity:1; fill:none\" points=\"418.73,551.601 434.016,551.601 \"/>\n",
       "<polyline clip-path=\"url(#clip960)\" style=\"stroke:#000000; stroke-linecap:round; stroke-linejoin:round; stroke-width:4; stroke-opacity:1; fill:none\" points=\"418.73,185.647 434.016,185.647 \"/>\n",
       "<polyline clip-path=\"url(#clip960)\" style=\"stroke:#000000; stroke-linecap:round; stroke-linejoin:round; stroke-width:4; stroke-opacity:1; fill:none\" points=\"418.73,1576.27 426.373,1576.27 \"/>\n",
       "<polyline clip-path=\"url(#clip960)\" style=\"stroke:#000000; stroke-linecap:round; stroke-linejoin:round; stroke-width:4; stroke-opacity:1; fill:none\" points=\"418.73,1503.08 426.373,1503.08 \"/>\n",
       "<polyline clip-path=\"url(#clip960)\" style=\"stroke:#000000; stroke-linecap:round; stroke-linejoin:round; stroke-width:4; stroke-opacity:1; fill:none\" points=\"418.73,1429.89 426.373,1429.89 \"/>\n",
       "<polyline clip-path=\"url(#clip960)\" style=\"stroke:#000000; stroke-linecap:round; stroke-linejoin:round; stroke-width:4; stroke-opacity:1; fill:none\" points=\"418.73,1356.7 426.373,1356.7 \"/>\n",
       "<polyline clip-path=\"url(#clip960)\" style=\"stroke:#000000; stroke-linecap:round; stroke-linejoin:round; stroke-width:4; stroke-opacity:1; fill:none\" points=\"418.73,1210.32 426.373,1210.32 \"/>\n",
       "<polyline clip-path=\"url(#clip960)\" style=\"stroke:#000000; stroke-linecap:round; stroke-linejoin:round; stroke-width:4; stroke-opacity:1; fill:none\" points=\"418.73,1137.13 426.373,1137.13 \"/>\n",
       "<polyline clip-path=\"url(#clip960)\" style=\"stroke:#000000; stroke-linecap:round; stroke-linejoin:round; stroke-width:4; stroke-opacity:1; fill:none\" points=\"418.73,1063.94 426.373,1063.94 \"/>\n",
       "<polyline clip-path=\"url(#clip960)\" style=\"stroke:#000000; stroke-linecap:round; stroke-linejoin:round; stroke-width:4; stroke-opacity:1; fill:none\" points=\"418.73,990.746 426.373,990.746 \"/>\n",
       "<polyline clip-path=\"url(#clip960)\" style=\"stroke:#000000; stroke-linecap:round; stroke-linejoin:round; stroke-width:4; stroke-opacity:1; fill:none\" points=\"418.73,844.364 426.373,844.364 \"/>\n",
       "<polyline clip-path=\"url(#clip960)\" style=\"stroke:#000000; stroke-linecap:round; stroke-linejoin:round; stroke-width:4; stroke-opacity:1; fill:none\" points=\"418.73,771.173 426.373,771.173 \"/>\n",
       "<polyline clip-path=\"url(#clip960)\" style=\"stroke:#000000; stroke-linecap:round; stroke-linejoin:round; stroke-width:4; stroke-opacity:1; fill:none\" points=\"418.73,697.983 426.373,697.983 \"/>\n",
       "<polyline clip-path=\"url(#clip960)\" style=\"stroke:#000000; stroke-linecap:round; stroke-linejoin:round; stroke-width:4; stroke-opacity:1; fill:none\" points=\"418.73,624.792 426.373,624.792 \"/>\n",
       "<polyline clip-path=\"url(#clip960)\" style=\"stroke:#000000; stroke-linecap:round; stroke-linejoin:round; stroke-width:4; stroke-opacity:1; fill:none\" points=\"418.73,478.41 426.373,478.41 \"/>\n",
       "<polyline clip-path=\"url(#clip960)\" style=\"stroke:#000000; stroke-linecap:round; stroke-linejoin:round; stroke-width:4; stroke-opacity:1; fill:none\" points=\"418.73,405.219 426.373,405.219 \"/>\n",
       "<polyline clip-path=\"url(#clip960)\" style=\"stroke:#000000; stroke-linecap:round; stroke-linejoin:round; stroke-width:4; stroke-opacity:1; fill:none\" points=\"418.73,332.028 426.373,332.028 \"/>\n",
       "<polyline clip-path=\"url(#clip960)\" style=\"stroke:#000000; stroke-linecap:round; stroke-linejoin:round; stroke-width:4; stroke-opacity:1; fill:none\" points=\"418.73,258.837 426.373,258.837 \"/>\n",
       "<path clip-path=\"url(#clip960)\" d=\"M272.127 1655.34 Q272.571 1655.78 272.571 1656.41 Q272.571 1657.04 272.127 1657.49 Q271.682 1657.93 271.052 1657.93 L223.548 1657.93 Q222.918 1657.93 222.473 1657.49 Q222.028 1657.04 222.028 1656.41 Q222.028 1655.78 222.473 1655.34 Q222.918 1654.89 223.548 1654.89 L271.052 1654.89 Q271.682 1654.89 272.127 1655.34 Z\" fill=\"#000000\" fill-rule=\"evenodd\" fill-opacity=\"1\" /><path clip-path=\"url(#clip960)\" d=\"M283.54 1632.07 L283.54 1629.69 Q292.655 1629.69 297.361 1624.84 Q298.658 1624.84 298.88 1625.14 Q299.103 1625.43 299.103 1626.8 L299.103 1669.38 Q299.103 1671.64 300.214 1672.35 Q301.326 1673.05 306.18 1673.05 L308.589 1673.05 L308.589 1675.38 Q305.921 1675.16 296.287 1675.16 Q286.652 1675.16 284.021 1675.38 L284.021 1673.05 L286.43 1673.05 Q291.21 1673.05 292.359 1672.38 Q293.508 1671.68 293.508 1669.38 L293.508 1630.07 Q289.543 1632.07 283.54 1632.07 Z\" fill=\"#000000\" fill-rule=\"evenodd\" fill-opacity=\"1\" /><path clip-path=\"url(#clip960)\" d=\"M322.336 1674.16 Q321.188 1672.94 321.188 1671.34 Q321.188 1669.75 322.336 1668.6 Q323.485 1667.42 325.227 1667.42 Q326.894 1667.42 328.006 1668.53 Q329.154 1669.6 329.154 1671.38 Q329.154 1673.12 327.932 1674.27 Q326.746 1675.38 325.227 1675.38 Q323.485 1675.38 322.336 1674.16 Z\" fill=\"#000000\" fill-rule=\"evenodd\" fill-opacity=\"1\" /><path clip-path=\"url(#clip960)\" d=\"M338.789 1651.11 Q338.789 1639.96 341.605 1633.88 Q345.533 1624.84 354.797 1624.84 Q356.76 1624.84 358.798 1625.4 Q360.874 1625.92 363.467 1627.95 Q366.098 1629.99 367.692 1633.33 Q370.73 1639.77 370.73 1651.11 Q370.73 1662.19 367.914 1668.23 Q363.801 1677.05 354.722 1677.05 Q351.313 1677.05 347.83 1675.31 Q344.384 1673.57 342.198 1669.38 Q338.789 1663.12 338.789 1651.11 M345.088 1650.19 Q345.088 1661.64 345.903 1666.19 Q346.83 1671.12 349.349 1673.27 Q351.906 1675.38 354.722 1675.38 Q357.761 1675.38 360.281 1673.12 Q362.837 1670.83 363.616 1665.9 Q364.468 1661.04 364.431 1650.19 Q364.431 1639.63 363.69 1635.4 Q362.689 1630.47 360.021 1628.51 Q357.39 1626.51 354.722 1626.51 Q353.722 1626.51 352.647 1626.8 Q351.61 1627.1 350.091 1627.95 Q348.571 1628.81 347.386 1630.92 Q346.237 1633.03 345.681 1636.22 Q345.088 1640.33 345.088 1650.19 Z\" fill=\"#000000\" fill-rule=\"evenodd\" fill-opacity=\"1\" /><path clip-path=\"url(#clip960)\" d=\"M272.942 1289.38 Q273.387 1289.83 273.387 1290.46 Q273.387 1291.09 272.942 1291.53 Q272.497 1291.98 271.867 1291.98 L224.363 1291.98 Q223.733 1291.98 223.288 1291.53 Q222.844 1291.09 222.844 1290.46 Q222.844 1289.83 223.288 1289.38 Q223.733 1288.94 224.363 1288.94 L271.867 1288.94 Q272.497 1288.94 272.942 1289.38 Z\" fill=\"#000000\" fill-rule=\"evenodd\" fill-opacity=\"1\" /><path clip-path=\"url(#clip960)\" d=\"M280.575 1285.16 Q280.575 1274 283.391 1267.93 Q287.319 1258.89 296.583 1258.89 Q298.547 1258.89 300.585 1259.44 Q302.66 1259.96 305.254 1262 Q307.885 1264.04 309.478 1267.37 Q312.517 1273.82 312.517 1285.16 Q312.517 1296.24 309.701 1302.28 Q305.587 1311.1 296.509 1311.1 Q293.1 1311.1 289.617 1309.36 Q286.171 1307.61 283.984 1303.43 Q280.575 1297.16 280.575 1285.16 M286.875 1284.23 Q286.875 1295.68 287.69 1300.24 Q288.616 1305.17 291.136 1307.32 Q293.693 1309.43 296.509 1309.43 Q299.547 1309.43 302.067 1307.17 Q304.624 1304.87 305.402 1299.94 Q306.254 1295.09 306.217 1284.23 Q306.217 1273.67 305.476 1269.45 Q304.476 1264.52 301.808 1262.55 Q299.177 1260.55 296.509 1260.55 Q295.508 1260.55 294.434 1260.85 Q293.396 1261.15 291.877 1262 Q290.358 1262.85 289.172 1264.96 Q288.023 1267.08 287.468 1270.26 Q286.875 1274.38 286.875 1284.23 Z\" fill=\"#000000\" fill-rule=\"evenodd\" fill-opacity=\"1\" /><path clip-path=\"url(#clip960)\" d=\"M323.152 1308.21 Q322.003 1306.98 322.003 1305.39 Q322.003 1303.8 323.152 1302.65 Q324.3 1301.46 326.042 1301.46 Q327.709 1301.46 328.821 1302.57 Q329.97 1303.65 329.97 1305.43 Q329.97 1307.17 328.747 1308.32 Q327.561 1309.43 326.042 1309.43 Q324.3 1309.43 323.152 1308.21 Z\" fill=\"#000000\" fill-rule=\"evenodd\" fill-opacity=\"1\" /><path clip-path=\"url(#clip960)\" d=\"M340.419 1297.2 Q340.419 1294.94 341.642 1294.09 Q342.865 1293.2 344.162 1293.2 Q345.903 1293.2 346.904 1294.31 Q347.941 1295.39 347.941 1296.9 Q347.941 1298.42 346.904 1299.54 Q345.903 1300.61 344.162 1300.61 Q343.309 1300.61 342.865 1300.46 Q343.865 1303.95 346.904 1306.47 Q349.979 1308.98 354.018 1308.98 Q359.095 1308.98 362.133 1304.06 Q363.949 1300.87 363.949 1293.64 Q363.949 1287.27 362.578 1284.08 Q360.466 1279.23 356.131 1279.23 Q349.979 1279.23 346.348 1284.53 Q345.903 1285.2 345.385 1285.23 Q344.643 1285.23 344.458 1284.82 Q344.31 1284.38 344.31 1283.23 L344.31 1260.78 Q344.31 1258.96 345.051 1258.96 Q345.348 1258.96 345.977 1259.18 Q350.758 1261.29 356.056 1261.33 Q361.504 1261.33 366.395 1259.11 Q366.765 1258.89 366.988 1258.89 Q367.729 1258.89 367.766 1259.74 Q367.766 1260.04 367.136 1260.92 Q366.543 1261.78 365.246 1262.93 Q363.949 1264.04 362.282 1265.11 Q360.614 1266.19 358.169 1266.93 Q355.76 1267.63 353.092 1267.63 Q349.905 1267.63 346.644 1266.63 L346.644 1281.42 Q350.572 1277.56 356.279 1277.56 Q362.356 1277.56 366.543 1282.45 Q370.73 1287.34 370.73 1294.16 Q370.73 1301.31 365.765 1306.21 Q360.837 1311.1 354.167 1311.1 Q348.09 1311.1 344.236 1306.76 Q340.419 1302.43 340.419 1297.2 Z\" fill=\"#000000\" fill-rule=\"evenodd\" fill-opacity=\"1\" /><path clip-path=\"url(#clip960)\" d=\"M279.76 919.204 Q279.76 908.051 282.576 901.974 Q286.504 892.932 295.768 892.932 Q297.732 892.932 299.77 893.488 Q301.845 894.007 304.439 896.045 Q307.07 898.083 308.663 901.418 Q311.702 907.865 311.702 919.204 Q311.702 930.284 308.885 936.324 Q304.772 945.143 295.694 945.143 Q292.285 945.143 288.802 943.401 Q285.355 941.659 283.169 937.472 Q279.76 931.21 279.76 919.204 M286.059 918.278 Q286.059 929.728 286.875 934.286 Q287.801 939.214 290.321 941.363 Q292.878 943.475 295.694 943.475 Q298.732 943.475 301.252 941.215 Q303.809 938.917 304.587 933.989 Q305.439 929.135 305.402 918.278 Q305.402 907.717 304.661 903.493 Q303.661 898.564 300.993 896.601 Q298.362 894.6 295.694 894.6 Q294.693 894.6 293.619 894.896 Q292.581 895.192 291.062 896.045 Q289.543 896.897 288.357 899.009 Q287.208 901.121 286.652 904.308 Q286.059 908.421 286.059 918.278 Z\" fill=\"#000000\" fill-rule=\"evenodd\" fill-opacity=\"1\" /><path clip-path=\"url(#clip960)\" d=\"M322.336 942.252 Q321.188 941.03 321.188 939.436 Q321.188 937.843 322.336 936.694 Q323.485 935.508 325.227 935.508 Q326.894 935.508 328.006 936.62 Q329.154 937.695 329.154 939.473 Q329.154 941.215 327.932 942.364 Q326.746 943.475 325.227 943.475 Q323.485 943.475 322.336 942.252 Z\" fill=\"#000000\" fill-rule=\"evenodd\" fill-opacity=\"1\" /><path clip-path=\"url(#clip960)\" d=\"M338.789 919.204 Q338.789 908.051 341.605 901.974 Q345.533 892.932 354.797 892.932 Q356.76 892.932 358.798 893.488 Q360.874 894.007 363.467 896.045 Q366.098 898.083 367.692 901.418 Q370.73 907.865 370.73 919.204 Q370.73 930.284 367.914 936.324 Q363.801 945.143 354.722 945.143 Q351.313 945.143 347.83 943.401 Q344.384 941.659 342.198 937.472 Q338.789 931.21 338.789 919.204 M345.088 918.278 Q345.088 929.728 345.903 934.286 Q346.83 939.214 349.349 941.363 Q351.906 943.475 354.722 943.475 Q357.761 943.475 360.281 941.215 Q362.837 938.917 363.616 933.989 Q364.468 929.135 364.431 918.278 Q364.431 907.717 363.69 903.493 Q362.689 898.564 360.021 896.601 Q357.39 894.6 354.722 894.6 Q353.722 894.6 352.647 894.896 Q351.61 895.192 350.091 896.045 Q348.571 896.897 347.386 899.009 Q346.237 901.121 345.681 904.308 Q345.088 908.421 345.088 918.278 Z\" fill=\"#000000\" fill-rule=\"evenodd\" fill-opacity=\"1\" /><path clip-path=\"url(#clip960)\" d=\"M280.575 553.25 Q280.575 542.096 283.391 536.019 Q287.319 526.978 296.583 526.978 Q298.547 526.978 300.585 527.534 Q302.66 528.052 305.254 530.09 Q307.885 532.128 309.478 535.463 Q312.517 541.911 312.517 553.25 Q312.517 564.329 309.701 570.369 Q305.587 579.188 296.509 579.188 Q293.1 579.188 289.617 577.447 Q286.171 575.705 283.984 571.518 Q280.575 565.256 280.575 553.25 M286.875 552.323 Q286.875 563.773 287.69 568.331 Q288.616 573.26 291.136 575.409 Q293.693 577.521 296.509 577.521 Q299.547 577.521 302.067 575.261 Q304.624 572.963 305.402 568.035 Q306.254 563.181 306.217 552.323 Q306.217 541.763 305.476 537.538 Q304.476 532.61 301.808 530.646 Q299.177 528.645 296.509 528.645 Q295.508 528.645 294.434 528.942 Q293.396 529.238 291.877 530.09 Q290.358 530.943 289.172 533.055 Q288.023 535.167 287.468 538.354 Q286.875 542.467 286.875 552.323 Z\" fill=\"#000000\" fill-rule=\"evenodd\" fill-opacity=\"1\" /><path clip-path=\"url(#clip960)\" d=\"M323.152 576.298 Q322.003 575.075 322.003 573.482 Q322.003 571.889 323.152 570.74 Q324.3 569.554 326.042 569.554 Q327.709 569.554 328.821 570.666 Q329.97 571.74 329.97 573.519 Q329.97 575.261 328.747 576.409 Q327.561 577.521 326.042 577.521 Q324.3 577.521 323.152 576.298 Z\" fill=\"#000000\" fill-rule=\"evenodd\" fill-opacity=\"1\" /><path clip-path=\"url(#clip960)\" d=\"M340.419 565.293 Q340.419 563.032 341.642 562.18 Q342.865 561.291 344.162 561.291 Q345.903 561.291 346.904 562.402 Q347.941 563.477 347.941 564.996 Q347.941 566.516 346.904 567.627 Q345.903 568.702 344.162 568.702 Q343.309 568.702 342.865 568.554 Q343.865 572.037 346.904 574.556 Q349.979 577.076 354.018 577.076 Q359.095 577.076 362.133 572.148 Q363.949 568.961 363.949 561.735 Q363.949 555.362 362.578 552.175 Q360.466 547.321 356.131 547.321 Q349.979 547.321 346.348 552.62 Q345.903 553.287 345.385 553.324 Q344.643 553.324 344.458 552.916 Q344.31 552.472 344.31 551.323 L344.31 528.868 Q344.31 527.052 345.051 527.052 Q345.348 527.052 345.977 527.274 Q350.758 529.386 356.056 529.423 Q361.504 529.423 366.395 527.2 Q366.765 526.978 366.988 526.978 Q367.729 526.978 367.766 527.83 Q367.766 528.127 367.136 529.016 Q366.543 529.868 365.246 531.017 Q363.949 532.128 362.282 533.203 Q360.614 534.278 358.169 535.019 Q355.76 535.723 353.092 535.723 Q349.905 535.723 346.644 534.722 L346.644 549.507 Q350.572 545.654 356.279 545.654 Q362.356 545.654 366.543 550.545 Q370.73 555.436 370.73 562.254 Q370.73 569.406 365.765 574.297 Q360.837 579.188 354.167 579.188 Q348.09 579.188 344.236 574.853 Q340.419 570.517 340.419 565.293 Z\" fill=\"#000000\" fill-rule=\"evenodd\" fill-opacity=\"1\" /><path clip-path=\"url(#clip960)\" d=\"M283.54 168.249 L283.54 165.878 Q292.655 165.878 297.361 161.024 Q298.658 161.024 298.88 161.32 Q299.103 161.616 299.103 162.987 L299.103 205.564 Q299.103 207.824 300.214 208.528 Q301.326 209.232 306.18 209.232 L308.589 209.232 L308.589 211.567 Q305.921 211.344 296.287 211.344 Q286.652 211.344 284.021 211.567 L284.021 209.232 L286.43 209.232 Q291.21 209.232 292.359 208.565 Q293.508 207.861 293.508 205.564 L293.508 166.248 Q289.543 168.249 283.54 168.249 Z\" fill=\"#000000\" fill-rule=\"evenodd\" fill-opacity=\"1\" /><path clip-path=\"url(#clip960)\" d=\"M322.336 210.344 Q321.188 209.121 321.188 207.528 Q321.188 205.934 322.336 204.786 Q323.485 203.6 325.227 203.6 Q326.894 203.6 328.006 204.711 Q329.154 205.786 329.154 207.565 Q329.154 209.306 327.932 210.455 Q326.746 211.567 325.227 211.567 Q323.485 211.567 322.336 210.344 Z\" fill=\"#000000\" fill-rule=\"evenodd\" fill-opacity=\"1\" /><path clip-path=\"url(#clip960)\" d=\"M338.789 187.296 Q338.789 176.142 341.605 170.065 Q345.533 161.024 354.797 161.024 Q356.76 161.024 358.798 161.579 Q360.874 162.098 363.467 164.136 Q366.098 166.174 367.692 169.509 Q370.73 175.957 370.73 187.296 Q370.73 198.375 367.914 204.415 Q363.801 213.234 354.722 213.234 Q351.313 213.234 347.83 211.492 Q344.384 209.751 342.198 205.564 Q338.789 199.301 338.789 187.296 M345.088 186.369 Q345.088 197.819 345.903 202.377 Q346.83 207.305 349.349 209.454 Q351.906 211.567 354.722 211.567 Q357.761 211.567 360.281 209.306 Q362.837 207.009 363.616 202.081 Q364.468 197.226 364.431 186.369 Q364.431 175.808 363.69 171.584 Q362.689 166.656 360.021 164.692 Q357.39 162.691 354.722 162.691 Q353.722 162.691 352.647 162.987 Q351.61 163.284 350.091 164.136 Q348.571 164.988 347.386 167.101 Q346.237 169.213 345.681 172.399 Q345.088 176.513 345.088 186.369 Z\" fill=\"#000000\" fill-rule=\"evenodd\" fill-opacity=\"1\" /><path clip-path=\"url(#clip960)\" d=\"M168.215 1027.62 Q166.201 1027.62 165.124 1026.45 Q164.093 1025.23 164.093 1023.59 Q164.093 1021.86 165.17 1020.73 Q166.295 1019.56 168.122 1019.56 Q171.682 1019.56 172.15 1023.31 Q173.884 1021.48 173.884 1018.81 Q173.884 1015.95 171.776 1013.66 Q169.668 1011.32 167.653 1010.33 Q165.639 1009.3 161.985 1007.85 Q159.127 1006.49 156.317 1005.46 L121.277 1019.84 Q118.981 1020.78 118.466 1022.23 Q117.951 1023.68 117.951 1027.62 L114.953 1027.62 Q115.234 1023.31 115.234 1018.3 Q115.234 1015.34 114.953 1007.85 L117.951 1007.85 Q117.951 1013.24 120.434 1013.24 Q120.715 1013.24 122.167 1012.67 L147.978 1001.99 L124.369 992.296 Q123.01 991.734 122.073 991.734 Q118.138 991.734 117.951 996.231 L114.953 996.231 Q115.234 989.907 115.234 987.893 Q115.234 983.958 114.953 980.726 L117.951 980.726 Q117.951 987.143 124.087 989.626 L165.03 1006.54 Q175.945 1011.13 175.992 1018.81 Q175.992 1022.46 173.743 1025.04 Q171.495 1027.62 168.215 1027.62 Z\" fill=\"#006400\" fill-rule=\"evenodd\" fill-opacity=\"1\" /><path clip-path=\"url(#clip960)\" d=\"M132.332 956.432 Q116.124 956.432 103.054 950.389 Q97.5733 947.812 92.9825 944.205 Q88.3917 940.598 86.3773 938.209 Q84.363 935.82 84.363 935.164 Q84.363 934.227 85.2999 934.18 Q85.7684 934.18 86.9395 935.445 Q102.679 950.904 132.332 950.857 Q162.079 950.857 177.21 935.82 Q178.849 934.18 179.364 934.18 Q180.301 934.18 180.301 935.164 Q180.301 935.82 178.381 938.115 Q176.46 940.411 172.057 943.971 Q167.653 947.531 162.266 950.107 Q149.196 956.432 132.332 956.432 Z\" fill=\"#006400\" fill-rule=\"evenodd\" fill-opacity=\"1\" /><path clip-path=\"url(#clip960)\" d=\"M156.317 926.888 L153.366 926.888 Q153.366 921.782 152.757 920.611 Q152.101 919.44 149.009 919.44 L123.291 919.44 Q119.731 919.44 118.841 920.705 Q117.951 921.923 117.951 926.888 L114.953 926.888 L113.922 913.397 L123.994 913.397 Q113.922 908.9 113.922 899.203 Q113.922 887.96 123.291 886.414 Q119.637 884.775 116.78 881.355 Q113.922 877.889 113.922 872.502 Q113.922 865.287 117.482 862.43 Q119.871 860.322 122.542 859.9 Q125.212 859.479 132.145 859.479 L150.461 859.479 Q152.475 859.385 152.944 857.839 Q153.366 856.293 153.366 851.983 L156.317 851.983 Q156.036 861.774 156.036 862.711 Q156.036 863.46 156.317 873.579 L153.366 873.579 Q153.366 868.473 152.757 867.302 Q152.101 866.084 149.009 866.084 L126.664 866.084 Q121.792 866.084 118.935 867.583 Q116.03 869.082 116.03 873.204 Q116.03 878.17 120.199 882.152 Q124.369 886.133 131.395 886.133 L149.009 886.133 Q152.101 886.133 152.757 884.962 Q153.366 883.744 153.366 878.638 L156.317 878.638 Q156.036 888.429 156.036 889.413 Q156.036 890.162 156.317 900.234 L153.366 900.234 Q153.366 895.128 152.757 893.956 Q152.101 892.738 149.009 892.738 L126.664 892.738 Q121.792 892.738 118.935 894.238 Q116.03 895.737 116.03 899.859 Q116.03 904.824 120.199 908.806 Q124.369 912.788 131.395 912.788 L149.009 912.788 Q152.101 912.788 152.757 911.617 Q153.366 910.399 153.366 905.34 L156.317 905.34 Q156.036 915.13 156.036 916.067 Q156.036 916.817 156.317 926.888 Z\" fill=\"#006400\" fill-rule=\"evenodd\" fill-opacity=\"1\" /><path clip-path=\"url(#clip960)\" d=\"M179.364 844.326 Q178.896 844.326 177.725 843.108 Q161.985 827.649 132.332 827.649 Q102.586 827.649 87.5485 842.499 Q85.8152 844.326 85.2999 844.326 Q84.363 844.326 84.363 843.389 Q84.363 842.733 86.2837 840.438 Q88.2043 838.095 92.6077 834.582 Q97.0111 831.022 102.398 828.398 Q115.468 822.074 132.332 822.074 Q148.541 822.074 161.61 828.117 Q167.091 830.694 171.682 834.301 Q176.273 837.908 178.287 840.297 Q180.301 842.686 180.301 843.389 Q180.301 844.326 179.364 844.326 Z\" fill=\"#006400\" fill-rule=\"evenodd\" fill-opacity=\"1\" /><polyline clip-path=\"url(#clip962)\" style=\"stroke:#009af9; stroke-linecap:round; stroke-linejoin:round; stroke-width:8; stroke-opacity:0.7; fill:none\" points=\"479.156,917.555 482.434,902.586 485.713,887.623 488.991,872.673 492.269,857.742 507.426,789.133 522.583,721.672 537.739,655.961 552.896,592.588 560.474,561.955 568.052,532.118 575.631,503.142 583.209,475.092 590.787,448.031 598.366,422.02 605.944,397.116 613.522,373.375 622.631,346.454 631.739,321.378 640.848,298.226 649.956,277.073 659.065,257.988 668.173,241.033 677.282,226.262 686.39,213.723 694.091,204.892 701.793,197.706 709.494,192.182 717.195,188.332 724.896,186.165 732.597,185.686 740.298,186.897 747.999,189.793 756.365,194.843 764.73,201.861 773.096,210.828 781.461,221.719 789.827,234.506 798.193,249.153 806.558,265.62 814.924,283.863 822.636,302.212 830.348,321.984 838.061,343.136 845.773,365.617 853.485,389.375 861.198,414.356 868.91,440.502 876.622,467.753 884.891,498.122 893.159,529.608 901.428,562.126 909.696,595.59 926.233,664.995 942.77,737.087 981.089,910.184 1019.41,1083.7 1036.43,1158.34 1053.46,1230.27 1061.97,1264.96 1070.49,1298.67 1079,1331.3 1087.51,1362.77 1094.98,1389.34 1102.45,1414.88 1109.91,1439.34 1117.38,1462.67 1124.84,1484.82 1132.31,1505.74 1139.77,1525.38 1147.24,1543.71 1155.38,1562.14 1163.52,1578.9 1171.66,1593.97 1179.8,1607.28 1187.94,1618.83 1196.07,1628.56 1204.21,1636.46 1212.35,1642.5 1220.54,1646.7 1228.73,1648.99 1236.92,1649.38 1245.1,1647.86 1253.29,1644.43 1261.48,1639.1 1269.67,1631.89 1277.86,1622.82 1286.91,1610.65 1295.96,1596.27 1305.01,1579.73 1314.07,1561.07 1323.12,1540.36 1332.17,1517.67 1341.22,1493.06 1350.28,1466.62 1358.89,1439.83 1367.5,1411.54 1376.12,1381.81 1384.73,1350.75 1393.34,1318.44 1401.96,1284.97 1410.57,1250.44 1419.18,1214.95 1437.09,1138.52 1455.01,1059.33 1472.92,978.367 1490.83,896.65 1505.91,828.021 1520.98,760.185 1536.06,693.74 1551.14,629.274 1560.34,591.139 1569.55,554.08 1578.75,518.219 1587.96,483.674 1597.16,450.56 1606.37,418.985 1615.57,389.054 1624.77,360.866 1633.21,336.651 1641.64,314.044 1650.07,293.107 1658.5,273.897 1666.93,256.467 1675.36,240.867 1683.79,227.139 1692.23,215.32 1700.01,206.131 1707.8,198.62 1715.59,192.805 1723.38,188.701 1731.16,186.317 1738.95,185.659 1746.74,186.728 1754.52,189.521 1762.41,194.103 1770.3,200.436 1778.19,208.506 1786.08,218.293 1793.97,229.773 1801.85,242.919 1809.74,257.698 1817.63,274.075 1826.47,294.279 1835.31,316.378 1844.15,340.306 1852.99,365.989 1861.83,393.35 1870.67,422.305 1879.51,452.767 1888.35,484.641 1896.36,514.665 1904.38,545.695 1912.39,577.653 1920.4,610.461 1936.42,678.292 1952.44,748.513 1989.13,914.5 2025.82,1080.65 2042.8,1155.2 2059.79,1227.08 2068.28,1261.77 2076.77,1295.5 2085.26,1328.16 2093.76,1359.67 2102.13,1389.52 2110.5,1418.09 2118.87,1445.28 2127.25,1471.04 2135.62,1495.29 2143.99,1517.97 2152.36,1539 2160.74,1558.34 2168.86,1575.45 2176.99,1590.86 2185.12,1604.54 2193.25,1616.46 2201.38,1626.57 2209.51,1634.87 2217.64,1641.32 2225.77,1645.91 2234.1,1648.67 2242.43,1649.45 2250.77,1648.26 2259.1,1645.09 2267.43,1639.96 2275.77,1632.87 2284.1,1623.85 2292.43,1612.92 2301.56,1598.79 2310.69,1582.45 2319.82,1563.96 2328.95,1543.36 2338.08,1520.74 2347.21,1496.16 2356.34,1469.71 2365.47,1441.46 2378.74,1397.42 2392,1350.1 2405.26,1299.83 2418.53,1246.93 2431.79,1191.78 2445.05,1134.76 2458.31,1076.24 2471.58,1016.65 2477.02,991.974 2482.46,967.215 2487.9,942.4 2493.34,917.555 \"/>\n",
       "<polyline clip-path=\"url(#clip962)\" style=\"stroke:#e26f46; stroke-linecap:round; stroke-linejoin:round; stroke-width:8; stroke-opacity:0.7; fill:none\" points=\"479.156,185.647 482.434,185.8 485.713,186.259 488.991,187.024 492.269,188.095 499.848,191.737 507.426,197.001 515.004,203.876 522.583,212.346 530.161,222.392 537.739,233.992 545.318,247.119 552.896,261.745 560.474,277.837 568.052,295.359 575.631,314.271 583.209,334.532 590.787,356.095 598.366,378.914 605.944,402.936 613.522,428.109 622.631,459.806 631.739,492.982 640.848,527.528 649.956,563.333 659.065,600.283 668.173,638.256 677.282,677.131 686.39,716.782 717.195,854.915 747.999,995.354 764.73,1070.76 781.461,1144.5 798.193,1215.76 814.924,1283.79 822.636,1313.84 830.348,1342.98 838.061,1371.13 845.773,1398.24 853.485,1424.23 861.198,1449.04 868.91,1472.63 876.622,1494.94 884.891,1517.36 893.159,1538.19 901.428,1557.37 909.696,1574.84 917.964,1590.57 926.233,1604.51 934.501,1616.62 942.77,1626.87 952.349,1636.38 961.929,1643.33 971.509,1647.68 981.089,1649.43 990.669,1648.56 1000.25,1645.08 1009.83,1639.01 1019.41,1630.36 1027.92,1620.53 1036.43,1608.72 1044.95,1594.96 1053.46,1579.3 1061.97,1561.76 1070.49,1542.41 1079,1521.3 1087.51,1498.48 1094.98,1477.12 1102.45,1454.55 1109.91,1430.81 1117.38,1405.96 1124.84,1380.05 1132.31,1353.13 1139.77,1325.28 1147.24,1296.53 1163.52,1231.1 1179.8,1162.43 1196.07,1091.24 1212.35,1018.26 1245.1,869.061 1277.86,721.884 1286.91,682.384 1295.96,643.635 1305.01,605.759 1314.07,568.878 1323.12,533.108 1332.17,498.565 1341.22,465.357 1350.28,433.592 1358.89,404.8 1367.5,377.487 1376.12,351.734 1384.73,327.615 1393.34,305.198 1401.96,284.55 1410.57,265.729 1419.18,248.79 1428.14,233.226 1437.09,219.797 1446.05,208.546 1455.01,199.508 1463.96,192.712 1472.92,188.177 1481.87,185.919 1490.83,185.945 1498.37,187.737 1505.91,191.144 1513.45,196.157 1520.98,202.765 1528.52,210.955 1536.06,220.707 1543.6,232.001 1551.14,244.811 1560.34,262.465 1569.55,282.279 1578.75,304.187 1587.96,328.117 1597.16,353.99 1606.37,381.721 1615.57,411.218 1624.77,442.385 1633.21,472.313 1641.64,503.472 1650.07,535.778 1658.5,569.139 1675.36,638.659 1692.23,711.263 1723.38,850.758 1754.52,992.767 1770.3,1063.95 1786.08,1133.71 1801.85,1201.38 1817.63,1266.3 1826.47,1301.24 1835.31,1335.02 1844.15,1367.53 1852.99,1398.66 1861.83,1428.34 1870.67,1456.46 1879.51,1482.94 1888.35,1507.7 1896.36,1528.59 1904.38,1547.96 1912.39,1565.75 1920.4,1581.92 1928.41,1596.43 1936.42,1609.25 1944.43,1620.34 1952.44,1629.68 1961.61,1638.18 1970.78,1644.32 1979.96,1648.08 1989.13,1649.46 1998.3,1648.43 2007.47,1645.02 2016.64,1639.22 2025.82,1631.06 2034.31,1621.42 2042.8,1609.81 2051.29,1596.25 2059.79,1580.79 2068.28,1563.47 2076.77,1544.33 2085.26,1523.44 2093.76,1500.84 2102.13,1476.96 2110.5,1451.56 2118.87,1424.7 2127.25,1396.45 2135.62,1366.9 2143.99,1336.12 2152.36,1304.2 2160.74,1271.23 2176.99,1204.52 2193.25,1134.87 2209.51,1062.99 2225.77,989.603 2259.1,837.67 2292.43,689.179 2301.56,649.962 2310.69,611.612 2319.82,574.255 2328.95,538.012 2338.08,502.999 2347.21,469.332 2356.34,437.118 2365.47,406.463 2372.11,385.231 2378.74,364.91 2385.37,345.535 2392,327.139 2398.63,309.753 2405.26,293.408 2411.89,278.131 2418.53,263.948 2425.16,250.884 2431.79,238.961 2438.42,228.199 2445.05,218.617 2451.68,210.232 2458.31,203.057 2464.95,197.105 2471.58,192.386 2477.02,189.44 2482.46,187.333 2487.9,186.068 2493.34,185.647 \"/>\n",
       "<path clip-path=\"url(#clip960)\" d=\"M2641.75 387.854 L3058.27 387.854 L3058.27 193.454 L2641.75 193.454  Z\" fill=\"#ffffff\" fill-rule=\"evenodd\" fill-opacity=\"1\"/>\n",
       "<polyline clip-path=\"url(#clip960)\" style=\"stroke:#000000; stroke-linecap:round; stroke-linejoin:round; stroke-width:4; stroke-opacity:1; fill:none\" points=\"2641.75,387.854 3058.27,387.854 3058.27,193.454 2641.75,193.454 2641.75,387.854 \"/>\n",
       "<polyline clip-path=\"url(#clip960)\" style=\"stroke:#009af9; stroke-linecap:round; stroke-linejoin:round; stroke-width:10; stroke-opacity:0.7; fill:none\" points=\"2671.08,258.254 2847.05,258.254 \"/>\n",
       "<path clip-path=\"url(#clip960)\" d=\"M2876.38 272.307 L2876.38 264.402 Q2876.38 263.728 2876.41 263.494 Q2876.44 263.26 2876.61 263.084 Q2876.79 262.909 2877.14 262.909 Q2877.55 262.909 2877.7 263.084 Q2877.87 263.26 2877.99 263.933 Q2878.9 268.062 2880.83 270.257 Q2882.79 272.424 2886.33 272.424 Q2889.7 272.424 2891.4 270.931 Q2893.1 269.438 2893.1 266.978 Q2893.1 262.587 2886.86 261.474 Q2883.26 260.742 2881.77 260.274 Q2880.27 259.776 2878.96 258.693 Q2876.38 256.585 2876.38 253.598 Q2876.38 250.612 2878.63 248.416 Q2880.92 246.22 2885.95 246.22 Q2889.32 246.22 2891.6 247.918 Q2892.28 247.391 2892.63 246.952 Q2893.42 246.22 2893.83 246.22 Q2894.3 246.22 2894.39 246.542 Q2894.47 246.835 2894.47 247.684 L2894.47 253.715 Q2894.47 254.389 2894.44 254.623 Q2894.42 254.857 2894.24 255.033 Q2894.06 255.179 2893.68 255.179 Q2893.01 255.179 2892.98 254.623 Q2892.51 247.362 2885.95 247.362 Q2882.41 247.362 2880.83 248.738 Q2879.25 250.085 2879.25 251.929 Q2879.25 252.954 2879.72 253.745 Q2880.22 254.506 2880.83 254.974 Q2881.47 255.413 2882.65 255.853 Q2883.82 256.262 2884.52 256.409 Q2885.25 256.555 2886.63 256.848 Q2891.43 257.756 2893.45 259.717 Q2895.97 262.235 2895.97 265.426 Q2895.97 268.969 2893.57 271.37 Q2891.17 273.771 2886.33 273.771 Q2882.44 273.771 2879.72 271.165 Q2879.37 271.516 2879.1 271.838 Q2878.84 272.131 2878.72 272.248 Q2878.63 272.365 2878.61 272.453 Q2878.58 272.512 2878.52 272.57 Q2877.32 273.771 2877.02 273.771 Q2876.56 273.771 2876.47 273.449 Q2876.38 273.156 2876.38 272.307 Z\" fill=\"#000000\" fill-rule=\"evenodd\" fill-opacity=\"1\" /><path clip-path=\"url(#clip960)\" d=\"M2898.31 273.097 L2898.31 271.253 Q2901.5 271.253 2902.23 270.872 Q2902.96 270.462 2902.96 268.53 L2902.96 252.398 Q2902.96 250.173 2902.2 249.646 Q2901.47 249.119 2898.54 249.119 L2898.54 247.245 L2906.92 246.601 L2906.92 268.589 Q2906.92 270.374 2907.56 270.814 Q2908.2 271.253 2911.13 271.253 L2911.13 273.097 Q2905.01 272.922 2904.9 272.922 Q2904.08 272.922 2898.31 273.097 M2900.83 236.148 Q2900.83 234.948 2901.73 233.982 Q2902.67 232.986 2903.99 232.986 Q2905.31 232.986 2906.24 233.894 Q2907.18 234.772 2907.18 236.178 Q2907.18 237.554 2906.24 238.461 Q2905.31 239.34 2903.99 239.34 Q2902.61 239.34 2901.7 238.374 Q2900.83 237.407 2900.83 236.148 Z\" fill=\"#000000\" fill-rule=\"evenodd\" fill-opacity=\"1\" /><path clip-path=\"url(#clip960)\" d=\"M2915.23 273.097 L2915.23 271.253 Q2918.42 271.253 2919.15 270.872 Q2919.88 270.462 2919.88 268.53 L2919.88 252.456 Q2919.88 250.231 2919.09 249.675 Q2918.33 249.119 2915.23 249.119 L2915.23 247.245 L2923.66 246.601 L2923.66 252.895 Q2926.47 246.601 2932.53 246.601 Q2937.04 246.601 2938.82 248.826 Q2940.14 250.319 2940.41 251.988 Q2940.7 253.657 2940.7 257.99 L2940.7 269.438 Q2940.76 270.697 2941.72 270.989 Q2942.69 271.253 2945.38 271.253 L2945.38 273.097 Q2939.26 272.922 2938.65 272.922 Q2938.18 272.922 2931.89 273.097 L2931.89 271.253 Q2935.08 271.253 2935.81 270.872 Q2936.57 270.462 2936.57 268.53 L2936.57 254.564 Q2936.57 251.519 2935.63 249.733 Q2934.7 247.918 2932.12 247.918 Q2929.02 247.918 2926.53 250.524 Q2924.04 253.13 2924.04 257.521 L2924.04 268.53 Q2924.04 270.462 2924.77 270.872 Q2925.53 271.253 2928.69 271.253 L2928.69 273.097 Q2922.57 272.922 2921.99 272.922 Q2921.52 272.922 2915.23 273.097 Z\" fill=\"#000000\" fill-rule=\"evenodd\" fill-opacity=\"1\" /><path clip-path=\"url(#clip960)\" d=\"M2948.16 258.107 Q2948.16 247.977 2951.94 239.808 Q2953.55 236.383 2955.8 233.513 Q2958.06 230.644 2959.55 229.385 Q2961.04 228.126 2961.45 228.126 Q2962.04 228.126 2962.07 228.712 Q2962.07 229.005 2961.28 229.737 Q2951.62 239.574 2951.64 258.107 Q2951.64 276.699 2961.04 286.155 Q2962.07 287.18 2962.07 287.502 Q2962.07 288.088 2961.45 288.088 Q2961.04 288.088 2959.61 286.887 Q2958.17 285.687 2955.95 282.935 Q2953.72 280.183 2952.11 276.816 Q2948.16 268.647 2948.16 258.107 Z\" fill=\"#000000\" fill-rule=\"evenodd\" fill-opacity=\"1\" /><path clip-path=\"url(#clip960)\" d=\"M2992.59 243.117 Q2992.59 248.035 2991.01 253.569 Q2989.46 259.073 2987 263.523 Q2984.54 267.944 2981.32 270.872 Q2978.1 273.771 2975.02 273.771 Q2973.06 273.771 2971.6 272.687 Q2970.16 271.575 2969.37 269.73 Q2968.58 267.857 2968.2 265.807 Q2967.82 263.728 2967.82 261.474 Q2967.82 258.107 2968.55 254.447 Q2969.28 250.758 2970.51 247.42 Q2971.74 244.054 2973.47 241.009 Q2975.2 237.934 2977.1 235.709 Q2979.03 233.455 2981.2 232.137 Q2983.37 230.82 2985.39 230.82 Q2986.85 230.82 2988.02 231.464 Q2989.22 232.079 2989.98 233.162 Q2990.74 234.216 2991.27 235.475 Q2991.83 236.734 2992.09 238.198 Q2992.36 239.633 2992.47 240.833 Q2992.59 242.004 2992.59 243.117 M2988.64 239.398 Q2988.64 237.905 2988.52 236.793 Q2988.4 235.651 2988.08 234.509 Q2987.76 233.367 2987.06 232.752 Q2986.38 232.137 2985.33 232.137 Q2982.25 232.137 2978.8 238.432 Q2977.69 240.394 2976.69 243.058 Q2975.7 245.722 2975.34 246.981 Q2974.99 248.24 2974.17 251.344 L2986.7 251.344 Q2988.64 243.351 2988.64 239.398 M2986.18 253.247 L2973.7 253.247 Q2971.77 260.566 2971.77 265.134 Q2971.77 269.116 2972.59 270.784 Q2973.44 272.424 2975.02 272.424 Q2976.84 272.424 2978.54 270.609 Q2980.23 268.764 2981.96 265.426 Q2984.24 261.093 2986.18 253.247 Z\" fill=\"#000000\" fill-rule=\"evenodd\" fill-opacity=\"1\" /><path clip-path=\"url(#clip960)\" d=\"M2998.77 287.502 Q2998.77 287.209 2999.53 286.477 Q3009.2 276.64 3009.2 258.107 Q3009.2 239.515 2999.91 230.117 Q2998.77 229.034 2998.77 228.712 Q2998.77 228.126 2999.36 228.126 Q2999.77 228.126 3001.2 229.327 Q3002.67 230.527 3004.86 233.279 Q3007.09 236.031 3008.73 239.398 Q3012.68 247.567 3012.68 258.107 Q3012.68 268.237 3008.9 276.406 Q3007.29 279.831 3005.04 282.701 Q3002.78 285.57 3001.29 286.829 Q2999.8 288.088 2999.36 288.088 Q2998.77 288.088 2998.77 287.502 Z\" fill=\"#000000\" fill-rule=\"evenodd\" fill-opacity=\"1\" /><polyline clip-path=\"url(#clip960)\" style=\"stroke:#e26f46; stroke-linecap:round; stroke-linejoin:round; stroke-width:10; stroke-opacity:0.7; fill:none\" points=\"2671.08,323.054 2847.05,323.054 \"/>\n",
       "<path clip-path=\"url(#clip960)\" d=\"M2880.19 334.618 Q2876.38 330.636 2876.38 324.956 Q2876.38 319.247 2880.13 315.148 Q2883.88 311.02 2889.38 311.02 Q2893.04 311.02 2895.79 312.777 Q2898.54 314.504 2898.54 317.461 Q2898.54 318.779 2897.75 319.54 Q2896.99 320.272 2895.79 320.272 Q2894.53 320.272 2893.77 319.511 Q2893.04 318.72 2893.04 317.52 Q2893.04 316.993 2893.22 316.466 Q2893.39 315.939 2894.04 315.383 Q2894.71 314.826 2895.85 314.738 Q2893.71 312.543 2889.56 312.543 Q2889.5 312.543 2889.44 312.543 Q2886.39 312.543 2883.88 315.412 Q2881.36 318.281 2881.36 324.839 Q2881.36 328.265 2882.18 330.783 Q2883.03 333.271 2884.4 334.56 Q2885.78 335.848 2887.13 336.463 Q2888.47 337.048 2889.79 337.048 Q2895.67 337.048 2897.67 330.754 Q2897.84 330.168 2898.43 330.168 Q2899.22 330.168 2899.22 330.754 Q2899.22 331.046 2898.98 331.808 Q2898.75 332.569 2898.02 333.769 Q2897.28 334.97 2896.23 336.024 Q2895.21 337.048 2893.36 337.81 Q2891.55 338.571 2889.26 338.571 Q2883.99 338.571 2880.19 334.618 Z\" fill=\"#000000\" fill-rule=\"evenodd\" fill-opacity=\"1\" /><path clip-path=\"url(#clip960)\" d=\"M2906.21 334.677 Q2902.25 330.754 2902.25 325.074 Q2902.25 319.364 2906.12 315.207 Q2910.01 311.02 2915.58 311.02 Q2921.02 311.02 2924.92 315.178 Q2928.84 319.306 2928.84 325.074 Q2928.84 330.724 2924.89 334.647 Q2920.96 338.571 2915.52 338.571 Q2910.19 338.571 2906.21 334.677 M2907.23 324.576 Q2907.23 330.402 2908.75 333.037 Q2911.1 337.048 2915.58 337.048 Q2917.8 337.048 2919.65 335.848 Q2921.52 334.647 2922.54 332.627 Q2923.86 329.992 2923.86 324.576 Q2923.86 318.808 2922.28 316.261 Q2919.94 312.367 2915.52 312.367 Q2913.58 312.367 2911.68 313.392 Q2909.81 314.387 2908.67 316.378 Q2907.23 319.013 2907.23 324.576 Z\" fill=\"#000000\" fill-rule=\"evenodd\" fill-opacity=\"1\" /><path clip-path=\"url(#clip960)\" d=\"M2931.94 337.107 L2931.94 329.202 Q2931.94 328.528 2931.97 328.294 Q2932 328.06 2932.18 327.884 Q2932.35 327.709 2932.7 327.709 Q2933.11 327.709 2933.26 327.884 Q2933.43 328.06 2933.55 328.733 Q2934.46 332.862 2936.39 335.057 Q2938.35 337.224 2941.9 337.224 Q2945.26 337.224 2946.96 335.731 Q2948.66 334.238 2948.66 331.778 Q2948.66 327.387 2942.42 326.274 Q2938.82 325.542 2937.33 325.074 Q2935.84 324.576 2934.52 323.493 Q2931.94 321.385 2931.94 318.398 Q2931.94 315.412 2934.2 313.216 Q2936.48 311.02 2941.52 311.02 Q2944.88 311.02 2947.17 312.718 Q2947.84 312.191 2948.19 311.752 Q2948.98 311.02 2949.39 311.02 Q2949.86 311.02 2949.95 311.342 Q2950.04 311.635 2950.04 312.484 L2950.04 318.515 Q2950.04 319.189 2950.01 319.423 Q2949.98 319.657 2949.8 319.833 Q2949.63 319.979 2949.24 319.979 Q2948.57 319.979 2948.54 319.423 Q2948.07 312.162 2941.52 312.162 Q2937.97 312.162 2936.39 313.538 Q2934.81 314.885 2934.81 316.729 Q2934.81 317.754 2935.28 318.545 Q2935.78 319.306 2936.39 319.774 Q2937.04 320.213 2938.21 320.653 Q2939.38 321.062 2940.08 321.209 Q2940.81 321.355 2942.19 321.648 Q2946.99 322.556 2949.01 324.517 Q2951.53 327.035 2951.53 330.226 Q2951.53 333.769 2949.13 336.17 Q2946.73 338.571 2941.9 338.571 Q2938 338.571 2935.28 335.965 Q2934.93 336.316 2934.66 336.638 Q2934.4 336.931 2934.28 337.048 Q2934.2 337.165 2934.17 337.253 Q2934.14 337.312 2934.08 337.37 Q2932.88 338.571 2932.59 338.571 Q2932.12 338.571 2932.03 338.249 Q2931.94 337.956 2931.94 337.107 Z\" fill=\"#000000\" fill-rule=\"evenodd\" fill-opacity=\"1\" /><path clip-path=\"url(#clip960)\" d=\"M2955.31 322.907 Q2955.31 312.777 2959.09 304.608 Q2960.7 301.183 2962.95 298.313 Q2965.2 295.444 2966.7 294.185 Q2968.19 292.926 2968.6 292.926 Q2969.19 292.926 2969.22 293.512 Q2969.22 293.805 2968.43 294.537 Q2958.76 304.374 2958.79 322.907 Q2958.79 341.499 2968.19 350.955 Q2969.22 351.98 2969.22 352.302 Q2969.22 352.888 2968.6 352.888 Q2968.19 352.888 2966.76 351.687 Q2965.32 350.487 2963.1 347.735 Q2960.87 344.983 2959.26 341.616 Q2955.31 333.447 2955.31 322.907 Z\" fill=\"#000000\" fill-rule=\"evenodd\" fill-opacity=\"1\" /><path clip-path=\"url(#clip960)\" d=\"M2999.74 307.917 Q2999.74 312.835 2998.16 318.369 Q2996.6 323.873 2994.15 328.323 Q2991.69 332.744 2988.47 335.672 Q2985.24 338.571 2982.17 338.571 Q2980.21 338.571 2978.74 337.487 Q2977.31 336.375 2976.52 334.53 Q2975.73 332.657 2975.35 330.607 Q2974.97 328.528 2974.97 326.274 Q2974.97 322.907 2975.7 319.247 Q2976.43 315.558 2977.66 312.22 Q2978.89 308.854 2980.62 305.809 Q2982.35 302.734 2984.25 300.509 Q2986.18 298.255 2988.35 296.937 Q2990.51 295.62 2992.53 295.62 Q2994 295.62 2995.17 296.264 Q2996.37 296.879 2997.13 297.962 Q2997.89 299.016 2998.42 300.275 Q2998.98 301.534 2999.24 302.998 Q2999.5 304.433 2999.62 305.633 Q2999.74 306.804 2999.74 307.917 M2995.78 304.198 Q2995.78 302.705 2995.67 301.593 Q2995.55 300.451 2995.23 299.309 Q2994.91 298.167 2994.2 297.552 Q2993.53 296.937 2992.48 296.937 Q2989.4 296.937 2985.95 303.232 Q2984.83 305.194 2983.84 307.858 Q2982.84 310.522 2982.49 311.781 Q2982.14 313.04 2981.32 316.144 L2993.85 316.144 Q2995.78 308.151 2995.78 304.198 M2993.33 318.047 L2980.85 318.047 Q2978.92 325.366 2978.92 329.934 Q2978.92 333.916 2979.74 335.584 Q2980.59 337.224 2982.17 337.224 Q2983.99 337.224 2985.68 335.409 Q2987.38 333.564 2989.11 330.226 Q2991.39 325.893 2993.33 318.047 Z\" fill=\"#000000\" fill-rule=\"evenodd\" fill-opacity=\"1\" /><path clip-path=\"url(#clip960)\" d=\"M3005.92 352.302 Q3005.92 352.009 3006.68 351.277 Q3016.34 341.44 3016.34 322.907 Q3016.34 304.315 3007.06 294.917 Q3005.92 293.834 3005.92 293.512 Q3005.92 292.926 3006.51 292.926 Q3006.92 292.926 3008.35 294.127 Q3009.81 295.327 3012.01 298.079 Q3014.24 300.831 3015.87 304.198 Q3019.83 312.367 3019.83 322.907 Q3019.83 333.037 3016.05 341.206 Q3014.44 344.631 3012.19 347.501 Q3009.93 350.37 3008.44 351.629 Q3006.94 352.888 3006.51 352.888 Q3005.92 352.888 3005.92 352.302 Z\" fill=\"#000000\" fill-rule=\"evenodd\" fill-opacity=\"1\" /></svg>\n"
      ]
     },
     "execution_count": 1,
     "metadata": {},
     "output_type": "execute_result"
    }
   ],
   "source": [
    "using Plots\n",
    "gr()\n",
    "using LaTeXStrings, Measures\n",
    "default(fontfamily = \"Computer Modern\", size=(800,500), titlefont = (16), legendfontsize = 10, \n",
    "        guidefont = (16, :darkgreen), tickfont = (12, :black), \n",
    "        framestyle = :box, yminorgrid = true)\n",
    "\n",
    "plot([sin, cos], -2π, 2π, label = [L\"\\sin(θ)\" L\"\\cos(θ)\"], \n",
    "    linewidth = 2, linealpha=0.7, legend = :outertopright)\n",
    "plot!(xticks = ([-2π:π:2*π;], [\"-2π\", \"-π\", \"0\", \"π\", \"2π\"]))\n",
    "plot!(margin=7mm, xlabel = L\"\\theta\\;(rad)\", ylabel= L\"\\textrm{y\\; (m)}\")\n"
   ]
  },
  {
   "cell_type": "markdown",
   "metadata": {
    "colab_type": "text",
    "id": "H4PCM4ggcW-t"
   },
   "source": [
    "### Plotting exercises:\n",
    "Create the following plots:</br>\n",
    "\n",
    "**Plot 1:**\n",
    "$y = 5\\sin\\left(2\\pi t^{3/2}\\right)$ from $t=0 \\;\\;\\mathrm{to}\\;\\; t=5$; don't forget to label the axes with units (assume that the time is in seconds, and y is in meters).\n",
    "\n",
    "**Plot 2:**\n",
    "$$\n",
    "U(x) = 2\\left( \\frac{x}{10} - \\left[\\frac{x}{20}\\right]^2 \\right) \n",
    "$$ \n",
    "from $x=0 \\;\\;\\mathrm{to}\\;\\; x=5$. Assume $x$ is in meters and U is in Joules. Label axes accordingly. "
   ]
  },
  {
   "cell_type": "code",
   "execution_count": 2,
   "metadata": {},
   "outputs": [
    {
     "data": {
      "image/svg+xml": [
       "<?xml version=\"1.0\" encoding=\"utf-8\"?>\n",
       "<svg xmlns=\"http://www.w3.org/2000/svg\" xmlns:xlink=\"http://www.w3.org/1999/xlink\" width=\"800\" height=\"500\" viewBox=\"0 0 3200 2000\">\n",
       "<defs>\n",
       "  <clipPath id=\"clip000\">\n",
       "    <rect x=\"0\" y=\"0\" width=\"3200\" height=\"2000\"/>\n",
       "  </clipPath>\n",
       "</defs>\n",
       "<path clip-path=\"url(#clip000)\" d=\"M0 2000 L3200 2000 L3200 0 L0 0  Z\" fill=\"#ffffff\" fill-rule=\"evenodd\" fill-opacity=\"1\"/>\n",
       "<defs>\n",
       "  <clipPath id=\"clip001\">\n",
       "    <rect x=\"640\" y=\"0\" width=\"2241\" height=\"2000\"/>\n",
       "  </clipPath>\n",
       "</defs>\n",
       "<defs>\n",
       "  <clipPath id=\"clip002\">\n",
       "    <rect x=\"418\" y=\"141\" width=\"2136\" height=\"1553\"/>\n",
       "  </clipPath>\n",
       "</defs>\n",
       "<path clip-path=\"url(#clip000)\" d=\"M360.554 1693.37 L2677.15 1693.37 L2677.15 141.732 L360.554 141.732  Z\" fill=\"#ffffff\" fill-rule=\"evenodd\" fill-opacity=\"1\"/>\n",
       "<defs>\n",
       "  <clipPath id=\"clip003\">\n",
       "    <rect x=\"360\" y=\"141\" width=\"2318\" height=\"1553\"/>\n",
       "  </clipPath>\n",
       "</defs>\n",
       "<polyline clip-path=\"url(#clip003)\" style=\"stroke:#000000; stroke-linecap:round; stroke-linejoin:round; stroke-width:2; stroke-opacity:0.1; fill:none\" points=\"426.118,1693.37 426.118,141.732 \"/>\n",
       "<polyline clip-path=\"url(#clip003)\" style=\"stroke:#000000; stroke-linecap:round; stroke-linejoin:round; stroke-width:2; stroke-opacity:0.1; fill:none\" points=\"863.211,1693.37 863.211,141.732 \"/>\n",
       "<polyline clip-path=\"url(#clip003)\" style=\"stroke:#000000; stroke-linecap:round; stroke-linejoin:round; stroke-width:2; stroke-opacity:0.1; fill:none\" points=\"1300.3,1693.37 1300.3,141.732 \"/>\n",
       "<polyline clip-path=\"url(#clip003)\" style=\"stroke:#000000; stroke-linecap:round; stroke-linejoin:round; stroke-width:2; stroke-opacity:0.1; fill:none\" points=\"1737.4,1693.37 1737.4,141.732 \"/>\n",
       "<polyline clip-path=\"url(#clip003)\" style=\"stroke:#000000; stroke-linecap:round; stroke-linejoin:round; stroke-width:2; stroke-opacity:0.1; fill:none\" points=\"2174.49,1693.37 2174.49,141.732 \"/>\n",
       "<polyline clip-path=\"url(#clip003)\" style=\"stroke:#000000; stroke-linecap:round; stroke-linejoin:round; stroke-width:2; stroke-opacity:0.1; fill:none\" points=\"2611.58,1693.37 2611.58,141.732 \"/>\n",
       "<polyline clip-path=\"url(#clip000)\" style=\"stroke:#000000; stroke-linecap:round; stroke-linejoin:round; stroke-width:4; stroke-opacity:1; fill:none\" points=\"360.554,1693.37 2677.15,1693.37 \"/>\n",
       "<polyline clip-path=\"url(#clip000)\" style=\"stroke:#000000; stroke-linecap:round; stroke-linejoin:round; stroke-width:4; stroke-opacity:1; fill:none\" points=\"360.554,141.732 2677.15,141.732 \"/>\n",
       "<polyline clip-path=\"url(#clip000)\" style=\"stroke:#000000; stroke-linecap:round; stroke-linejoin:round; stroke-width:4; stroke-opacity:1; fill:none\" points=\"426.118,1693.37 426.118,1674.47 \"/>\n",
       "<polyline clip-path=\"url(#clip000)\" style=\"stroke:#000000; stroke-linecap:round; stroke-linejoin:round; stroke-width:4; stroke-opacity:1; fill:none\" points=\"863.211,1693.37 863.211,1674.47 \"/>\n",
       "<polyline clip-path=\"url(#clip000)\" style=\"stroke:#000000; stroke-linecap:round; stroke-linejoin:round; stroke-width:4; stroke-opacity:1; fill:none\" points=\"1300.3,1693.37 1300.3,1674.47 \"/>\n",
       "<polyline clip-path=\"url(#clip000)\" style=\"stroke:#000000; stroke-linecap:round; stroke-linejoin:round; stroke-width:4; stroke-opacity:1; fill:none\" points=\"1737.4,1693.37 1737.4,1674.47 \"/>\n",
       "<polyline clip-path=\"url(#clip000)\" style=\"stroke:#000000; stroke-linecap:round; stroke-linejoin:round; stroke-width:4; stroke-opacity:1; fill:none\" points=\"2174.49,1693.37 2174.49,1674.47 \"/>\n",
       "<polyline clip-path=\"url(#clip000)\" style=\"stroke:#000000; stroke-linecap:round; stroke-linejoin:round; stroke-width:4; stroke-opacity:1; fill:none\" points=\"2611.58,1693.37 2611.58,1674.47 \"/>\n",
       "<path clip-path=\"url(#clip000)\" d=\"M410.147 1759.5 Q410.147 1748.35 412.963 1742.27 Q416.891 1733.23 426.155 1733.23 Q428.119 1733.23 430.157 1733.78 Q432.232 1734.3 434.826 1736.34 Q437.457 1738.38 439.05 1741.71 Q442.089 1748.16 442.089 1759.5 Q442.089 1770.58 439.272 1776.62 Q435.159 1785.44 426.081 1785.44 Q422.672 1785.44 419.188 1783.7 Q415.742 1781.96 413.556 1777.77 Q410.147 1771.51 410.147 1759.5 M416.446 1758.57 Q416.446 1770.02 417.262 1774.58 Q418.188 1779.51 420.708 1781.66 Q423.265 1783.77 426.081 1783.77 Q429.119 1783.77 431.639 1781.51 Q434.196 1779.21 434.974 1774.29 Q435.826 1769.43 435.789 1758.57 Q435.789 1748.01 435.048 1743.79 Q434.048 1738.86 431.38 1736.9 Q428.749 1734.9 426.081 1734.9 Q425.08 1734.9 424.006 1735.19 Q422.968 1735.49 421.449 1736.34 Q419.93 1737.19 418.744 1739.31 Q417.595 1741.42 417.039 1744.6 Q416.446 1748.72 416.446 1758.57 Z\" fill=\"#000000\" fill-rule=\"evenodd\" fill-opacity=\"1\" /><path clip-path=\"url(#clip000)\" d=\"M850.686 1740.45 L850.686 1738.08 Q859.802 1738.08 864.508 1733.23 Q865.805 1733.23 866.027 1733.53 Q866.249 1733.82 866.249 1735.19 L866.249 1777.77 Q866.249 1780.03 867.361 1780.73 Q868.473 1781.44 873.327 1781.44 L875.736 1781.44 L875.736 1783.77 Q873.068 1783.55 863.433 1783.55 Q853.799 1783.55 851.168 1783.77 L851.168 1781.44 L853.577 1781.44 Q858.357 1781.44 859.505 1780.77 Q860.654 1780.07 860.654 1777.77 L860.654 1738.45 Q856.689 1740.45 850.686 1740.45 Z\" fill=\"#000000\" fill-rule=\"evenodd\" fill-opacity=\"1\" /><path clip-path=\"url(#clip000)\" d=\"M1285.15 1783.77 Q1285.15 1782.4 1285.26 1781.99 Q1285.41 1781.59 1286 1780.96 L1300.56 1764.73 Q1308.53 1755.76 1308.53 1747.94 Q1308.53 1742.86 1305.86 1739.23 Q1303.23 1735.6 1298.38 1735.6 Q1295.04 1735.6 1292.23 1737.64 Q1289.41 1739.68 1288.11 1743.31 Q1288.34 1743.23 1289.11 1743.23 Q1291 1743.23 1292.04 1744.42 Q1293.12 1745.6 1293.12 1747.2 Q1293.12 1749.24 1291.78 1750.24 Q1290.48 1751.2 1289.19 1751.2 Q1288.67 1751.2 1287.96 1751.09 Q1287.3 1750.98 1286.22 1749.94 Q1285.15 1748.87 1285.15 1746.98 Q1285.15 1741.68 1289.15 1737.45 Q1293.19 1733.23 1299.34 1733.23 Q1306.31 1733.23 1310.86 1737.38 Q1315.46 1741.49 1315.46 1747.94 Q1315.46 1750.2 1314.76 1752.27 Q1314.09 1754.31 1313.16 1755.91 Q1312.27 1757.5 1309.83 1760.06 Q1307.38 1762.61 1305.42 1764.43 Q1303.45 1766.24 1299.04 1770.1 L1291 1777.92 L1304.68 1777.92 Q1311.35 1777.92 1311.87 1777.32 Q1312.61 1776.25 1313.53 1770.58 L1315.46 1770.58 L1313.31 1783.77 L1285.15 1783.77 Z\" fill=\"#000000\" fill-rule=\"evenodd\" fill-opacity=\"1\" /><path clip-path=\"url(#clip000)\" d=\"M1721.65 1773.54 Q1721.65 1771.28 1722.95 1770.21 Q1724.24 1769.13 1725.91 1769.13 Q1727.65 1769.13 1728.87 1770.28 Q1730.13 1771.4 1730.13 1773.36 Q1730.13 1775.47 1728.65 1776.66 Q1727.21 1777.84 1725.13 1777.55 Q1726.95 1780.58 1730.28 1781.96 Q1733.65 1783.33 1736.77 1783.33 Q1740.03 1783.33 1742.66 1780.51 Q1745.33 1777.69 1745.33 1770.8 Q1745.33 1764.95 1743.03 1761.58 Q1740.77 1758.2 1736.29 1758.2 L1732.95 1758.2 Q1731.8 1758.2 1731.47 1758.09 Q1731.14 1757.98 1731.14 1757.35 Q1731.14 1756.61 1732.28 1756.46 Q1733.43 1756.46 1735.25 1756.24 Q1739.66 1756.09 1741.99 1752.27 Q1744.1 1748.72 1744.1 1743.64 Q1744.1 1739.01 1741.88 1737.08 Q1739.69 1735.12 1736.84 1735.12 Q1734.17 1735.12 1731.25 1736.23 Q1728.32 1737.34 1726.73 1739.82 Q1731.43 1739.82 1731.43 1743.64 Q1731.43 1745.31 1730.36 1746.42 Q1729.32 1747.49 1727.58 1747.49 Q1725.91 1747.49 1724.8 1746.46 Q1723.69 1745.38 1723.69 1743.57 Q1723.69 1739.23 1727.54 1736.23 Q1731.43 1733.23 1737.14 1733.23 Q1742.77 1733.23 1746.92 1736.19 Q1751.11 1739.16 1751.11 1743.72 Q1751.11 1748.2 1748.14 1751.87 Q1745.18 1755.54 1740.47 1757.05 Q1746.25 1758.2 1749.7 1762.13 Q1753.15 1766.02 1753.15 1770.8 Q1753.15 1776.73 1748.48 1781.1 Q1743.81 1785.44 1736.99 1785.44 Q1730.69 1785.44 1726.17 1782.03 Q1721.65 1778.62 1721.65 1773.54 Z\" fill=\"#000000\" fill-rule=\"evenodd\" fill-opacity=\"1\" /><path clip-path=\"url(#clip000)\" d=\"M2157.67 1771.25 L2157.67 1768.91 L2180.98 1733.3 Q2181.57 1732.38 2182.49 1732.41 Q2183.35 1732.41 2183.53 1732.75 Q2183.72 1733.08 2183.72 1734.38 L2183.72 1768.91 L2191.31 1768.91 L2191.31 1771.25 L2183.72 1771.25 L2183.72 1777.84 Q2183.72 1780.03 2184.61 1780.73 Q2185.53 1781.44 2189.46 1781.44 L2191.05 1781.44 L2191.05 1783.77 Q2187.94 1783.55 2180.75 1783.55 Q2173.6 1783.55 2170.49 1783.77 L2170.49 1781.44 L2172.08 1781.44 Q2176.01 1781.44 2176.94 1780.77 Q2177.86 1780.07 2177.86 1777.84 L2177.86 1771.25 L2157.67 1771.25 M2159.82 1768.91 L2178.31 1768.91 L2178.31 1740.6 L2159.82 1768.91 Z\" fill=\"#000000\" fill-rule=\"evenodd\" fill-opacity=\"1\" /><path clip-path=\"url(#clip000)\" d=\"M2596.43 1771.54 Q2596.43 1769.28 2597.65 1768.43 Q2598.87 1767.54 2600.17 1767.54 Q2601.91 1767.54 2602.91 1768.65 Q2603.95 1769.73 2603.95 1771.25 Q2603.95 1772.77 2602.91 1773.88 Q2601.91 1774.95 2600.17 1774.95 Q2599.32 1774.95 2598.87 1774.8 Q2599.87 1778.29 2602.91 1780.81 Q2605.99 1783.33 2610.03 1783.33 Q2615.1 1783.33 2618.14 1778.4 Q2619.96 1775.21 2619.96 1767.99 Q2619.96 1761.61 2618.59 1758.43 Q2616.47 1753.57 2612.14 1753.57 Q2605.99 1753.57 2602.36 1758.87 Q2601.91 1759.54 2601.39 1759.57 Q2600.65 1759.57 2600.47 1759.17 Q2600.32 1758.72 2600.32 1757.57 L2600.32 1735.12 Q2600.32 1733.3 2601.06 1733.3 Q2601.36 1733.3 2601.99 1733.53 Q2606.77 1735.64 2612.07 1735.67 Q2617.51 1735.67 2622.4 1733.45 Q2622.77 1733.23 2623 1733.23 Q2623.74 1733.23 2623.77 1734.08 Q2623.77 1734.38 2623.14 1735.27 Q2622.55 1736.12 2621.26 1737.27 Q2619.96 1738.38 2618.29 1739.45 Q2616.62 1740.53 2614.18 1741.27 Q2611.77 1741.97 2609.1 1741.97 Q2605.91 1741.97 2602.65 1740.97 L2602.65 1755.76 Q2606.58 1751.9 2612.29 1751.9 Q2618.36 1751.9 2622.55 1756.8 Q2626.74 1761.69 2626.74 1768.5 Q2626.74 1775.66 2621.77 1780.55 Q2616.85 1785.44 2610.18 1785.44 Q2604.1 1785.44 2600.24 1781.1 Q2596.43 1776.77 2596.43 1771.54 Z\" fill=\"#000000\" fill-rule=\"evenodd\" fill-opacity=\"1\" /><path clip-path=\"url(#clip000)\" d=\"M1428.61 1844.08 Q1428.61 1845.39 1428 1845.72 Q1427.39 1846 1425.71 1846 L1416.71 1846 L1409.59 1874.29 Q1409.03 1876.78 1409.03 1878.88 Q1409.03 1881.23 1409.73 1882.26 Q1410.48 1883.29 1412.03 1883.29 Q1415.07 1883.29 1418.35 1880.52 Q1421.68 1877.76 1424.49 1871.01 Q1424.86 1870.12 1425.05 1869.94 Q1425.28 1869.7 1425.89 1869.7 Q1427.06 1869.7 1427.06 1870.64 Q1427.06 1870.97 1426.41 1872.47 Q1425.8 1873.96 1424.44 1876.17 Q1423.13 1878.37 1421.4 1880.43 Q1419.71 1882.49 1417.13 1883.99 Q1414.56 1885.44 1411.79 1885.44 Q1407.9 1885.44 1405.42 1882.96 Q1402.99 1880.48 1402.99 1876.59 Q1402.99 1875.32 1403.97 1871.29 Q1404.95 1867.22 1410.29 1846 L1401.81 1846 Q1400.64 1846 1400.17 1845.95 Q1399.75 1845.9 1399.43 1845.67 Q1399.14 1845.39 1399.14 1844.83 Q1399.14 1843.94 1399.52 1843.56 Q1399.89 1843.14 1400.36 1843.09 Q1400.88 1843 1402.05 1843 L1411.04 1843 L1414.79 1827.78 Q1415.17 1826.28 1416.1 1825.43 Q1417.09 1824.54 1417.65 1824.45 Q1418.21 1824.31 1418.63 1824.31 Q1419.9 1824.31 1420.65 1825.01 Q1421.4 1825.67 1421.4 1826.89 Q1421.4 1827.54 1417.46 1843 L1425.89 1843 Q1426.97 1843 1427.39 1843.05 Q1427.86 1843.09 1428.23 1843.33 Q1428.61 1843.56 1428.61 1844.08 Z\" fill=\"#006400\" fill-rule=\"evenodd\" fill-opacity=\"1\" /><path clip-path=\"url(#clip000)\" d=\"M1439.58 1860.38 Q1439.58 1844.17 1445.62 1831.1 Q1448.2 1825.62 1451.8 1821.03 Q1455.41 1816.44 1457.8 1814.42 Q1460.19 1812.41 1460.84 1812.41 Q1461.78 1812.41 1461.83 1813.35 Q1461.83 1813.82 1460.56 1814.99 Q1445.1 1830.73 1445.15 1860.38 Q1445.15 1890.13 1460.19 1905.26 Q1461.83 1906.9 1461.83 1907.41 Q1461.83 1908.35 1460.84 1908.35 Q1460.19 1908.35 1457.89 1906.43 Q1455.6 1904.51 1452.04 1900.1 Q1448.48 1895.7 1445.9 1890.31 Q1439.58 1877.24 1439.58 1860.38 Z\" fill=\"#006400\" fill-rule=\"evenodd\" fill-opacity=\"1\" /><path clip-path=\"url(#clip000)\" d=\"M1506.36 1850.21 Q1506.36 1852.84 1505.05 1854.24 Q1503.74 1855.6 1501.96 1855.6 Q1500.5 1855.6 1499.71 1854.76 Q1498.96 1853.91 1498.96 1852.79 Q1498.96 1851.15 1500.27 1849.84 Q1501.63 1848.53 1503.6 1848.48 Q1502.94 1846.75 1501.21 1845.72 Q1499.47 1844.64 1497.93 1844.36 Q1496.43 1844.08 1494.93 1844.08 Q1491.98 1844.08 1489.73 1845.01 Q1487.48 1845.95 1486.36 1847.4 Q1485.23 1848.81 1484.72 1850.17 Q1484.2 1851.53 1484.2 1852.7 Q1484.2 1853.73 1484.44 1854.57 Q1484.72 1855.37 1485.37 1855.98 Q1486.03 1856.54 1486.5 1856.91 Q1487.01 1857.29 1488.14 1857.62 Q1489.26 1857.94 1489.73 1858.08 Q1490.2 1858.18 1491.51 1858.46 Q1494.23 1859.02 1495.44 1859.35 Q1496.66 1859.63 1498.26 1860.43 Q1499.9 1861.22 1501.11 1862.49 Q1504.06 1865.44 1504.06 1869.51 Q1504.06 1871.01 1503.55 1872.84 Q1503.08 1874.67 1501.72 1876.96 Q1500.36 1879.26 1498.3 1881.08 Q1496.24 1882.91 1492.68 1884.18 Q1489.17 1885.44 1484.76 1885.44 Q1478.63 1885.44 1474.83 1882.87 Q1471.04 1880.24 1471.04 1876.12 Q1471.04 1873.12 1472.68 1871.48 Q1474.32 1869.8 1476.43 1869.8 Q1478.02 1869.8 1479 1870.69 Q1479.99 1871.53 1479.99 1873.12 Q1479.99 1875.28 1478.25 1876.92 Q1476.52 1878.56 1473.94 1878.23 Q1476.14 1883.29 1484.86 1883.29 Q1488.14 1883.29 1490.67 1882.44 Q1493.24 1881.55 1494.65 1880.34 Q1496.1 1879.07 1497.04 1877.52 Q1497.97 1875.98 1498.26 1874.81 Q1498.58 1873.64 1498.58 1872.75 Q1498.58 1871.2 1497.97 1870.03 Q1497.37 1868.86 1496.52 1868.2 Q1495.73 1867.5 1494.18 1866.94 Q1492.68 1866.33 1491.6 1866.09 Q1490.53 1865.86 1488.61 1865.49 Q1487.72 1865.3 1487.15 1865.2 Q1486.59 1865.06 1485.42 1864.69 Q1484.3 1864.27 1483.5 1863.85 Q1482.75 1863.42 1481.77 1862.67 Q1480.78 1861.93 1480.17 1861.04 Q1479.56 1860.15 1479.14 1858.83 Q1478.72 1857.52 1478.72 1855.98 Q1478.72 1854.57 1479.14 1852.88 Q1479.61 1851.2 1480.78 1849.23 Q1482 1847.26 1483.73 1845.67 Q1485.47 1844.08 1488.37 1843.05 Q1491.32 1841.97 1494.93 1841.97 Q1500.18 1841.97 1503.27 1844.41 Q1506.36 1846.79 1506.36 1850.21 Z\" fill=\"#006400\" fill-rule=\"evenodd\" fill-opacity=\"1\" /><path clip-path=\"url(#clip000)\" d=\"M1551.69 1873.26 Q1552.06 1873.68 1552.06 1874.11 Q1552.06 1874.53 1551.13 1875.74 Q1550.24 1876.96 1548.32 1878.6 Q1546.39 1880.24 1543.91 1881.79 Q1541.43 1883.33 1537.77 1884.36 Q1534.12 1885.44 1530.28 1885.44 Q1523.39 1885.44 1519.27 1880.52 Q1515.2 1875.6 1515.2 1868.06 Q1515.2 1863.24 1516.79 1858.97 Q1518.38 1854.66 1520.96 1851.62 Q1523.58 1848.57 1526.86 1846.37 Q1530.19 1844.12 1533.65 1843.05 Q1537.12 1841.97 1540.35 1841.97 Q1545.08 1841.97 1547.85 1844.36 Q1550.61 1846.75 1550.61 1850.12 Q1550.61 1850.92 1550.38 1851.9 Q1550.19 1852.88 1549.53 1854.43 Q1548.92 1855.98 1547.33 1857.52 Q1545.74 1859.02 1543.4 1860 Q1538.2 1862.21 1528.73 1862.21 L1523.63 1862.21 Q1522.13 1868.25 1522.13 1872.18 Q1522.13 1873.73 1522.41 1875.32 Q1522.69 1876.87 1523.44 1878.84 Q1524.24 1880.8 1526.02 1882.07 Q1527.84 1883.29 1530.47 1883.29 Q1531.31 1883.29 1532.2 1883.24 Q1533.14 1883.19 1535.48 1882.68 Q1537.87 1882.16 1539.98 1881.27 Q1542.08 1880.38 1544.75 1878.46 Q1547.47 1876.49 1549.63 1873.82 Q1550.38 1872.84 1550.89 1872.84 Q1551.31 1872.84 1551.69 1873.26 M1547.43 1850.12 Q1547.43 1847.54 1545.5 1845.81 Q1543.63 1844.08 1540.35 1844.08 Q1539.32 1844.08 1538.06 1844.31 Q1536.79 1844.55 1534.68 1845.53 Q1532.62 1846.51 1530.8 1848.15 Q1528.97 1849.75 1527.14 1852.88 Q1525.31 1855.98 1524.24 1860.1 L1528.17 1860.1 Q1529.53 1860.1 1530.51 1860.1 Q1531.5 1860.05 1533.65 1859.86 Q1535.85 1859.68 1537.45 1859.35 Q1539.04 1858.97 1541.05 1858.22 Q1543.07 1857.48 1544.33 1856.49 Q1545.64 1855.46 1546.53 1853.82 Q1547.43 1852.18 1547.43 1850.12 Z\" fill=\"#006400\" fill-rule=\"evenodd\" fill-opacity=\"1\" /><path clip-path=\"url(#clip000)\" d=\"M1596.42 1873.26 Q1596.79 1873.68 1596.79 1874.11 Q1596.79 1874.53 1595.86 1875.74 Q1594.97 1876.96 1593.05 1878.6 Q1591.13 1880.24 1588.64 1881.79 Q1586.16 1883.33 1582.51 1884.36 Q1578.85 1885.44 1575.01 1885.44 Q1567.84 1885.44 1563.63 1880.71 Q1559.46 1875.98 1559.46 1869.19 Q1559.46 1862.58 1563.16 1856.26 Q1566.86 1849.89 1572.86 1845.95 Q1578.85 1841.97 1585.18 1841.97 Q1590.19 1841.97 1593.33 1844.31 Q1596.47 1846.65 1596.47 1850.21 Q1596.47 1852.98 1594.87 1854.66 Q1593.28 1856.35 1591.13 1856.35 Q1589.63 1856.35 1588.6 1855.51 Q1587.57 1854.62 1587.57 1852.98 Q1587.57 1850.87 1589.3 1849.23 Q1589.95 1848.57 1590.7 1848.29 Q1591.5 1847.97 1591.97 1847.97 Q1592.44 1847.92 1593.51 1847.92 Q1592.53 1846.09 1590.19 1845.11 Q1587.89 1844.08 1585.27 1844.08 Q1581.38 1844.08 1577.68 1846.79 Q1573.98 1849.46 1571.73 1853.68 Q1569.48 1857.8 1568.03 1863.66 Q1566.58 1869.47 1566.58 1872.84 Q1566.58 1877.48 1568.73 1880.38 Q1570.89 1883.29 1575.2 1883.29 Q1576.04 1883.29 1576.93 1883.24 Q1577.87 1883.19 1580.21 1882.68 Q1582.6 1882.16 1584.71 1881.27 Q1586.82 1880.38 1589.49 1878.46 Q1592.2 1876.49 1594.36 1873.82 Q1595.11 1872.84 1595.62 1872.84 Q1596.04 1872.84 1596.42 1873.26 Z\" fill=\"#006400\" fill-rule=\"evenodd\" fill-opacity=\"1\" /><path clip-path=\"url(#clip000)\" d=\"M1601.72 1907.41 Q1601.72 1906.94 1602.94 1905.77 Q1618.39 1890.03 1618.39 1860.38 Q1618.39 1830.63 1603.54 1815.6 Q1601.72 1813.86 1601.72 1813.35 Q1601.72 1812.41 1602.65 1812.41 Q1603.31 1812.41 1605.61 1814.33 Q1607.95 1816.25 1611.46 1820.66 Q1615.02 1825.06 1617.65 1830.45 Q1623.97 1843.52 1623.97 1860.38 Q1623.97 1876.59 1617.93 1889.66 Q1615.35 1895.14 1611.74 1899.73 Q1608.14 1904.32 1605.75 1906.33 Q1603.36 1908.35 1602.65 1908.35 Q1601.72 1908.35 1601.72 1907.41 Z\" fill=\"#006400\" fill-rule=\"evenodd\" fill-opacity=\"1\" /><polyline clip-path=\"url(#clip003)\" style=\"stroke:#000000; stroke-linecap:round; stroke-linejoin:round; stroke-width:2; stroke-opacity:0.1; fill:none\" points=\"360.554,1503.08 2677.15,1503.08 \"/>\n",
       "<polyline clip-path=\"url(#clip003)\" style=\"stroke:#000000; stroke-linecap:round; stroke-linejoin:round; stroke-width:2; stroke-opacity:0.1; fill:none\" points=\"360.554,1210.31 2677.15,1210.31 \"/>\n",
       "<polyline clip-path=\"url(#clip003)\" style=\"stroke:#000000; stroke-linecap:round; stroke-linejoin:round; stroke-width:2; stroke-opacity:0.1; fill:none\" points=\"360.554,917.552 2677.15,917.552 \"/>\n",
       "<polyline clip-path=\"url(#clip003)\" style=\"stroke:#000000; stroke-linecap:round; stroke-linejoin:round; stroke-width:2; stroke-opacity:0.1; fill:none\" points=\"360.554,624.789 2677.15,624.789 \"/>\n",
       "<polyline clip-path=\"url(#clip003)\" style=\"stroke:#000000; stroke-linecap:round; stroke-linejoin:round; stroke-width:2; stroke-opacity:0.1; fill:none\" points=\"360.554,332.027 2677.15,332.027 \"/>\n",
       "<polyline clip-path=\"url(#clip003)\" style=\"stroke:#000000; stroke-linecap:round; stroke-linejoin:round; stroke-width:2; stroke-opacity:0.05; fill:none\" points=\"360.554,1678.73 2677.15,1678.73 \"/>\n",
       "<polyline clip-path=\"url(#clip003)\" style=\"stroke:#000000; stroke-linecap:round; stroke-linejoin:round; stroke-width:2; stroke-opacity:0.05; fill:none\" points=\"360.554,1620.18 2677.15,1620.18 \"/>\n",
       "<polyline clip-path=\"url(#clip003)\" style=\"stroke:#000000; stroke-linecap:round; stroke-linejoin:round; stroke-width:2; stroke-opacity:0.05; fill:none\" points=\"360.554,1561.63 2677.15,1561.63 \"/>\n",
       "<polyline clip-path=\"url(#clip003)\" style=\"stroke:#000000; stroke-linecap:round; stroke-linejoin:round; stroke-width:2; stroke-opacity:0.05; fill:none\" points=\"360.554,1444.52 2677.15,1444.52 \"/>\n",
       "<polyline clip-path=\"url(#clip003)\" style=\"stroke:#000000; stroke-linecap:round; stroke-linejoin:round; stroke-width:2; stroke-opacity:0.05; fill:none\" points=\"360.554,1385.97 2677.15,1385.97 \"/>\n",
       "<polyline clip-path=\"url(#clip003)\" style=\"stroke:#000000; stroke-linecap:round; stroke-linejoin:round; stroke-width:2; stroke-opacity:0.05; fill:none\" points=\"360.554,1327.42 2677.15,1327.42 \"/>\n",
       "<polyline clip-path=\"url(#clip003)\" style=\"stroke:#000000; stroke-linecap:round; stroke-linejoin:round; stroke-width:2; stroke-opacity:0.05; fill:none\" points=\"360.554,1268.87 2677.15,1268.87 \"/>\n",
       "<polyline clip-path=\"url(#clip003)\" style=\"stroke:#000000; stroke-linecap:round; stroke-linejoin:round; stroke-width:2; stroke-opacity:0.05; fill:none\" points=\"360.554,1151.76 2677.15,1151.76 \"/>\n",
       "<polyline clip-path=\"url(#clip003)\" style=\"stroke:#000000; stroke-linecap:round; stroke-linejoin:round; stroke-width:2; stroke-opacity:0.05; fill:none\" points=\"360.554,1093.21 2677.15,1093.21 \"/>\n",
       "<polyline clip-path=\"url(#clip003)\" style=\"stroke:#000000; stroke-linecap:round; stroke-linejoin:round; stroke-width:2; stroke-opacity:0.05; fill:none\" points=\"360.554,1034.66 2677.15,1034.66 \"/>\n",
       "<polyline clip-path=\"url(#clip003)\" style=\"stroke:#000000; stroke-linecap:round; stroke-linejoin:round; stroke-width:2; stroke-opacity:0.05; fill:none\" points=\"360.554,976.104 2677.15,976.104 \"/>\n",
       "<polyline clip-path=\"url(#clip003)\" style=\"stroke:#000000; stroke-linecap:round; stroke-linejoin:round; stroke-width:2; stroke-opacity:0.05; fill:none\" points=\"360.554,858.999 2677.15,858.999 \"/>\n",
       "<polyline clip-path=\"url(#clip003)\" style=\"stroke:#000000; stroke-linecap:round; stroke-linejoin:round; stroke-width:2; stroke-opacity:0.05; fill:none\" points=\"360.554,800.447 2677.15,800.447 \"/>\n",
       "<polyline clip-path=\"url(#clip003)\" style=\"stroke:#000000; stroke-linecap:round; stroke-linejoin:round; stroke-width:2; stroke-opacity:0.05; fill:none\" points=\"360.554,741.894 2677.15,741.894 \"/>\n",
       "<polyline clip-path=\"url(#clip003)\" style=\"stroke:#000000; stroke-linecap:round; stroke-linejoin:round; stroke-width:2; stroke-opacity:0.05; fill:none\" points=\"360.554,683.342 2677.15,683.342 \"/>\n",
       "<polyline clip-path=\"url(#clip003)\" style=\"stroke:#000000; stroke-linecap:round; stroke-linejoin:round; stroke-width:2; stroke-opacity:0.05; fill:none\" points=\"360.554,566.237 2677.15,566.237 \"/>\n",
       "<polyline clip-path=\"url(#clip003)\" style=\"stroke:#000000; stroke-linecap:round; stroke-linejoin:round; stroke-width:2; stroke-opacity:0.05; fill:none\" points=\"360.554,507.684 2677.15,507.684 \"/>\n",
       "<polyline clip-path=\"url(#clip003)\" style=\"stroke:#000000; stroke-linecap:round; stroke-linejoin:round; stroke-width:2; stroke-opacity:0.05; fill:none\" points=\"360.554,449.132 2677.15,449.132 \"/>\n",
       "<polyline clip-path=\"url(#clip003)\" style=\"stroke:#000000; stroke-linecap:round; stroke-linejoin:round; stroke-width:2; stroke-opacity:0.05; fill:none\" points=\"360.554,390.579 2677.15,390.579 \"/>\n",
       "<polyline clip-path=\"url(#clip003)\" style=\"stroke:#000000; stroke-linecap:round; stroke-linejoin:round; stroke-width:2; stroke-opacity:0.05; fill:none\" points=\"360.554,273.474 2677.15,273.474 \"/>\n",
       "<polyline clip-path=\"url(#clip003)\" style=\"stroke:#000000; stroke-linecap:round; stroke-linejoin:round; stroke-width:2; stroke-opacity:0.05; fill:none\" points=\"360.554,214.922 2677.15,214.922 \"/>\n",
       "<polyline clip-path=\"url(#clip003)\" style=\"stroke:#000000; stroke-linecap:round; stroke-linejoin:round; stroke-width:2; stroke-opacity:0.05; fill:none\" points=\"360.554,156.369 2677.15,156.369 \"/>\n",
       "<polyline clip-path=\"url(#clip000)\" style=\"stroke:#000000; stroke-linecap:round; stroke-linejoin:round; stroke-width:4; stroke-opacity:1; fill:none\" points=\"360.554,1693.37 360.554,141.732 \"/>\n",
       "<polyline clip-path=\"url(#clip000)\" style=\"stroke:#000000; stroke-linecap:round; stroke-linejoin:round; stroke-width:4; stroke-opacity:1; fill:none\" points=\"2677.15,1693.37 2677.15,141.732 \"/>\n",
       "<polyline clip-path=\"url(#clip000)\" style=\"stroke:#000000; stroke-linecap:round; stroke-linejoin:round; stroke-width:4; stroke-opacity:1; fill:none\" points=\"360.554,1503.08 376.782,1503.08 \"/>\n",
       "<polyline clip-path=\"url(#clip000)\" style=\"stroke:#000000; stroke-linecap:round; stroke-linejoin:round; stroke-width:4; stroke-opacity:1; fill:none\" points=\"360.554,1210.31 376.782,1210.31 \"/>\n",
       "<polyline clip-path=\"url(#clip000)\" style=\"stroke:#000000; stroke-linecap:round; stroke-linejoin:round; stroke-width:4; stroke-opacity:1; fill:none\" points=\"360.554,917.552 376.782,917.552 \"/>\n",
       "<polyline clip-path=\"url(#clip000)\" style=\"stroke:#000000; stroke-linecap:round; stroke-linejoin:round; stroke-width:4; stroke-opacity:1; fill:none\" points=\"360.554,624.789 376.782,624.789 \"/>\n",
       "<polyline clip-path=\"url(#clip000)\" style=\"stroke:#000000; stroke-linecap:round; stroke-linejoin:round; stroke-width:4; stroke-opacity:1; fill:none\" points=\"360.554,332.027 376.782,332.027 \"/>\n",
       "<polyline clip-path=\"url(#clip000)\" style=\"stroke:#000000; stroke-linecap:round; stroke-linejoin:round; stroke-width:4; stroke-opacity:1; fill:none\" points=\"360.554,1678.73 368.668,1678.73 \"/>\n",
       "<polyline clip-path=\"url(#clip000)\" style=\"stroke:#000000; stroke-linecap:round; stroke-linejoin:round; stroke-width:4; stroke-opacity:1; fill:none\" points=\"360.554,1620.18 368.668,1620.18 \"/>\n",
       "<polyline clip-path=\"url(#clip000)\" style=\"stroke:#000000; stroke-linecap:round; stroke-linejoin:round; stroke-width:4; stroke-opacity:1; fill:none\" points=\"360.554,1561.63 368.668,1561.63 \"/>\n",
       "<polyline clip-path=\"url(#clip000)\" style=\"stroke:#000000; stroke-linecap:round; stroke-linejoin:round; stroke-width:4; stroke-opacity:1; fill:none\" points=\"360.554,1444.52 368.668,1444.52 \"/>\n",
       "<polyline clip-path=\"url(#clip000)\" style=\"stroke:#000000; stroke-linecap:round; stroke-linejoin:round; stroke-width:4; stroke-opacity:1; fill:none\" points=\"360.554,1385.97 368.668,1385.97 \"/>\n",
       "<polyline clip-path=\"url(#clip000)\" style=\"stroke:#000000; stroke-linecap:round; stroke-linejoin:round; stroke-width:4; stroke-opacity:1; fill:none\" points=\"360.554,1327.42 368.668,1327.42 \"/>\n",
       "<polyline clip-path=\"url(#clip000)\" style=\"stroke:#000000; stroke-linecap:round; stroke-linejoin:round; stroke-width:4; stroke-opacity:1; fill:none\" points=\"360.554,1268.87 368.668,1268.87 \"/>\n",
       "<polyline clip-path=\"url(#clip000)\" style=\"stroke:#000000; stroke-linecap:round; stroke-linejoin:round; stroke-width:4; stroke-opacity:1; fill:none\" points=\"360.554,1151.76 368.668,1151.76 \"/>\n",
       "<polyline clip-path=\"url(#clip000)\" style=\"stroke:#000000; stroke-linecap:round; stroke-linejoin:round; stroke-width:4; stroke-opacity:1; fill:none\" points=\"360.554,1093.21 368.668,1093.21 \"/>\n",
       "<polyline clip-path=\"url(#clip000)\" style=\"stroke:#000000; stroke-linecap:round; stroke-linejoin:round; stroke-width:4; stroke-opacity:1; fill:none\" points=\"360.554,1034.66 368.668,1034.66 \"/>\n",
       "<polyline clip-path=\"url(#clip000)\" style=\"stroke:#000000; stroke-linecap:round; stroke-linejoin:round; stroke-width:4; stroke-opacity:1; fill:none\" points=\"360.554,976.104 368.668,976.104 \"/>\n",
       "<polyline clip-path=\"url(#clip000)\" style=\"stroke:#000000; stroke-linecap:round; stroke-linejoin:round; stroke-width:4; stroke-opacity:1; fill:none\" points=\"360.554,858.999 368.668,858.999 \"/>\n",
       "<polyline clip-path=\"url(#clip000)\" style=\"stroke:#000000; stroke-linecap:round; stroke-linejoin:round; stroke-width:4; stroke-opacity:1; fill:none\" points=\"360.554,800.447 368.668,800.447 \"/>\n",
       "<polyline clip-path=\"url(#clip000)\" style=\"stroke:#000000; stroke-linecap:round; stroke-linejoin:round; stroke-width:4; stroke-opacity:1; fill:none\" points=\"360.554,741.894 368.668,741.894 \"/>\n",
       "<polyline clip-path=\"url(#clip000)\" style=\"stroke:#000000; stroke-linecap:round; stroke-linejoin:round; stroke-width:4; stroke-opacity:1; fill:none\" points=\"360.554,683.342 368.668,683.342 \"/>\n",
       "<polyline clip-path=\"url(#clip000)\" style=\"stroke:#000000; stroke-linecap:round; stroke-linejoin:round; stroke-width:4; stroke-opacity:1; fill:none\" points=\"360.554,566.237 368.668,566.237 \"/>\n",
       "<polyline clip-path=\"url(#clip000)\" style=\"stroke:#000000; stroke-linecap:round; stroke-linejoin:round; stroke-width:4; stroke-opacity:1; fill:none\" points=\"360.554,507.684 368.668,507.684 \"/>\n",
       "<polyline clip-path=\"url(#clip000)\" style=\"stroke:#000000; stroke-linecap:round; stroke-linejoin:round; stroke-width:4; stroke-opacity:1; fill:none\" points=\"360.554,449.132 368.668,449.132 \"/>\n",
       "<polyline clip-path=\"url(#clip000)\" style=\"stroke:#000000; stroke-linecap:round; stroke-linejoin:round; stroke-width:4; stroke-opacity:1; fill:none\" points=\"360.554,390.579 368.668,390.579 \"/>\n",
       "<polyline clip-path=\"url(#clip000)\" style=\"stroke:#000000; stroke-linecap:round; stroke-linejoin:round; stroke-width:4; stroke-opacity:1; fill:none\" points=\"360.554,273.474 368.668,273.474 \"/>\n",
       "<polyline clip-path=\"url(#clip000)\" style=\"stroke:#000000; stroke-linecap:round; stroke-linejoin:round; stroke-width:4; stroke-opacity:1; fill:none\" points=\"360.554,214.922 368.668,214.922 \"/>\n",
       "<polyline clip-path=\"url(#clip000)\" style=\"stroke:#000000; stroke-linecap:round; stroke-linejoin:round; stroke-width:4; stroke-opacity:1; fill:none\" points=\"360.554,156.369 368.668,156.369 \"/>\n",
       "<path clip-path=\"url(#clip000)\" d=\"M272.127 1508.95 Q272.571 1509.39 272.571 1510.02 Q272.571 1510.65 272.127 1511.1 Q271.682 1511.54 271.052 1511.54 L223.548 1511.54 Q222.918 1511.54 222.473 1511.1 Q222.028 1510.65 222.028 1510.02 Q222.028 1509.39 222.473 1508.95 Q222.918 1508.51 223.548 1508.51 L271.052 1508.51 Q271.682 1508.51 272.127 1508.95 Z\" fill=\"#000000\" fill-rule=\"evenodd\" fill-opacity=\"1\" /><path clip-path=\"url(#clip000)\" d=\"M278.908 1516.47 L278.908 1514.14 L302.215 1478.53 Q302.808 1477.6 303.735 1477.64 Q304.587 1477.64 304.772 1477.97 Q304.958 1478.31 304.958 1479.6 L304.958 1514.14 L312.554 1514.14 L312.554 1516.47 L304.958 1516.47 L304.958 1523.07 Q304.958 1525.25 305.847 1525.96 Q306.773 1526.66 310.701 1526.66 L312.294 1526.66 L312.294 1529 Q309.182 1528.77 301.993 1528.77 Q294.841 1528.77 291.729 1529 L291.729 1526.66 L293.322 1526.66 Q297.25 1526.66 298.176 1526 Q299.103 1525.29 299.103 1523.07 L299.103 1516.47 L278.908 1516.47 M281.057 1514.14 L299.547 1514.14 L299.547 1485.83 L281.057 1514.14 Z\" fill=\"#000000\" fill-rule=\"evenodd\" fill-opacity=\"1\" /><path clip-path=\"url(#clip000)\" d=\"M273.794 1216.19 Q274.239 1216.63 274.239 1217.26 Q274.239 1217.89 273.794 1218.34 Q273.35 1218.78 272.72 1218.78 L225.215 1218.78 Q224.585 1218.78 224.14 1218.34 Q223.696 1217.89 223.696 1217.26 Q223.696 1216.63 224.14 1216.19 Q224.585 1215.74 225.215 1215.74 L272.72 1215.74 Q273.35 1215.74 273.794 1216.19 Z\" fill=\"#000000\" fill-rule=\"evenodd\" fill-opacity=\"1\" /><path clip-path=\"url(#clip000)\" d=\"M282.243 1236.23 Q282.243 1234.86 282.354 1234.46 Q282.502 1234.05 283.095 1233.42 L297.658 1217.19 Q305.625 1208.22 305.625 1200.4 Q305.625 1195.33 302.957 1191.69 Q300.326 1188.06 295.471 1188.06 Q292.136 1188.06 289.32 1190.1 Q286.504 1192.14 285.207 1195.77 Q285.43 1195.7 286.208 1195.7 Q288.097 1195.7 289.135 1196.88 Q290.21 1198.07 290.21 1199.66 Q290.21 1201.7 288.876 1202.7 Q287.579 1203.66 286.282 1203.66 Q285.763 1203.66 285.059 1203.55 Q284.392 1203.44 283.317 1202.4 Q282.243 1201.33 282.243 1199.44 Q282.243 1194.14 286.245 1189.92 Q290.284 1185.69 296.435 1185.69 Q303.401 1185.69 307.959 1189.84 Q312.554 1193.95 312.554 1200.4 Q312.554 1202.66 311.85 1204.74 Q311.183 1206.78 310.256 1208.37 Q309.367 1209.96 306.921 1212.52 Q304.476 1215.08 302.512 1216.89 Q300.548 1218.71 296.138 1222.56 L288.097 1230.38 L301.771 1230.38 Q308.441 1230.38 308.959 1229.79 Q309.701 1228.71 310.627 1223.04 L312.554 1223.04 L310.405 1236.23 L282.243 1236.23 Z\" fill=\"#000000\" fill-rule=\"evenodd\" fill-opacity=\"1\" /><path clip-path=\"url(#clip000)\" d=\"M280.612 919.201 Q280.612 908.047 283.429 901.97 Q287.356 892.929 296.62 892.929 Q298.584 892.929 300.622 893.485 Q302.697 894.003 305.291 896.041 Q307.922 898.079 309.515 901.414 Q312.554 907.862 312.554 919.201 Q312.554 930.28 309.738 936.32 Q305.625 945.139 296.546 945.139 Q293.137 945.139 289.654 943.398 Q286.208 941.656 284.021 937.469 Q280.612 931.207 280.612 919.201 M286.912 918.274 Q286.912 929.724 287.727 934.282 Q288.653 939.21 291.173 941.36 Q293.73 943.472 296.546 943.472 Q299.585 943.472 302.104 941.211 Q304.661 938.914 305.439 933.986 Q306.292 929.131 306.254 918.274 Q306.254 907.714 305.513 903.489 Q304.513 898.561 301.845 896.597 Q299.214 894.596 296.546 894.596 Q295.546 894.596 294.471 894.893 Q293.433 895.189 291.914 896.041 Q290.395 896.894 289.209 899.006 Q288.06 901.118 287.505 904.305 Q286.912 908.418 286.912 918.274 Z\" fill=\"#000000\" fill-rule=\"evenodd\" fill-opacity=\"1\" /><path clip-path=\"url(#clip000)\" d=\"M282.243 650.709 Q282.243 649.338 282.354 648.931 Q282.502 648.523 283.095 647.893 L297.658 631.663 Q305.625 622.696 305.625 614.877 Q305.625 609.8 302.957 606.169 Q300.326 602.538 295.471 602.538 Q292.136 602.538 289.32 604.576 Q286.504 606.614 285.207 610.245 Q285.43 610.171 286.208 610.171 Q288.097 610.171 289.135 611.357 Q290.21 612.543 290.21 614.136 Q290.21 616.174 288.876 617.174 Q287.579 618.138 286.282 618.138 Q285.763 618.138 285.059 618.027 Q284.392 617.916 283.317 616.878 Q282.243 615.803 282.243 613.914 Q282.243 608.615 286.245 604.39 Q290.284 600.166 296.435 600.166 Q303.401 600.166 307.959 604.316 Q312.554 608.429 312.554 614.877 Q312.554 617.137 311.85 619.212 Q311.183 621.25 310.256 622.844 Q309.367 624.437 306.921 626.994 Q304.476 629.551 302.512 631.367 Q300.548 633.182 296.138 637.036 L288.097 644.855 L301.771 644.855 Q308.441 644.855 308.959 644.262 Q309.701 643.187 310.627 637.518 L312.554 637.518 L310.405 650.709 L282.243 650.709 Z\" fill=\"#000000\" fill-rule=\"evenodd\" fill-opacity=\"1\" /><path clip-path=\"url(#clip000)\" d=\"M278.908 345.422 L278.908 343.088 L302.215 307.478 Q302.808 306.551 303.735 306.588 Q304.587 306.588 304.772 306.922 Q304.958 307.255 304.958 308.552 L304.958 343.088 L312.554 343.088 L312.554 345.422 L304.958 345.422 L304.958 352.018 Q304.958 354.204 305.847 354.908 Q306.773 355.612 310.701 355.612 L312.294 355.612 L312.294 357.947 Q309.182 357.724 301.993 357.724 Q294.841 357.724 291.729 357.947 L291.729 355.612 L293.322 355.612 Q297.25 355.612 298.176 354.945 Q299.103 354.241 299.103 352.018 L299.103 345.422 L278.908 345.422 M281.057 343.088 L299.547 343.088 L299.547 314.778 L281.057 343.088 Z\" fill=\"#000000\" fill-rule=\"evenodd\" fill-opacity=\"1\" /><path clip-path=\"url(#clip000)\" d=\"M117.576 978.558 Q118.232 978.558 119.778 978.979 L156.41 988.161 Q164.561 990.175 170.277 996.733 Q175.992 1003.24 175.992 1010.65 Q175.992 1015.1 173.603 1017.95 Q171.26 1020.81 167.653 1020.81 Q164.468 1020.81 162.922 1019.13 Q161.423 1017.44 161.423 1015.42 Q161.423 1014.77 161.61 1014.07 Q161.798 1013.36 162.594 1012.61 Q163.39 1011.86 164.749 1011.86 Q166.951 1011.86 168.684 1013.78 Q169.48 1014.72 169.668 1015.61 Q169.855 1016.46 169.855 1017.91 Q171.167 1017.35 172.057 1016.31 Q172.947 1015.28 173.275 1014.11 Q173.649 1012.94 173.743 1012.19 Q173.884 1011.4 173.884 1010.65 Q173.884 1004.65 167.841 1000.06 Q166.014 998.701 164.187 997.717 Q162.407 996.686 160.205 995.937 Q158.05 995.187 156.879 994.86 Q155.708 994.485 153.038 993.829 Q157.394 998.186 157.394 1003.53 Q157.394 1005.77 156.785 1007.79 Q156.176 1009.76 154.911 1011.49 Q153.6 1013.22 151.304 1014.25 Q149.009 1015.24 145.964 1015.24 Q142.732 1015.24 138.328 1013.97 Q133.925 1012.71 125.821 1009.66 Q121.277 1008.02 119.075 1008.02 Q117.998 1008.02 117.342 1008.26 Q116.639 1008.49 116.405 1008.96 Q116.124 1009.43 116.077 1009.71 Q116.03 1009.94 116.03 1010.41 Q116.03 1013.18 118.841 1015.75 Q121.652 1018.33 127.929 1020.11 Q129.1 1020.48 129.381 1020.72 Q129.662 1020.95 129.662 1021.65 Q129.615 1022.83 128.678 1022.83 Q128.304 1022.83 126.851 1022.4 Q125.352 1021.98 123.151 1021 Q120.902 1019.97 118.888 1018.56 Q116.827 1017.16 115.374 1014.96 Q113.922 1012.71 113.922 1010.13 Q113.922 1006.62 116.218 1004.46 Q118.466 1002.26 121.792 1002.26 Q123.151 1002.26 124.369 1002.64 Q125.54 1002.96 128.678 1004.18 Q141.326 1009.1 147.51 1009.1 Q149.009 1009.1 150.274 1008.87 Q151.492 1008.59 152.71 1007.98 Q153.881 1007.37 154.584 1006.15 Q155.239 1004.88 155.239 1003.15 Q155.239 1000.95 154.209 998.888 Q153.131 996.78 151.679 995.469 Q150.227 994.11 149.009 993.314 Q147.744 992.47 147.088 992.283 L129.849 987.973 L122.167 986.053 Q117.998 985.163 116.967 984.741 Q115.983 984.179 115.468 983.195 Q114.953 982.211 114.953 981.368 Q114.953 980.197 115.655 979.401 Q116.358 978.558 117.576 978.558 Z\" fill=\"#006400\" fill-rule=\"evenodd\" fill-opacity=\"1\" /><path clip-path=\"url(#clip000)\" d=\"M132.332 965.538 Q116.124 965.538 103.054 959.495 Q97.5733 956.918 92.9825 953.311 Q88.3917 949.704 86.3773 947.315 Q84.363 944.926 84.363 944.27 Q84.363 943.333 85.2999 943.287 Q85.7684 943.287 86.9395 944.551 Q102.679 960.01 132.332 959.963 Q162.079 959.963 177.21 944.926 Q178.849 943.287 179.364 943.287 Q180.301 943.287 180.301 944.27 Q180.301 944.926 178.381 947.222 Q176.46 949.517 172.057 953.077 Q167.653 956.637 162.266 959.214 Q149.196 965.538 132.332 965.538 Z\" fill=\"#006400\" fill-rule=\"evenodd\" fill-opacity=\"1\" /><path clip-path=\"url(#clip000)\" d=\"M142.591 857.389 Q142.966 857.389 144.418 857.811 Q145.87 858.232 148.119 859.263 Q150.367 860.247 152.429 861.652 Q154.443 863.01 155.942 865.259 Q157.394 867.461 157.394 869.99 Q157.394 873.363 155.146 875.612 Q152.897 877.86 149.524 877.86 Q147.697 877.86 144.231 876.595 Q128.397 870.646 122.729 870.646 Q116.03 870.646 116.03 875.846 Q116.03 878.797 117.248 881.467 Q118.466 884.137 120.153 885.871 Q121.839 887.604 123.76 888.962 Q125.68 890.321 126.945 890.93 Q128.21 891.492 128.772 891.633 L151.913 897.395 Q153.881 897.863 154.818 898.191 Q155.755 898.519 156.551 899.409 Q157.394 900.299 157.394 901.704 Q157.394 902.875 156.692 903.719 Q155.989 904.515 154.771 904.515 Q154.584 904.515 153.6 904.281 Q152.616 904.047 151.258 903.719 Q149.899 903.391 149.103 903.25 Q142.732 901.564 141.842 901.33 L130.693 898.659 Q125.165 897.207 122.729 897.207 Q116.03 897.207 116.03 902.407 Q116.03 904.983 117.014 907.419 Q117.951 909.808 119.262 911.448 Q120.574 913.088 122.401 914.587 Q124.181 916.039 125.399 916.788 Q126.57 917.491 127.741 918.053 L132.52 919.271 Q133.831 919.552 138.937 920.911 L147.604 923.019 Q154.068 924.518 154.677 924.846 Q155.989 925.314 156.692 926.345 Q157.394 927.375 157.394 928.406 Q157.394 929.577 156.692 930.373 Q155.989 931.17 154.771 931.17 Q154.584 931.17 153.881 931.029 Q153.178 930.889 152.194 930.654 Q151.211 930.42 150.649 930.327 L128.491 924.752 Q124.462 923.721 123.197 923.487 Q121.886 923.206 120.434 923.206 Q116.03 923.206 116.03 926.204 Q116.03 928.64 118.935 930.233 Q121.839 931.826 127.46 933.184 Q129.006 933.606 129.334 933.887 Q129.662 934.121 129.662 934.824 Q129.615 935.995 128.678 935.995 Q128.444 935.995 126.945 935.62 Q125.446 935.245 123.197 934.543 Q120.902 933.793 119.403 932.997 Q118.419 932.528 117.763 932.107 Q117.108 931.685 116.077 930.842 Q115.046 929.999 114.484 928.734 Q113.922 927.469 113.922 925.923 Q113.922 922.503 116.124 919.974 Q118.326 917.397 122.261 917.069 Q113.922 910.839 113.922 902.126 Q113.922 897.207 116.405 894.256 Q118.794 891.492 123.197 891.164 Q113.922 884.7 113.922 875.518 Q113.922 870.225 116.686 867.367 Q119.403 864.509 124.181 864.509 Q126.664 864.509 131.395 865.774 Q136.08 867.039 138.422 867.882 Q140.764 868.725 145.261 870.365 Q149.571 872.098 152.101 872.098 Q153.74 872.098 154.49 871.536 Q155.239 870.974 155.239 869.756 Q155.239 867.882 154.162 866.243 Q153.038 864.603 151.211 863.432 Q149.337 862.214 147.463 861.418 Q145.542 860.621 143.388 860.012 Q142.216 859.638 141.935 859.45 Q141.654 859.216 141.654 858.56 Q141.654 857.389 142.591 857.389 Z\" fill=\"#006400\" fill-rule=\"evenodd\" fill-opacity=\"1\" /><path clip-path=\"url(#clip000)\" d=\"M179.364 849.117 Q178.896 849.117 177.725 847.899 Q161.985 832.44 132.332 832.44 Q102.586 832.44 87.5485 847.29 Q85.8152 849.117 85.2999 849.117 Q84.363 849.117 84.363 848.18 Q84.363 847.524 86.2837 845.229 Q88.2043 842.887 92.6077 839.373 Q97.0111 835.813 102.398 833.19 Q115.468 826.866 132.332 826.866 Q148.541 826.866 161.61 832.909 Q167.091 835.485 171.682 839.092 Q176.273 842.699 178.287 845.088 Q180.301 847.478 180.301 848.18 Q180.301 849.117 179.364 849.117 Z\" fill=\"#006400\" fill-rule=\"evenodd\" fill-opacity=\"1\" /><polyline clip-path=\"url(#clip003)\" style=\"stroke:#009af9; stroke-linecap:round; stroke-linejoin:round; stroke-width:8; stroke-opacity:0.7; fill:none\" points=\"426.118,917.552 429.675,914.176 433.232,908.003 436.789,900.01 440.346,890.548 444.458,878.046 448.569,864.065 452.68,848.759 456.792,832.253 460.903,814.649 465.015,796.037 469.126,776.501 473.237,756.12 481.46,713.122 489.683,667.646 497.905,620.306 506.128,571.753 514.351,522.679 522.574,473.828 530.796,425.992 539.019,380.013 543.131,357.993 547.242,336.771 551.353,316.461 555.465,297.179 559.576,279.042 563.687,262.168 567.799,246.672 571.91,232.671 576.852,217.982 581.793,205.81 586.735,196.344 591.676,189.762 596.618,186.232 601.559,185.912 606.501,188.943 611.442,195.451 613.913,200.044 616.384,205.545 618.855,211.963 621.325,219.309 623.796,227.59 626.267,236.81 628.738,246.975 631.208,258.087 633.679,270.147 636.15,283.154 638.621,297.105 641.091,311.996 646.033,344.57 650.974,380.801 655.152,414.208 659.33,450.071 663.508,488.289 667.686,528.743 671.864,571.299 676.042,615.804 680.22,662.087 684.398,709.962 692.754,809.653 701.11,913.058 709.466,1018.13 717.822,1122.62 722.361,1178.28 726.899,1232.68 731.438,1285.4 735.976,1336.05 740.515,1384.22 745.053,1429.51 749.592,1471.54 754.13,1509.92 756.399,1527.63 758.669,1544.3 760.938,1559.89 763.207,1574.34 765.476,1587.63 767.745,1599.72 770.015,1610.56 772.284,1620.14 774.553,1628.41 776.822,1635.36 779.092,1640.94 781.361,1645.14 783.63,1647.94 785.899,1649.31 788.169,1649.24 790.438,1647.72 792.53,1645.02 794.622,1641.08 796.714,1635.87 798.806,1629.42 800.898,1621.7 802.99,1612.74 805.082,1602.53 807.174,1591.08 809.266,1578.4 811.358,1564.51 813.45,1549.42 815.542,1533.15 817.634,1515.72 819.726,1497.15 821.818,1477.46 823.91,1456.69 826.002,1434.87 828.094,1412.03 830.186,1388.2 832.279,1363.42 836.463,1311.18 840.647,1255.66 844.831,1197.25 849.015,1136.36 853.199,1073.45 857.383,1008.98 866.354,867.892 875.326,727.25 879.812,658.809 884.297,592.547 888.783,529.153 893.269,469.304 895.512,440.915 897.755,413.657 899.998,387.607 902.241,362.84 904.483,339.43 906.726,317.446 908.969,296.955 911.212,278.022 913.455,260.706 915.698,245.065 917.941,231.152 920.184,219.015 922.426,208.699 924.669,200.244 926.912,193.685 929.155,189.053 931.754,186.129 934.352,185.856 936.951,188.257 939.55,193.342 942.148,201.114 944.747,211.563 947.345,224.67 949.944,240.407 952.543,258.733 955.141,279.598 957.74,302.941 960.338,328.689 962.937,356.762 965.536,387.067 968.134,419.502 970.733,453.955 973.331,490.306 975.93,528.424 978.529,568.17 981.127,609.397 983.726,651.95 986.324,695.667 988.923,740.379 991.521,785.911 1001.92,972.564 1012.31,1157.24 1014.62,1196.73 1016.93,1235.37 1019.24,1273.02 1021.55,1309.55 1023.86,1344.82 1026.17,1378.72 1028.48,1411.1 1030.78,1441.86 1033.09,1470.88 1035.4,1498.05 1037.71,1523.26 1040.02,1546.42 1042.33,1567.43 1044.64,1586.2 1046.95,1602.66 1049.26,1616.74 1051.57,1628.37 1053.88,1637.5 1056.19,1644.08 1058.5,1648.08 1060.81,1649.46 1063.12,1648.2 1065.42,1644.3 1067.73,1637.76 1070.04,1628.58 1072.35,1616.79 1074.66,1602.41 1076.97,1585.49 1079.28,1566.06 1081.59,1544.2 1083.9,1519.97 1086.21,1493.45 1088.23,1468.37 1090.26,1441.66 1092.28,1413.4 1094.31,1383.65 1096.33,1352.49 1098.36,1320.02 1100.38,1286.32 1102.41,1251.48 1106.46,1178.79 1110.51,1102.78 1114.56,1024.34 1118.61,944.376 1122.66,863.86 1126.71,783.763 1130.76,705.071 1134.81,628.767 1136.84,591.814 1138.86,555.818 1140.89,520.896 1142.91,487.163 1144.94,454.728 1146.96,423.699 1148.99,394.18 1151.01,366.271 1153.22,337.788 1155.43,311.449 1157.63,287.364 1159.84,265.633 1162.05,246.351 1164.26,229.603 1166.47,215.463 1168.67,203.999 1170.88,195.267 1173.09,189.312 1175.3,186.17 1177.51,185.865 1179.71,188.413 1181.92,193.814 1184.13,202.06 1186.34,213.132 1188.54,226.998 1190.75,243.615 1192.96,262.929 1195.17,284.875 1197.38,309.376 1199.58,336.346 1201.79,365.685 1204,397.287 1206.21,431.033 1208.42,466.796 1210.62,504.437 1212.83,543.813 1215.04,584.77 1217.25,627.145 1219.46,670.771 1221.66,715.474 1226.1,807.935 1230.55,902.492 1234.99,997.563 1239.43,1091.54 1241.65,1137.6 1243.87,1182.79 1246.09,1226.91 1248.31,1269.75 1250.54,1311.13 1252.76,1350.86 1254.98,1388.76 1257.2,1424.67 1259.42,1458.41 1261.64,1489.83 1263.86,1518.78 1266.08,1545.13 1268.3,1568.75 1270.52,1589.52 1272.75,1607.33 1274.97,1622.11 1277.19,1633.77 1279.41,1642.24 1281.63,1647.48 1283.85,1649.44 1286.07,1648.12 1288.29,1643.49 1290.51,1635.58 1292.73,1624.39 1293.96,1616.82 1295.19,1608.27 1296.42,1598.76 1297.65,1588.28 1300.1,1564.51 1302.56,1537.07 1305.01,1506.12 1307.47,1471.8 1309.92,1434.3 1312.38,1393.82 1314.84,1350.57 1317.29,1304.8 1319.75,1256.75 1322.2,1206.68 1324.66,1154.89 1327.11,1101.66 1329.57,1047.29 1332.02,992.1 1336.94,880.513 1341.85,769.491 1344.3,715.01 1346.76,661.65 1349.21,609.73 1351.67,559.564 1354.12,511.457 1356.58,465.704 1359.04,422.588 1361.49,382.377 1363.95,345.325 1366.4,311.667 1367.63,296.179 1368.86,281.62 1370.09,268.012 1371.31,255.38 1373.65,234.106 1375.99,216.567 1377.15,209.234 1378.32,202.874 1379.49,197.498 1380.66,193.116 1381.83,189.735 1383,187.362 1384.16,186.002 1385.33,185.659 1386.5,186.335 1387.67,188.031 1388.84,190.746 1390.01,194.479 1391.17,199.226 1392.34,204.983 1393.51,211.743 1394.68,219.498 1397.01,237.957 1399.35,260.27 1401.69,286.325 1404.02,315.987 1406.36,349.1 1408.7,385.489 1411.03,424.958 1413.37,467.291 1415.71,512.255 1418.04,559.601 1420.38,609.065 1422.72,660.368 1425.05,713.22 1427.39,767.319 1432.06,878.008 1436.73,989.876 1441.41,1100.31 1446.08,1206.68 1448.51,1259.53 1450.94,1310.25 1453.37,1358.5 1455.8,1403.97 1458.23,1446.34 1460.66,1485.34 1463.09,1520.7 1465.51,1552.17 1466.73,1566.38 1467.94,1579.53 1469.16,1591.62 1470.37,1602.6 1471.59,1612.47 1472.8,1621.21 1474.02,1628.79 1475.23,1635.21 1476.45,1640.45 1477.66,1644.5 1478.88,1647.36 1480.09,1649.01 1481.31,1649.45 1482.52,1648.68 1483.73,1646.69 1484.95,1643.5 1486.16,1639.09 1487.38,1633.48 1488.59,1626.68 1489.81,1618.69 1491.02,1609.53 1492.24,1599.2 1493.45,1587.73 1494.67,1575.12 1495.88,1561.41 1497.1,1546.61 1498.31,1530.74 1499.53,1513.83 1501.95,1477 1504.38,1436.35 1506.81,1392.14 1509.24,1344.67 1511.67,1294.23 1514.1,1241.17 1516.53,1185.85 1518.96,1128.62 1521.39,1069.88 1523.82,1010.03 1527.91,907.897 1532,805.762 1536.09,705.636 1540.18,609.51 1542.22,563.552 1544.27,519.31 1546.31,477.008 1548.36,436.864 1550.4,399.082 1552.45,363.859 1554.49,331.379 1556.54,301.811 1558.58,275.313 1560.63,252.027 1562.67,232.079 1564.72,215.578 1566.76,202.619 1568.81,193.275 1569.83,189.978 1570.85,187.605 1571.88,186.16 1572.9,185.647 1573.92,186.067 1574.94,187.42 1575.97,189.708 1576.99,192.927 1578.01,197.076 1579.03,202.149 1580.06,208.142 1581.08,215.048 1583.12,231.567 1585.17,251.632 1587.21,275.148 1589.26,302.003 1590.51,319.982 1591.76,339.125 1593,359.395 1594.25,380.756 1596.75,426.59 1599.25,476.283 1601.74,529.46 1604.24,585.719 1606.74,644.629 1609.23,705.737 1614.23,832.643 1619.22,962.484 1621.72,1027.23 1624.21,1091.17 1626.71,1153.81 1629.21,1214.62 1631.7,1273.13 1634.2,1328.86 1636.7,1381.35 1639.19,1430.18 1640.44,1453.08 1641.69,1474.93 1642.94,1495.66 1644.19,1515.23 1645.43,1533.61 1646.68,1550.75 1647.93,1566.62 1649.18,1581.18 1650.43,1594.41 1651.68,1606.26 1652.92,1616.73 1654.17,1625.78 1655.42,1633.39 1656.67,1639.54 1657.92,1644.23 1659.17,1647.43 1660.41,1649.15 1661.66,1649.36 1662.91,1648.08 1664.16,1645.3 1665.41,1641.03 1666.66,1635.26 1667.91,1628.02 1669.15,1619.31 1670.3,1610.06 1671.44,1599.61 1672.58,1587.97 1673.73,1575.16 1674.87,1561.21 1676.01,1546.13 1677.16,1529.95 1678.3,1512.69 1679.45,1494.4 1680.59,1475.08 1681.73,1454.79 1682.88,1433.55 1684.02,1411.4 1685.16,1388.37 1686.31,1364.51 1687.45,1339.85 1689.74,1288.32 1692.02,1234.14 1694.31,1177.68 1696.6,1119.34 1701.17,998.635 1705.75,875.417 1710.32,753.179 1714.9,635.417 1717.18,579.282 1719.47,525.528 1721.76,474.547 1724.04,426.714 1726.33,382.383 1728.62,341.885 1729.76,323.169 1730.91,305.522 1732.05,288.979 1733.19,273.571 1734.34,259.327 1735.48,246.274 1736.62,234.439 1737.77,223.843 1738.91,214.509 1740.05,206.455 1741.2,199.698 1742.34,194.25 1743.4,190.393 1744.45,187.671 1745.51,186.09 1746.57,185.654 1747.62,186.364 1748.68,188.221 1749.74,191.223 1750.79,195.367 1751.85,200.649 1752.9,207.06 1753.96,214.592 1755.02,223.235 1756.07,232.976 1757.13,243.802 1758.18,255.696 1759.24,268.641 1760.3,282.617 1761.35,297.605 1762.41,313.58 1763.47,330.52 1765.58,367.187 1767.69,407.381 1769.8,450.854 1771.91,497.338 1774.03,546.542 1776.14,598.157 1778.25,651.859 1780.36,707.308 1782.48,764.151 1784.59,822.026 1788.81,939.381 1793.04,1056.35 1795.15,1113.75 1797.26,1169.91 1799.38,1224.47 1801.49,1277.07 1803.6,1327.37 1805.71,1375.03 1807.82,1419.73 1809.94,1461.17 1811.01,1480.83 1812.08,1499.54 1813.15,1517.28 1814.22,1534.01 1815.29,1549.71 1816.36,1564.34 1817.43,1577.89 1818.5,1590.32 1819.57,1601.62 1820.64,1611.76 1821.71,1620.72 1822.78,1628.49 1823.85,1635.06 1824.92,1640.41 1825.99,1644.53 1827.06,1647.41 1828.13,1649.05 1829.2,1649.44 1830.26,1648.58 1831.33,1646.46 1832.4,1643.11 1833.47,1638.5 1834.54,1632.66 1835.61,1625.6 1836.68,1617.31 1837.75,1607.82 1838.82,1597.14 1839.89,1585.28 1840.96,1572.28 1842.03,1558.14 1843.1,1542.89 1844.17,1526.55 1845.24,1509.16 1846.31,1490.74 1847.38,1471.32 1848.45,1450.93 1850.59,1407.4 1852.73,1360.44 1854.87,1310.37 1857.01,1257.53 1859.15,1202.28 1861.29,1145.01 1865.57,1025.97 1869.85,903.713 1874.13,781.67 1878.41,663.275 1879.61,631.219 1880.81,599.786 1882.01,569.047 1883.21,539.072 1885.6,481.68 1888,428.131 1889.2,402.952 1890.4,378.913 1891.6,356.071 1892.8,334.478 1894,314.184 1895.2,295.237 1896.39,277.679 1897.59,261.553 1898.79,246.897 1899.99,233.745 1901.19,222.129 1902.39,212.078 1903.59,203.614 1904.79,196.761 1905.99,191.534 1907.19,187.949 1908.38,186.014 1909.58,185.738 1910.78,187.121 1911.98,190.163 1913.18,194.859 1914.38,201.201 1915.58,209.175 1916.78,218.766 1917.98,229.954 1919.18,242.716 1920.38,257.023 1921.57,272.845 1922.77,290.148 1923.97,308.895 1925.17,329.042 1926.37,350.547 1927.57,373.362 1928.77,397.435 1929.97,422.712 1931.17,449.138 1932.37,476.653 1933.56,505.194 1934.76,534.697 1935.96,565.095 1938.36,628.298 1940.76,694.225 1943.16,762.272 1945.55,831.814 1950.35,972.798 1955.15,1111.95 1957.32,1172.98 1959.49,1232.09 1961.67,1288.83 1963.84,1342.74 1966.01,1393.4 1968.19,1440.42 1969.27,1462.45 1970.36,1483.43 1971.44,1503.32 1972.53,1522.08 1973.62,1539.67 1974.7,1556.06 1975.79,1571.21 1976.88,1585.1 1977.96,1597.69 1979.05,1608.96 1980.14,1618.89 1981.22,1627.45 1982.31,1634.63 1983.4,1640.4 1984.48,1644.77 1985.57,1647.72 1986.66,1649.23 1987.74,1649.32 1988.83,1647.97 1989.92,1645.18 1991,1640.97 1992.09,1635.33 1993.17,1628.28 1994.26,1619.83 1995.35,1609.99 1996.43,1598.78 1997.52,1586.23 1998.61,1572.35 1999.69,1557.18 2000.78,1540.73 2001.87,1523.05 2002.95,1504.17 2004.04,1484.11 2005.13,1462.93 2006.21,1440.66 2007.3,1417.34 2009.47,1367.75 2011.65,1314.55 2013.82,1258.15 2015.99,1199 2018.16,1137.56 2020.34,1074.31 2022.51,1009.78 2024.68,944.455 2027.17,869.378 2029.66,794.75 2032.15,721.36 2034.64,649.988 2035.88,615.297 2037.12,581.393 2038.37,548.367 2039.61,516.309 2040.86,485.303 2042.1,455.435 2043.34,426.785 2044.59,399.429 2045.83,373.444 2047.08,348.899 2048.32,325.863 2049.56,304.397 2050.81,284.561 2052.05,266.411 2053.3,249.996 2054.54,235.363 2055.78,222.554 2057.03,211.603 2058.27,202.543 2059.52,195.401 2060.76,190.198 2062,186.95 2063.25,185.668 2064.49,186.357 2065.74,189.019 2066.98,193.648 2068.22,200.234 2069.47,208.761 2070.71,219.209 2071.96,231.551 2073.2,245.756 2074.44,261.788 2075.69,279.605 2076.93,299.161 2078.18,320.405 2079.42,343.28 2080.66,367.727 2081.91,393.681 2083.15,421.072 2084.4,449.827 2085.64,479.87 2086.88,511.119 2088.13,543.492 2089.37,576.9 2091.86,646.457 2094.35,719.039 2099.32,870.083 2104.3,1023.43 2106.6,1093.33 2108.91,1161.61 2111.21,1227.62 2113.51,1290.73 2114.67,1321 2115.82,1350.32 2116.97,1378.62 2118.12,1405.83 2119.27,1431.88 2120.42,1456.72 2121.58,1480.27 2122.73,1502.48 2123.88,1523.3 2125.03,1542.68 2126.18,1560.57 2127.34,1576.91 2128.49,1591.69 2129.64,1604.84 2130.79,1616.35 2131.94,1626.18 2133.09,1634.31 2134.25,1640.72 2135.4,1645.38 2136.55,1648.29 2137.7,1649.44 2138.85,1648.82 2140.01,1646.43 2141.16,1642.28 2142.31,1636.37 2143.46,1628.72 2144.61,1619.35 2145.76,1608.27 2146.92,1595.51 2148.07,1581.1 2149.22,1565.07 2150.37,1547.46 2151.52,1528.32 2152.68,1507.68 2153.83,1485.59 2154.98,1462.11 2156.13,1437.3 2157.28,1411.21 2158.43,1383.91 2159.59,1355.45 2161.89,1295.37 2164.19,1231.56 2166.5,1164.62 2168.8,1095.21 2173.41,951.706 2178.02,806.676 2180.29,736.371 2182.56,667.764 2184.83,601.519 2187.1,538.279 2188.24,507.98 2189.37,478.661 2190.51,450.394 2191.64,423.249 2192.78,397.292 2193.91,372.587 2195.05,349.195 2196.18,327.175 2197.32,306.582 2198.46,287.466 2199.59,269.875 2200.73,253.854 2201.86,239.444 2203,226.68 2204.13,215.597 2205.27,206.221 2206.4,198.579 2207.54,192.689 2208.68,188.569 2209.81,186.229 2210.95,185.679 2212.08,186.919 2213.22,189.95 2214.35,194.765 2215.49,201.354 2216.62,209.704 2217.76,219.794 2218.9,231.602 2220.03,245.1 2221.17,260.258 2222.3,277.038 2223.44,295.402 2224.57,315.305 2225.71,336.7 2226.84,359.535 2227.98,383.756 2229.12,409.304 2230.25,436.116 2231.39,464.129 2232.52,493.272 2234.79,554.667 2237.06,619.7 2239.34,687.73 2241.61,758.089 2246.15,902.986 2250.69,1048.64 2252.9,1117.88 2255.1,1185.28 2257.31,1250.18 2259.51,1311.97 2260.61,1341.51 2261.72,1370.06 2262.82,1397.54 2263.92,1423.89 2265.02,1449.05 2266.13,1472.94 2267.23,1495.53 2268.33,1516.74 2269.43,1536.54 2270.54,1554.86 2271.64,1571.67 2272.74,1586.93 2273.84,1600.59 2274.95,1612.62 2276.05,1623 2277.15,1631.69 2278.25,1638.68 2279.36,1643.94 2280.46,1647.46 2281.56,1649.23 2282.66,1649.25 2283.77,1647.51 2284.87,1644.02 2285.97,1638.78 2287.07,1631.8 2288.18,1623.1 2289.28,1612.71 2290.38,1600.63 2291.48,1586.91 2292.59,1571.56 2293.69,1554.64 2294.79,1536.17 2295.89,1516.2 2297,1494.77 2298.1,1471.95 2299.2,1447.77 2300.3,1422.31 2301.41,1395.61 2302.51,1367.75 2303.61,1338.79 2305.82,1277.84 2308.02,1213.36 2310.23,1145.96 2312.43,1076.29 2316.84,932.894 2321.25,788.732 2323.51,716.376 2325.77,646.051 2328.03,578.486 2330.29,514.384 2331.42,483.842 2332.56,454.414 2333.69,426.177 2334.82,399.206 2335.95,373.57 2337.08,349.339 2338.21,326.575 2339.34,305.341 2340.47,285.691 2341.6,267.679 2342.73,251.354 2343.86,236.758 2344.99,223.932 2346.12,212.91 2347.25,203.724 2348.38,196.398 2349.51,190.953 2350.64,187.406 2351.77,185.767 2352.9,186.042 2354.03,188.232 2355.16,192.334 2356.29,198.337 2357.42,206.228 2358.55,215.988 2359.68,227.593 2360.81,241.014 2361.94,256.218 2363.07,273.165 2364.2,291.813 2365.33,312.114 2366.46,334.016 2367.59,357.464 2368.72,382.395 2369.85,408.746 2370.98,436.449 2372.11,465.431 2373.24,495.616 2374.37,526.927 2375.5,559.281 2377.76,626.776 2380.03,697.393 2382.29,770.387 2384.55,844.987 2389.07,995.83 2393.59,1143.51 2394.83,1182.57 2396.06,1220.79 2397.3,1258.05 2398.54,1294.23 2399.78,1329.2 2401.02,1362.86 2402.26,1395.1 2403.49,1425.81 2404.73,1454.88 2405.97,1482.24 2407.21,1507.78 2408.45,1531.42 2409.69,1553.08 2410.92,1572.69 2412.16,1590.19 2413.4,1605.52 2414.64,1618.62 2415.88,1629.45 2417.12,1637.97 2418.35,1644.16 2419.59,1647.99 2420.83,1649.44 2422.07,1648.52 2423.31,1645.21 2424.55,1639.54 2425.78,1631.51 2427.02,1621.14 2428.26,1608.48 2429.5,1593.56 2430.74,1576.43 2431.98,1557.13 2433.21,1535.74 2434.45,1512.32 2435.69,1486.94 2436.93,1459.69 2438.17,1430.65 2439.41,1399.92 2440.64,1367.6 2441.88,1333.79 2443.12,1298.6 2444.36,1262.14 2445.6,1224.54 2446.84,1185.92 2448.07,1146.4 2450.55,1065.19 2453.03,981.987 2455.5,897.88 2457.98,813.983 2460.46,731.406 2462.93,651.248 2464.17,612.412 2465.41,574.578 2466.65,537.873 2467.89,502.421 2469.12,468.34 2470.36,435.746 2471.6,404.748 2472.84,375.451 2473.74,355.296 2474.64,336.126 2475.54,317.977 2476.44,300.882 2477.34,284.871 2478.24,269.973 2479.14,256.215 2480.03,243.622 2480.93,232.218 2481.83,222.023 2482.73,213.056 2483.63,205.333 2484.53,198.87 2485.43,193.679 2486.33,189.769 2487.23,187.148 2488.13,185.822 2489.03,185.794 2489.93,187.065 2490.83,189.634 2491.73,193.496 2492.63,198.646 2493.53,205.075 2494.43,212.773 2495.32,221.728 2496.22,231.923 2497.12,243.341 2498.02,255.964 2498.92,269.768 2499.82,284.731 2500.72,300.827 2501.62,318.026 2502.52,336.301 2503.42,355.617 2504.32,375.943 2505.22,397.241 2507.02,442.604 2508.82,491.388 2510.62,543.246 2512.41,597.811 2514.21,654.695 2516.01,713.491 2519.61,835.13 2523.21,959.244 2526.8,1082.26 2530.4,1200.63 2532.2,1256.99 2534,1310.91 2535.8,1362.01 2537.6,1409.9 2539.4,1454.23 2541.2,1494.68 2542.09,1513.35 2542.99,1530.95 2543.89,1547.43 2544.79,1562.76 2545.69,1576.92 2546.59,1589.89 2547.49,1601.62 2548.39,1612.12 2549.29,1621.34 2550.19,1629.29 2551.09,1635.93 2551.99,1641.26 2552.89,1645.27 2553.79,1647.95 2554.69,1649.29 2555.59,1649.29 2556.49,1647.95 2557.39,1645.27 2558.28,1641.26 2559.18,1635.92 2560.08,1629.26 2560.98,1621.29 2561.88,1612.02 2562.78,1601.48 2563.68,1589.68 2564.58,1576.64 2565.48,1562.38 2566.38,1546.93 2567.28,1530.32 2568.18,1512.58 2569.08,1493.74 2569.98,1473.83 2571.78,1430.97 2573.57,1384.29 2575.37,1334.14 2577.17,1280.9 2578.97,1224.94 2580.77,1166.68 2584.37,1045 2587.97,919.432 2590.92,816.105 2593.87,714.742 2595.35,665.436 2596.82,617.381 2598.3,570.819 2599.77,525.987 2601.25,483.112 2602.73,442.412 2604.2,404.095 2605.68,368.356 2607.16,335.379 2608.63,305.333 2610.11,278.373 2611.58,254.639 \"/>\n",
       "<path clip-path=\"url(#clip000)\" d=\"M2767.07 323.054 L3058.27 323.054 L3058.27 193.454 L2767.07 193.454  Z\" fill=\"#ffffff\" fill-rule=\"evenodd\" fill-opacity=\"1\"/>\n",
       "<polyline clip-path=\"url(#clip000)\" style=\"stroke:#000000; stroke-linecap:round; stroke-linejoin:round; stroke-width:4; stroke-opacity:1; fill:none\" points=\"2767.07,323.054 3058.27,323.054 3058.27,193.454 2767.07,193.454 2767.07,323.054 \"/>\n",
       "<polyline clip-path=\"url(#clip000)\" style=\"stroke:#009af9; stroke-linecap:round; stroke-linejoin:round; stroke-width:10; stroke-opacity:0.7; fill:none\" points=\"2797.05,258.254 2976.89,258.254 \"/>\n",
       "<path clip-path=\"url(#clip000)\" d=\"M3025.28 251.324 Q3025.28 252.144 3024.9 252.349 Q3024.52 252.525 3023.47 252.525 L3017.85 252.525 L3013.4 270.209 Q3013.05 271.761 3013.05 273.078 Q3013.05 274.542 3013.49 275.186 Q3013.95 275.83 3014.92 275.83 Q3016.82 275.83 3018.87 274.103 Q3020.95 272.375 3022.71 268.159 Q3022.94 267.603 3023.06 267.486 Q3023.21 267.34 3023.59 267.34 Q3024.32 267.34 3024.32 267.925 Q3024.32 268.13 3023.91 269.067 Q3023.53 270.004 3022.68 271.38 Q3021.86 272.756 3020.78 274.044 Q3019.72 275.332 3018.11 276.269 Q3016.5 277.177 3014.77 277.177 Q3012.34 277.177 3010.79 275.625 Q3009.27 274.074 3009.27 271.643 Q3009.27 270.853 3009.88 268.335 Q3010.5 265.788 3013.84 252.525 L3008.54 252.525 Q3007.81 252.525 3007.51 252.496 Q3007.25 252.466 3007.04 252.32 Q3006.87 252.144 3006.87 251.793 Q3006.87 251.237 3007.1 251.002 Q3007.34 250.739 3007.63 250.71 Q3007.95 250.651 3008.68 250.651 L3014.3 250.651 L3016.65 241.136 Q3016.88 240.199 3017.47 239.672 Q3018.08 239.116 3018.43 239.057 Q3018.78 238.969 3019.05 238.969 Q3019.84 238.969 3020.31 239.408 Q3020.78 239.818 3020.78 240.579 Q3020.78 240.989 3018.32 250.651 L3023.59 250.651 Q3024.26 250.651 3024.52 250.68 Q3024.82 250.71 3025.05 250.856 Q3025.28 251.002 3025.28 251.324 Z\" fill=\"#000000\" fill-rule=\"evenodd\" fill-opacity=\"1\" /></svg>\n"
      ]
     },
     "execution_count": 2,
     "metadata": {},
     "output_type": "execute_result"
    }
   ],
   "source": [
    "#Plot 1: \n",
    "using Plots\n",
    "gr()\n",
    "using LaTeXStrings, Measures\n",
    "default(fontfamily = \"Computer Modern\", size=(800,500), titlefont = (16), legendfontsize = 10, \n",
    "        guidefont = (16, :darkgreen), tickfont = (12, :black), \n",
    "        framestyle = :box, yminorgrid = true)\n",
    "#FUNCTION TO PLOT\n",
    "f(t) = 5 * (sin(2 * pi * (t^(3/2))))\n",
    "plot(f, 0, 5, label = [L\"t\" L\"y\"], \n",
    "    linewidth = 2, linealpha=0.7, legend = :outertopright)\n",
    "plot!(margin=7mm, xlabel = L\"t (sec)\", ylabel= L\"y (m)\")"
   ]
  },
  {
   "cell_type": "code",
   "execution_count": 3,
   "metadata": {},
   "outputs": [
    {
     "data": {
      "image/svg+xml": [
       "<?xml version=\"1.0\" encoding=\"utf-8\"?>\n",
       "<svg xmlns=\"http://www.w3.org/2000/svg\" xmlns:xlink=\"http://www.w3.org/1999/xlink\" width=\"800\" height=\"500\" viewBox=\"0 0 3200 2000\">\n",
       "<defs>\n",
       "  <clipPath id=\"clip040\">\n",
       "    <rect x=\"0\" y=\"0\" width=\"3200\" height=\"2000\"/>\n",
       "  </clipPath>\n",
       "</defs>\n",
       "<path clip-path=\"url(#clip040)\" d=\"M0 2000 L3200 2000 L3200 0 L0 0  Z\" fill=\"#ffffff\" fill-rule=\"evenodd\" fill-opacity=\"1\"/>\n",
       "<defs>\n",
       "  <clipPath id=\"clip041\">\n",
       "    <rect x=\"640\" y=\"0\" width=\"2241\" height=\"2000\"/>\n",
       "  </clipPath>\n",
       "</defs>\n",
       "<defs>\n",
       "  <clipPath id=\"clip042\">\n",
       "    <rect x=\"360\" y=\"141\" width=\"2318\" height=\"1553\"/>\n",
       "  </clipPath>\n",
       "</defs>\n",
       "<path clip-path=\"url(#clip040)\" d=\"M397.646 1693.37 L2669.57 1693.37 L2669.57 141.732 L397.646 141.732  Z\" fill=\"#ffffff\" fill-rule=\"evenodd\" fill-opacity=\"1\"/>\n",
       "<defs>\n",
       "  <clipPath id=\"clip043\">\n",
       "    <rect x=\"397\" y=\"141\" width=\"2273\" height=\"1553\"/>\n",
       "  </clipPath>\n",
       "</defs>\n",
       "<polyline clip-path=\"url(#clip043)\" style=\"stroke:#000000; stroke-linecap:round; stroke-linejoin:round; stroke-width:2; stroke-opacity:0.1; fill:none\" points=\"461.946,1693.37 461.946,141.732 \"/>\n",
       "<polyline clip-path=\"url(#clip043)\" style=\"stroke:#000000; stroke-linecap:round; stroke-linejoin:round; stroke-width:2; stroke-opacity:0.1; fill:none\" points=\"997.776,1693.37 997.776,141.732 \"/>\n",
       "<polyline clip-path=\"url(#clip043)\" style=\"stroke:#000000; stroke-linecap:round; stroke-linejoin:round; stroke-width:2; stroke-opacity:0.1; fill:none\" points=\"1533.61,1693.37 1533.61,141.732 \"/>\n",
       "<polyline clip-path=\"url(#clip043)\" style=\"stroke:#000000; stroke-linecap:round; stroke-linejoin:round; stroke-width:2; stroke-opacity:0.1; fill:none\" points=\"2069.44,1693.37 2069.44,141.732 \"/>\n",
       "<polyline clip-path=\"url(#clip043)\" style=\"stroke:#000000; stroke-linecap:round; stroke-linejoin:round; stroke-width:2; stroke-opacity:0.1; fill:none\" points=\"2605.27,1693.37 2605.27,141.732 \"/>\n",
       "<polyline clip-path=\"url(#clip040)\" style=\"stroke:#000000; stroke-linecap:round; stroke-linejoin:round; stroke-width:4; stroke-opacity:1; fill:none\" points=\"397.646,1693.37 2669.57,1693.37 \"/>\n",
       "<polyline clip-path=\"url(#clip040)\" style=\"stroke:#000000; stroke-linecap:round; stroke-linejoin:round; stroke-width:4; stroke-opacity:1; fill:none\" points=\"397.646,141.732 2669.57,141.732 \"/>\n",
       "<polyline clip-path=\"url(#clip040)\" style=\"stroke:#000000; stroke-linecap:round; stroke-linejoin:round; stroke-width:4; stroke-opacity:1; fill:none\" points=\"461.946,1693.37 461.946,1674.47 \"/>\n",
       "<polyline clip-path=\"url(#clip040)\" style=\"stroke:#000000; stroke-linecap:round; stroke-linejoin:round; stroke-width:4; stroke-opacity:1; fill:none\" points=\"997.776,1693.37 997.776,1674.47 \"/>\n",
       "<polyline clip-path=\"url(#clip040)\" style=\"stroke:#000000; stroke-linecap:round; stroke-linejoin:round; stroke-width:4; stroke-opacity:1; fill:none\" points=\"1533.61,1693.37 1533.61,1674.47 \"/>\n",
       "<polyline clip-path=\"url(#clip040)\" style=\"stroke:#000000; stroke-linecap:round; stroke-linejoin:round; stroke-width:4; stroke-opacity:1; fill:none\" points=\"2069.44,1693.37 2069.44,1674.47 \"/>\n",
       "<polyline clip-path=\"url(#clip040)\" style=\"stroke:#000000; stroke-linecap:round; stroke-linejoin:round; stroke-width:4; stroke-opacity:1; fill:none\" points=\"2605.27,1693.37 2605.27,1674.47 \"/>\n",
       "<path clip-path=\"url(#clip040)\" d=\"M445.975 1759.5 Q445.975 1748.35 448.791 1742.27 Q452.719 1733.23 461.983 1733.23 Q463.947 1733.23 465.985 1733.78 Q468.06 1734.3 470.654 1736.34 Q473.284 1738.38 474.878 1741.71 Q477.916 1748.16 477.916 1759.5 Q477.916 1770.58 475.1 1776.62 Q470.987 1785.44 461.909 1785.44 Q458.499 1785.44 455.016 1783.7 Q451.57 1781.96 449.384 1777.77 Q445.975 1771.51 445.975 1759.5 M452.274 1758.57 Q452.274 1770.02 453.089 1774.58 Q454.016 1779.51 456.536 1781.66 Q459.092 1783.77 461.909 1783.77 Q464.947 1783.77 467.467 1781.51 Q470.024 1779.21 470.802 1774.29 Q471.654 1769.43 471.617 1758.57 Q471.617 1748.01 470.876 1743.79 Q469.875 1738.86 467.207 1736.9 Q464.577 1734.9 461.909 1734.9 Q460.908 1734.9 459.833 1735.19 Q458.796 1735.49 457.277 1736.34 Q455.757 1737.19 454.572 1739.31 Q453.423 1741.42 452.867 1744.6 Q452.274 1748.72 452.274 1758.57 Z\" fill=\"#000000\" fill-rule=\"evenodd\" fill-opacity=\"1\" /><path clip-path=\"url(#clip040)\" d=\"M963.649 1783.77 Q963.649 1782.4 963.76 1781.99 Q963.908 1781.59 964.501 1780.96 L979.064 1764.73 Q987.031 1755.76 987.031 1747.94 Q987.031 1742.86 984.363 1739.23 Q981.732 1735.6 976.877 1735.6 Q973.542 1735.6 970.726 1737.64 Q967.91 1739.68 966.613 1743.31 Q966.836 1743.23 967.614 1743.23 Q969.503 1743.23 970.541 1744.42 Q971.616 1745.6 971.616 1747.2 Q971.616 1749.24 970.282 1750.24 Q968.985 1751.2 967.688 1751.2 Q967.169 1751.2 966.465 1751.09 Q965.798 1750.98 964.723 1749.94 Q963.649 1748.87 963.649 1746.98 Q963.649 1741.68 967.651 1737.45 Q971.69 1733.23 977.841 1733.23 Q984.807 1733.23 989.365 1737.38 Q993.96 1741.49 993.96 1747.94 Q993.96 1750.2 993.256 1752.27 Q992.589 1754.31 991.662 1755.91 Q990.773 1757.5 988.327 1760.06 Q985.882 1762.61 983.918 1764.43 Q981.954 1766.24 977.544 1770.1 L969.503 1777.92 L983.177 1777.92 Q989.847 1777.92 990.365 1777.32 Q991.107 1776.25 992.033 1770.58 L993.96 1770.58 L991.811 1783.77 L963.649 1783.77 Z\" fill=\"#000000\" fill-rule=\"evenodd\" fill-opacity=\"1\" /><path clip-path=\"url(#clip040)\" d=\"M1001.59 1771.54 Q1001.59 1769.28 1002.82 1768.43 Q1004.04 1767.54 1005.34 1767.54 Q1007.08 1767.54 1008.08 1768.65 Q1009.12 1769.73 1009.12 1771.25 Q1009.12 1772.77 1008.08 1773.88 Q1007.08 1774.95 1005.34 1774.95 Q1004.48 1774.95 1004.04 1774.8 Q1005.04 1778.29 1008.08 1780.81 Q1011.15 1783.33 1015.19 1783.33 Q1020.27 1783.33 1023.31 1778.4 Q1025.12 1775.21 1025.12 1767.99 Q1025.12 1761.61 1023.75 1758.43 Q1021.64 1753.57 1017.3 1753.57 Q1011.15 1753.57 1007.52 1758.87 Q1007.08 1759.54 1006.56 1759.57 Q1005.82 1759.57 1005.63 1759.17 Q1005.48 1758.72 1005.48 1757.57 L1005.48 1735.12 Q1005.48 1733.3 1006.23 1733.3 Q1006.52 1733.3 1007.15 1733.53 Q1011.93 1735.64 1017.23 1735.67 Q1022.68 1735.67 1027.57 1733.45 Q1027.94 1733.23 1028.16 1733.23 Q1028.9 1733.23 1028.94 1734.08 Q1028.94 1734.38 1028.31 1735.27 Q1027.72 1736.12 1026.42 1737.27 Q1025.12 1738.38 1023.46 1739.45 Q1021.79 1740.53 1019.34 1741.27 Q1016.93 1741.97 1014.27 1741.97 Q1011.08 1741.97 1007.82 1740.97 L1007.82 1755.76 Q1011.75 1751.9 1017.45 1751.9 Q1023.53 1751.9 1027.72 1756.8 Q1031.9 1761.69 1031.9 1768.5 Q1031.9 1775.66 1026.94 1780.55 Q1022.01 1785.44 1015.34 1785.44 Q1009.26 1785.44 1005.41 1781.1 Q1001.59 1776.77 1001.59 1771.54 Z\" fill=\"#000000\" fill-rule=\"evenodd\" fill-opacity=\"1\" /><path clip-path=\"url(#clip040)\" d=\"M1499.07 1771.54 Q1499.07 1769.28 1500.29 1768.43 Q1501.52 1767.54 1502.81 1767.54 Q1504.56 1767.54 1505.56 1768.65 Q1506.59 1769.73 1506.59 1771.25 Q1506.59 1772.77 1505.56 1773.88 Q1504.56 1774.95 1502.81 1774.95 Q1501.96 1774.95 1501.52 1774.8 Q1502.52 1778.29 1505.56 1780.81 Q1508.63 1783.33 1512.67 1783.33 Q1517.75 1783.33 1520.79 1778.4 Q1522.6 1775.21 1522.6 1767.99 Q1522.6 1761.61 1521.23 1758.43 Q1519.12 1753.57 1514.78 1753.57 Q1508.63 1753.57 1505 1758.87 Q1504.56 1759.54 1504.04 1759.57 Q1503.3 1759.57 1503.11 1759.17 Q1502.96 1758.72 1502.96 1757.57 L1502.96 1735.12 Q1502.96 1733.3 1503.7 1733.3 Q1504 1733.3 1504.63 1733.53 Q1509.41 1735.64 1514.71 1735.67 Q1520.16 1735.67 1525.05 1733.45 Q1525.42 1733.23 1525.64 1733.23 Q1526.38 1733.23 1526.42 1734.08 Q1526.42 1734.38 1525.79 1735.27 Q1525.2 1736.12 1523.9 1737.27 Q1522.6 1738.38 1520.93 1739.45 Q1519.27 1740.53 1516.82 1741.27 Q1514.41 1741.97 1511.74 1741.97 Q1508.56 1741.97 1505.3 1740.97 L1505.3 1755.76 Q1509.23 1751.9 1514.93 1751.9 Q1521.01 1751.9 1525.2 1756.8 Q1529.38 1761.69 1529.38 1768.5 Q1529.38 1775.66 1524.42 1780.55 Q1519.49 1785.44 1512.82 1785.44 Q1506.74 1785.44 1502.89 1781.1 Q1499.07 1776.77 1499.07 1771.54 Z\" fill=\"#000000\" fill-rule=\"evenodd\" fill-opacity=\"1\" /><path clip-path=\"url(#clip040)\" d=\"M1536.2 1759.5 Q1536.2 1748.35 1539.02 1742.27 Q1542.95 1733.23 1552.21 1733.23 Q1554.17 1733.23 1556.21 1733.78 Q1558.29 1734.3 1560.88 1736.34 Q1563.51 1738.38 1565.1 1741.71 Q1568.14 1748.16 1568.14 1759.5 Q1568.14 1770.58 1565.33 1776.62 Q1561.21 1785.44 1552.13 1785.44 Q1548.73 1785.44 1545.24 1783.7 Q1541.8 1781.96 1539.61 1777.77 Q1536.2 1771.51 1536.2 1759.5 M1542.5 1758.57 Q1542.5 1770.02 1543.32 1774.58 Q1544.24 1779.51 1546.76 1781.66 Q1549.32 1783.77 1552.13 1783.77 Q1555.17 1783.77 1557.69 1781.51 Q1560.25 1779.21 1561.03 1774.29 Q1561.88 1769.43 1561.84 1758.57 Q1561.84 1748.01 1561.1 1743.79 Q1560.1 1738.86 1557.43 1736.9 Q1554.8 1734.9 1552.13 1734.9 Q1551.13 1734.9 1550.06 1735.19 Q1549.02 1735.49 1547.5 1736.34 Q1545.98 1737.19 1544.8 1739.31 Q1543.65 1741.42 1543.09 1744.6 Q1542.5 1748.72 1542.5 1758.57 Z\" fill=\"#000000\" fill-rule=\"evenodd\" fill-opacity=\"1\" /><path clip-path=\"url(#clip040)\" d=\"M2035.55 1748.09 L2038.03 1732.49 L2039.92 1732.49 Q2040.15 1733.41 2040.52 1733.82 Q2040.92 1734.23 2043.07 1734.56 Q2045.26 1734.9 2049.67 1734.9 L2068.09 1734.9 Q2068.09 1736.64 2067.42 1737.56 L2057.15 1751.98 Q2053.89 1756.54 2052.45 1764.95 Q2051.6 1770.58 2051.63 1777.4 L2051.63 1781.25 Q2051.63 1785.44 2048.11 1785.44 Q2044.63 1785.44 2044.63 1781.25 Q2044.63 1766.76 2053.97 1752.72 Q2054.97 1751.27 2058.64 1746.12 Q2062.34 1740.97 2062.49 1740.75 L2046.78 1740.75 Q2039.89 1740.75 2039.33 1741.2 Q2038.59 1741.86 2037.44 1748.09 L2035.55 1748.09 Z\" fill=\"#000000\" fill-rule=\"evenodd\" fill-opacity=\"1\" /><path clip-path=\"url(#clip040)\" d=\"M2073.01 1771.54 Q2073.01 1769.28 2074.24 1768.43 Q2075.46 1767.54 2076.76 1767.54 Q2078.5 1767.54 2079.5 1768.65 Q2080.54 1769.73 2080.54 1771.25 Q2080.54 1772.77 2079.5 1773.88 Q2078.5 1774.95 2076.76 1774.95 Q2075.9 1774.95 2075.46 1774.8 Q2076.46 1778.29 2079.5 1780.81 Q2082.57 1783.33 2086.61 1783.33 Q2091.69 1783.33 2094.73 1778.4 Q2096.54 1775.21 2096.54 1767.99 Q2096.54 1761.61 2095.17 1758.43 Q2093.06 1753.57 2088.73 1753.57 Q2082.57 1753.57 2078.94 1758.87 Q2078.5 1759.54 2077.98 1759.57 Q2077.24 1759.57 2077.05 1759.17 Q2076.9 1758.72 2076.9 1757.57 L2076.9 1735.12 Q2076.9 1733.3 2077.65 1733.3 Q2077.94 1733.3 2078.57 1733.53 Q2083.35 1735.64 2088.65 1735.67 Q2094.1 1735.67 2098.99 1733.45 Q2099.36 1733.23 2099.58 1733.23 Q2100.32 1733.23 2100.36 1734.08 Q2100.36 1734.38 2099.73 1735.27 Q2099.14 1736.12 2097.84 1737.27 Q2096.54 1738.38 2094.88 1739.45 Q2093.21 1740.53 2090.76 1741.27 Q2088.35 1741.97 2085.69 1741.97 Q2082.5 1741.97 2079.24 1740.97 L2079.24 1755.76 Q2083.17 1751.9 2088.87 1751.9 Q2094.95 1751.9 2099.14 1756.8 Q2103.33 1761.69 2103.33 1768.5 Q2103.33 1775.66 2098.36 1780.55 Q2093.43 1785.44 2086.76 1785.44 Q2080.68 1785.44 2076.83 1781.1 Q2073.01 1776.77 2073.01 1771.54 Z\" fill=\"#000000\" fill-rule=\"evenodd\" fill-opacity=\"1\" /><path clip-path=\"url(#clip040)\" d=\"M2553.24 1740.45 L2553.24 1738.08 Q2562.36 1738.08 2567.07 1733.23 Q2568.36 1733.23 2568.58 1733.53 Q2568.81 1733.82 2568.81 1735.19 L2568.81 1777.77 Q2568.81 1780.03 2569.92 1780.73 Q2571.03 1781.44 2575.88 1781.44 L2578.29 1781.44 L2578.29 1783.77 Q2575.63 1783.55 2565.99 1783.55 Q2556.36 1783.55 2553.73 1783.77 L2553.73 1781.44 L2556.13 1781.44 Q2560.91 1781.44 2562.06 1780.77 Q2563.21 1780.07 2563.21 1777.77 L2563.21 1738.45 Q2559.25 1740.45 2553.24 1740.45 Z\" fill=\"#000000\" fill-rule=\"evenodd\" fill-opacity=\"1\" /><path clip-path=\"url(#clip040)\" d=\"M2587.41 1759.5 Q2587.41 1748.35 2590.22 1742.27 Q2594.15 1733.23 2603.42 1733.23 Q2605.38 1733.23 2607.42 1733.78 Q2609.49 1734.3 2612.09 1736.34 Q2614.72 1738.38 2616.31 1741.71 Q2619.35 1748.16 2619.35 1759.5 Q2619.35 1770.58 2616.53 1776.62 Q2612.42 1785.44 2603.34 1785.44 Q2599.93 1785.44 2596.45 1783.7 Q2593 1781.96 2590.82 1777.77 Q2587.41 1771.51 2587.41 1759.5 M2593.71 1758.57 Q2593.71 1770.02 2594.52 1774.58 Q2595.45 1779.51 2597.97 1781.66 Q2600.53 1783.77 2603.34 1783.77 Q2606.38 1783.77 2608.9 1781.51 Q2611.46 1779.21 2612.24 1774.29 Q2613.09 1769.43 2613.05 1758.57 Q2613.05 1748.01 2612.31 1743.79 Q2611.31 1738.86 2608.64 1736.9 Q2606.01 1734.9 2603.34 1734.9 Q2602.34 1734.9 2601.27 1735.19 Q2600.23 1735.49 2598.71 1736.34 Q2597.19 1737.19 2596.01 1739.31 Q2594.86 1741.42 2594.3 1744.6 Q2593.71 1748.72 2593.71 1758.57 Z\" fill=\"#000000\" fill-rule=\"evenodd\" fill-opacity=\"1\" /><path clip-path=\"url(#clip040)\" d=\"M2625.35 1759.5 Q2625.35 1748.35 2628.17 1742.27 Q2632.1 1733.23 2641.36 1733.23 Q2643.32 1733.23 2645.36 1733.78 Q2647.44 1734.3 2650.03 1736.34 Q2652.66 1738.38 2654.26 1741.71 Q2657.29 1748.16 2657.29 1759.5 Q2657.29 1770.58 2654.48 1776.62 Q2650.37 1785.44 2641.29 1785.44 Q2637.88 1785.44 2634.39 1783.7 Q2630.95 1781.96 2628.76 1777.77 Q2625.35 1771.51 2625.35 1759.5 M2631.65 1758.57 Q2631.65 1770.02 2632.47 1774.58 Q2633.39 1779.51 2635.91 1781.66 Q2638.47 1783.77 2641.29 1783.77 Q2644.33 1783.77 2646.84 1781.51 Q2649.4 1779.21 2650.18 1774.29 Q2651.03 1769.43 2651 1758.57 Q2651 1748.01 2650.25 1743.79 Q2649.25 1738.86 2646.59 1736.9 Q2643.95 1734.9 2641.29 1734.9 Q2640.29 1734.9 2639.21 1735.19 Q2638.17 1735.49 2636.65 1736.34 Q2635.14 1737.19 2633.95 1739.31 Q2632.8 1741.42 2632.25 1744.6 Q2631.65 1748.72 2631.65 1758.57 Z\" fill=\"#000000\" fill-rule=\"evenodd\" fill-opacity=\"1\" /><path clip-path=\"url(#clip040)\" d=\"M1474.52 1848.29 Q1474.52 1850.92 1472.88 1852.42 Q1471.24 1853.87 1469.37 1853.87 Q1467.59 1853.87 1466.65 1852.84 Q1465.72 1851.81 1465.72 1850.5 Q1465.72 1848.72 1467.03 1847.17 Q1468.34 1845.62 1470.31 1845.3 Q1468.39 1844.08 1465.53 1844.08 Q1463.65 1844.08 1462.01 1845.06 Q1460.42 1846.04 1459.44 1847.31 Q1458.5 1848.57 1457.66 1850.4 Q1456.86 1852.18 1456.53 1853.26 Q1456.25 1854.29 1456.02 1855.41 L1452.74 1868.53 Q1451.15 1874.76 1451.15 1876.96 Q1451.15 1879.68 1452.46 1881.51 Q1453.77 1883.29 1456.39 1883.29 Q1457.42 1883.29 1458.59 1883.01 Q1459.77 1882.68 1461.26 1881.83 Q1462.81 1880.94 1464.17 1879.63 Q1465.57 1878.27 1466.93 1875.98 Q1468.29 1873.68 1469.18 1870.73 Q1469.46 1869.7 1470.4 1869.7 Q1471.57 1869.7 1471.57 1870.64 Q1471.57 1871.43 1470.91 1873.12 Q1470.31 1874.76 1468.95 1876.92 Q1467.64 1879.02 1465.9 1880.94 Q1464.17 1882.82 1461.59 1884.13 Q1459.02 1885.44 1456.21 1885.44 Q1452.18 1885.44 1449.51 1883.29 Q1446.84 1881.13 1445.85 1878.13 Q1445.62 1878.56 1445.29 1879.12 Q1444.96 1879.68 1443.98 1880.94 Q1443.04 1882.16 1441.96 1883.1 Q1440.89 1883.99 1439.2 1884.69 Q1437.56 1885.44 1435.78 1885.44 Q1433.53 1885.44 1431.52 1884.79 Q1429.55 1884.13 1428.15 1882.63 Q1426.74 1881.13 1426.74 1879.07 Q1426.74 1876.78 1428.29 1875.18 Q1429.88 1873.54 1432.03 1873.54 Q1433.39 1873.54 1434.47 1874.34 Q1435.59 1875.14 1435.59 1876.87 Q1435.59 1878.79 1434.28 1880.24 Q1432.97 1881.69 1431.1 1882.07 Q1433.02 1883.29 1435.87 1883.29 Q1438.97 1883.29 1441.4 1880.57 Q1443.84 1877.85 1445.01 1873.31 Q1447.91 1862.39 1449.04 1857.52 Q1450.16 1852.6 1450.16 1850.5 Q1450.16 1848.53 1449.65 1847.17 Q1449.13 1845.81 1448.24 1845.2 Q1447.4 1844.55 1446.6 1844.31 Q1445.85 1844.08 1445.01 1844.08 Q1443.6 1844.08 1442.01 1844.64 Q1440.47 1845.2 1438.59 1846.51 Q1436.76 1847.78 1435.03 1850.4 Q1433.3 1853.02 1432.13 1856.63 Q1431.89 1857.71 1430.86 1857.71 Q1429.74 1857.66 1429.74 1856.73 Q1429.74 1855.93 1430.35 1854.29 Q1431 1852.6 1432.31 1850.5 Q1433.67 1848.39 1435.41 1846.51 Q1437.19 1844.59 1439.76 1843.28 Q1442.39 1841.97 1445.2 1841.97 Q1446.46 1841.97 1447.68 1842.25 Q1448.94 1842.48 1450.44 1843.19 Q1451.99 1843.89 1453.35 1845.44 Q1454.71 1846.98 1455.55 1849.23 Q1456.11 1848.15 1456.86 1847.12 Q1457.66 1846.09 1458.88 1844.83 Q1460.14 1843.52 1461.87 1842.77 Q1463.65 1841.97 1465.62 1841.97 Q1467.54 1841.97 1469.42 1842.48 Q1471.29 1842.95 1472.88 1844.5 Q1474.52 1846 1474.52 1848.29 Z\" fill=\"#006400\" fill-rule=\"evenodd\" fill-opacity=\"1\" /><path clip-path=\"url(#clip040)\" d=\"M1487.21 1860.38 Q1487.21 1844.17 1493.26 1831.1 Q1495.83 1825.62 1499.44 1821.03 Q1503.05 1816.44 1505.44 1814.42 Q1507.83 1812.41 1508.48 1812.41 Q1509.42 1812.41 1509.47 1813.35 Q1509.47 1813.82 1508.2 1814.99 Q1492.74 1830.73 1492.79 1860.38 Q1492.79 1890.13 1507.83 1905.26 Q1509.47 1906.9 1509.47 1907.41 Q1509.47 1908.35 1508.48 1908.35 Q1507.83 1908.35 1505.53 1906.43 Q1503.24 1904.51 1499.68 1900.1 Q1496.12 1895.7 1493.54 1890.31 Q1487.21 1877.24 1487.21 1860.38 Z\" fill=\"#006400\" fill-rule=\"evenodd\" fill-opacity=\"1\" /><path clip-path=\"url(#clip040)\" d=\"M1595.36 1870.64 Q1595.36 1871.01 1594.94 1872.47 Q1594.52 1873.92 1593.49 1876.17 Q1592.51 1878.41 1591.1 1880.48 Q1589.74 1882.49 1587.49 1883.99 Q1585.29 1885.44 1582.76 1885.44 Q1579.39 1885.44 1577.14 1883.19 Q1574.89 1880.94 1574.89 1877.57 Q1574.89 1875.74 1576.16 1872.28 Q1582.11 1856.44 1582.11 1850.78 Q1582.11 1844.08 1576.91 1844.08 Q1573.96 1844.08 1571.29 1845.3 Q1568.62 1846.51 1566.88 1848.2 Q1565.15 1849.89 1563.79 1851.81 Q1562.43 1853.73 1561.82 1854.99 Q1561.26 1856.26 1561.12 1856.82 L1555.36 1879.96 Q1554.89 1881.93 1554.56 1882.87 Q1554.23 1883.8 1553.34 1884.6 Q1552.45 1885.44 1551.05 1885.44 Q1549.88 1885.44 1549.03 1884.74 Q1548.24 1884.04 1548.24 1882.82 Q1548.24 1882.63 1548.47 1881.65 Q1548.71 1880.66 1549.03 1879.3 Q1549.36 1877.95 1549.5 1877.15 Q1551.19 1870.78 1551.42 1869.89 L1554.09 1858.74 Q1555.55 1853.21 1555.55 1850.78 Q1555.55 1844.08 1550.35 1844.08 Q1547.77 1844.08 1545.33 1845.06 Q1542.94 1846 1541.3 1847.31 Q1539.67 1848.62 1538.17 1850.45 Q1536.71 1852.23 1535.96 1853.45 Q1535.26 1854.62 1534.7 1855.79 L1533.48 1860.57 Q1533.2 1861.88 1531.84 1866.98 L1529.73 1875.65 Q1528.23 1882.12 1527.91 1882.72 Q1527.44 1884.04 1526.41 1884.74 Q1525.38 1885.44 1524.35 1885.44 Q1523.18 1885.44 1522.38 1884.74 Q1521.58 1884.04 1521.58 1882.82 Q1521.58 1882.63 1521.72 1881.93 Q1521.86 1881.23 1522.1 1880.24 Q1522.33 1879.26 1522.43 1878.7 L1528 1856.54 Q1529.03 1852.51 1529.27 1851.24 Q1529.55 1849.93 1529.55 1848.48 Q1529.55 1844.08 1526.55 1844.08 Q1524.11 1844.08 1522.52 1846.98 Q1520.93 1849.89 1519.57 1855.51 Q1519.15 1857.05 1518.87 1857.38 Q1518.63 1857.71 1517.93 1857.71 Q1516.76 1857.66 1516.76 1856.73 Q1516.76 1856.49 1517.13 1854.99 Q1517.51 1853.49 1518.21 1851.24 Q1518.96 1848.95 1519.76 1847.45 Q1520.22 1846.47 1520.65 1845.81 Q1521.07 1845.15 1521.91 1844.12 Q1522.75 1843.09 1524.02 1842.53 Q1525.28 1841.97 1526.83 1841.97 Q1530.25 1841.97 1532.78 1844.17 Q1535.36 1846.37 1535.68 1850.31 Q1541.91 1841.97 1550.63 1841.97 Q1555.55 1841.97 1558.5 1844.45 Q1561.26 1846.84 1561.59 1851.24 Q1568.05 1841.97 1577.23 1841.97 Q1582.53 1841.97 1585.39 1844.73 Q1588.24 1847.45 1588.24 1852.23 Q1588.24 1854.71 1586.98 1859.44 Q1585.71 1864.13 1584.87 1866.47 Q1584.03 1868.81 1582.39 1873.31 Q1580.65 1877.62 1580.65 1880.15 Q1580.65 1881.79 1581.22 1882.54 Q1581.78 1883.29 1583 1883.29 Q1584.87 1883.29 1586.51 1882.21 Q1588.15 1881.08 1589.32 1879.26 Q1590.54 1877.38 1591.34 1875.51 Q1592.13 1873.59 1592.74 1871.43 Q1593.12 1870.26 1593.3 1869.98 Q1593.54 1869.7 1594.19 1869.7 Q1595.36 1869.7 1595.36 1870.64 Z\" fill=\"#006400\" fill-rule=\"evenodd\" fill-opacity=\"1\" /><path clip-path=\"url(#clip040)\" d=\"M1603.64 1907.41 Q1603.64 1906.94 1604.85 1905.77 Q1620.31 1890.03 1620.31 1860.38 Q1620.31 1830.63 1605.46 1815.6 Q1603.64 1813.86 1603.64 1813.35 Q1603.64 1812.41 1604.57 1812.41 Q1605.23 1812.41 1607.52 1814.33 Q1609.87 1816.25 1613.38 1820.66 Q1616.94 1825.06 1619.56 1830.45 Q1625.89 1843.52 1625.89 1860.38 Q1625.89 1876.59 1619.84 1889.66 Q1617.27 1895.14 1613.66 1899.73 Q1610.05 1904.32 1607.66 1906.33 Q1605.28 1908.35 1604.57 1908.35 Q1603.64 1908.35 1603.64 1907.41 Z\" fill=\"#006400\" fill-rule=\"evenodd\" fill-opacity=\"1\" /><polyline clip-path=\"url(#clip043)\" style=\"stroke:#000000; stroke-linecap:round; stroke-linejoin:round; stroke-width:2; stroke-opacity:0.1; fill:none\" points=\"397.646,1649.46 2669.57,1649.46 \"/>\n",
       "<polyline clip-path=\"url(#clip043)\" style=\"stroke:#000000; stroke-linecap:round; stroke-linejoin:round; stroke-width:2; stroke-opacity:0.1; fill:none\" points=\"397.646,1192.01 2669.57,1192.01 \"/>\n",
       "<polyline clip-path=\"url(#clip043)\" style=\"stroke:#000000; stroke-linecap:round; stroke-linejoin:round; stroke-width:2; stroke-opacity:0.1; fill:none\" points=\"397.646,734.565 2669.57,734.565 \"/>\n",
       "<polyline clip-path=\"url(#clip043)\" style=\"stroke:#000000; stroke-linecap:round; stroke-linejoin:round; stroke-width:2; stroke-opacity:0.1; fill:none\" points=\"397.646,277.12 2669.57,277.12 \"/>\n",
       "<polyline clip-path=\"url(#clip043)\" style=\"stroke:#000000; stroke-linecap:round; stroke-linejoin:round; stroke-width:2; stroke-opacity:0.05; fill:none\" points=\"397.646,1557.97 2669.57,1557.97 \"/>\n",
       "<polyline clip-path=\"url(#clip043)\" style=\"stroke:#000000; stroke-linecap:round; stroke-linejoin:round; stroke-width:2; stroke-opacity:0.05; fill:none\" points=\"397.646,1466.48 2669.57,1466.48 \"/>\n",
       "<polyline clip-path=\"url(#clip043)\" style=\"stroke:#000000; stroke-linecap:round; stroke-linejoin:round; stroke-width:2; stroke-opacity:0.05; fill:none\" points=\"397.646,1374.99 2669.57,1374.99 \"/>\n",
       "<polyline clip-path=\"url(#clip043)\" style=\"stroke:#000000; stroke-linecap:round; stroke-linejoin:round; stroke-width:2; stroke-opacity:0.05; fill:none\" points=\"397.646,1283.5 2669.57,1283.5 \"/>\n",
       "<polyline clip-path=\"url(#clip043)\" style=\"stroke:#000000; stroke-linecap:round; stroke-linejoin:round; stroke-width:2; stroke-opacity:0.05; fill:none\" points=\"397.646,1100.52 2669.57,1100.52 \"/>\n",
       "<polyline clip-path=\"url(#clip043)\" style=\"stroke:#000000; stroke-linecap:round; stroke-linejoin:round; stroke-width:2; stroke-opacity:0.05; fill:none\" points=\"397.646,1009.03 2669.57,1009.03 \"/>\n",
       "<polyline clip-path=\"url(#clip043)\" style=\"stroke:#000000; stroke-linecap:round; stroke-linejoin:round; stroke-width:2; stroke-opacity:0.05; fill:none\" points=\"397.646,917.544 2669.57,917.544 \"/>\n",
       "<polyline clip-path=\"url(#clip043)\" style=\"stroke:#000000; stroke-linecap:round; stroke-linejoin:round; stroke-width:2; stroke-opacity:0.05; fill:none\" points=\"397.646,826.055 2669.57,826.055 \"/>\n",
       "<polyline clip-path=\"url(#clip043)\" style=\"stroke:#000000; stroke-linecap:round; stroke-linejoin:round; stroke-width:2; stroke-opacity:0.05; fill:none\" points=\"397.646,643.076 2669.57,643.076 \"/>\n",
       "<polyline clip-path=\"url(#clip043)\" style=\"stroke:#000000; stroke-linecap:round; stroke-linejoin:round; stroke-width:2; stroke-opacity:0.05; fill:none\" points=\"397.646,551.587 2669.57,551.587 \"/>\n",
       "<polyline clip-path=\"url(#clip043)\" style=\"stroke:#000000; stroke-linecap:round; stroke-linejoin:round; stroke-width:2; stroke-opacity:0.05; fill:none\" points=\"397.646,460.098 2669.57,460.098 \"/>\n",
       "<polyline clip-path=\"url(#clip043)\" style=\"stroke:#000000; stroke-linecap:round; stroke-linejoin:round; stroke-width:2; stroke-opacity:0.05; fill:none\" points=\"397.646,368.609 2669.57,368.609 \"/>\n",
       "<polyline clip-path=\"url(#clip043)\" style=\"stroke:#000000; stroke-linecap:round; stroke-linejoin:round; stroke-width:2; stroke-opacity:0.05; fill:none\" points=\"397.646,185.63 2669.57,185.63 \"/>\n",
       "<polyline clip-path=\"url(#clip040)\" style=\"stroke:#000000; stroke-linecap:round; stroke-linejoin:round; stroke-width:4; stroke-opacity:1; fill:none\" points=\"397.646,1693.37 397.646,141.732 \"/>\n",
       "<polyline clip-path=\"url(#clip040)\" style=\"stroke:#000000; stroke-linecap:round; stroke-linejoin:round; stroke-width:4; stroke-opacity:1; fill:none\" points=\"2669.57,1693.37 2669.57,141.732 \"/>\n",
       "<polyline clip-path=\"url(#clip040)\" style=\"stroke:#000000; stroke-linecap:round; stroke-linejoin:round; stroke-width:4; stroke-opacity:1; fill:none\" points=\"397.646,1649.46 413.783,1649.46 \"/>\n",
       "<polyline clip-path=\"url(#clip040)\" style=\"stroke:#000000; stroke-linecap:round; stroke-linejoin:round; stroke-width:4; stroke-opacity:1; fill:none\" points=\"397.646,1192.01 413.783,1192.01 \"/>\n",
       "<polyline clip-path=\"url(#clip040)\" style=\"stroke:#000000; stroke-linecap:round; stroke-linejoin:round; stroke-width:4; stroke-opacity:1; fill:none\" points=\"397.646,734.565 413.783,734.565 \"/>\n",
       "<polyline clip-path=\"url(#clip040)\" style=\"stroke:#000000; stroke-linecap:round; stroke-linejoin:round; stroke-width:4; stroke-opacity:1; fill:none\" points=\"397.646,277.12 413.783,277.12 \"/>\n",
       "<polyline clip-path=\"url(#clip040)\" style=\"stroke:#000000; stroke-linecap:round; stroke-linejoin:round; stroke-width:4; stroke-opacity:1; fill:none\" points=\"397.646,1557.97 405.714,1557.97 \"/>\n",
       "<polyline clip-path=\"url(#clip040)\" style=\"stroke:#000000; stroke-linecap:round; stroke-linejoin:round; stroke-width:4; stroke-opacity:1; fill:none\" points=\"397.646,1466.48 405.714,1466.48 \"/>\n",
       "<polyline clip-path=\"url(#clip040)\" style=\"stroke:#000000; stroke-linecap:round; stroke-linejoin:round; stroke-width:4; stroke-opacity:1; fill:none\" points=\"397.646,1374.99 405.714,1374.99 \"/>\n",
       "<polyline clip-path=\"url(#clip040)\" style=\"stroke:#000000; stroke-linecap:round; stroke-linejoin:round; stroke-width:4; stroke-opacity:1; fill:none\" points=\"397.646,1283.5 405.714,1283.5 \"/>\n",
       "<polyline clip-path=\"url(#clip040)\" style=\"stroke:#000000; stroke-linecap:round; stroke-linejoin:round; stroke-width:4; stroke-opacity:1; fill:none\" points=\"397.646,1100.52 405.714,1100.52 \"/>\n",
       "<polyline clip-path=\"url(#clip040)\" style=\"stroke:#000000; stroke-linecap:round; stroke-linejoin:round; stroke-width:4; stroke-opacity:1; fill:none\" points=\"397.646,1009.03 405.714,1009.03 \"/>\n",
       "<polyline clip-path=\"url(#clip040)\" style=\"stroke:#000000; stroke-linecap:round; stroke-linejoin:round; stroke-width:4; stroke-opacity:1; fill:none\" points=\"397.646,917.544 405.714,917.544 \"/>\n",
       "<polyline clip-path=\"url(#clip040)\" style=\"stroke:#000000; stroke-linecap:round; stroke-linejoin:round; stroke-width:4; stroke-opacity:1; fill:none\" points=\"397.646,826.055 405.714,826.055 \"/>\n",
       "<polyline clip-path=\"url(#clip040)\" style=\"stroke:#000000; stroke-linecap:round; stroke-linejoin:round; stroke-width:4; stroke-opacity:1; fill:none\" points=\"397.646,643.076 405.714,643.076 \"/>\n",
       "<polyline clip-path=\"url(#clip040)\" style=\"stroke:#000000; stroke-linecap:round; stroke-linejoin:round; stroke-width:4; stroke-opacity:1; fill:none\" points=\"397.646,551.587 405.714,551.587 \"/>\n",
       "<polyline clip-path=\"url(#clip040)\" style=\"stroke:#000000; stroke-linecap:round; stroke-linejoin:round; stroke-width:4; stroke-opacity:1; fill:none\" points=\"397.646,460.098 405.714,460.098 \"/>\n",
       "<polyline clip-path=\"url(#clip040)\" style=\"stroke:#000000; stroke-linecap:round; stroke-linejoin:round; stroke-width:4; stroke-opacity:1; fill:none\" points=\"397.646,368.609 405.714,368.609 \"/>\n",
       "<polyline clip-path=\"url(#clip040)\" style=\"stroke:#000000; stroke-linecap:round; stroke-linejoin:round; stroke-width:4; stroke-opacity:1; fill:none\" points=\"397.646,185.63 405.714,185.63 \"/>\n",
       "<path clip-path=\"url(#clip040)\" d=\"M272.127 1655.33 Q272.571 1655.78 272.571 1656.41 Q272.571 1657.04 272.127 1657.48 Q271.682 1657.92 271.052 1657.92 L223.548 1657.92 Q222.918 1657.92 222.473 1657.48 Q222.028 1657.04 222.028 1656.41 Q222.028 1655.78 222.473 1655.33 Q222.918 1654.89 223.548 1654.89 L271.052 1654.89 Q271.682 1654.89 272.127 1655.33 Z\" fill=\"#000000\" fill-rule=\"evenodd\" fill-opacity=\"1\" /><path clip-path=\"url(#clip040)\" d=\"M279.982 1665.15 Q279.982 1662.89 281.279 1661.82 Q282.576 1660.74 284.244 1660.74 Q285.985 1660.74 287.208 1661.89 Q288.468 1663 288.468 1664.96 Q288.468 1667.08 286.986 1668.26 Q285.541 1669.45 283.466 1669.15 Q285.281 1672.19 288.616 1673.56 Q291.988 1674.93 295.101 1674.93 Q298.362 1674.93 300.993 1672.12 Q303.661 1669.3 303.661 1662.41 Q303.661 1656.55 301.363 1653.18 Q299.103 1649.81 294.619 1649.81 L291.284 1649.81 Q290.136 1649.81 289.802 1649.7 Q289.469 1649.59 289.469 1648.96 Q289.469 1648.22 290.617 1648.07 Q291.766 1648.07 293.582 1647.85 Q297.991 1647.7 300.326 1643.88 Q302.438 1640.32 302.438 1635.25 Q302.438 1630.61 300.214 1628.69 Q298.028 1626.72 295.175 1626.72 Q292.507 1626.72 289.58 1627.84 Q286.652 1628.95 285.059 1631.43 Q289.765 1631.43 289.765 1635.25 Q289.765 1636.91 288.69 1638.03 Q287.653 1639.1 285.911 1639.1 Q284.244 1639.1 283.132 1638.06 Q282.02 1636.99 282.02 1635.17 Q282.02 1630.84 285.874 1627.84 Q289.765 1624.83 295.471 1624.83 Q301.104 1624.83 305.254 1627.8 Q309.441 1630.76 309.441 1635.32 Q309.441 1639.8 306.477 1643.47 Q303.512 1647.14 298.806 1648.66 Q304.587 1649.81 308.033 1653.74 Q311.479 1657.63 311.479 1662.41 Q311.479 1668.34 306.81 1672.71 Q302.141 1677.04 295.323 1677.04 Q289.024 1677.04 284.503 1673.64 Q279.982 1670.23 279.982 1665.15 Z\" fill=\"#000000\" fill-rule=\"evenodd\" fill-opacity=\"1\" /><path clip-path=\"url(#clip040)\" d=\"M317.704 1651.11 Q317.704 1639.95 320.521 1633.88 Q324.448 1624.83 333.712 1624.83 Q335.676 1624.83 337.714 1625.39 Q339.789 1625.91 342.383 1627.95 Q345.014 1629.98 346.607 1633.32 Q349.646 1639.77 349.646 1651.11 Q349.646 1662.19 346.83 1668.23 Q342.717 1677.04 333.638 1677.04 Q330.229 1677.04 326.746 1675.3 Q323.3 1673.56 321.114 1669.37 Q317.704 1663.11 317.704 1651.11 M324.004 1650.18 Q324.004 1661.63 324.819 1666.19 Q325.745 1671.12 328.265 1673.27 Q330.822 1675.38 333.638 1675.38 Q336.677 1675.38 339.196 1673.12 Q341.753 1670.82 342.531 1665.89 Q343.384 1661.04 343.347 1650.18 Q343.347 1639.62 342.605 1635.39 Q341.605 1630.47 338.937 1628.5 Q336.306 1626.5 333.638 1626.5 Q332.638 1626.5 331.563 1626.8 Q330.526 1627.09 329.006 1627.95 Q327.487 1628.8 326.301 1630.91 Q325.153 1633.02 324.597 1636.21 Q324.004 1640.32 324.004 1650.18 Z\" fill=\"#000000\" fill-rule=\"evenodd\" fill-opacity=\"1\" /><path clip-path=\"url(#clip040)\" d=\"M272.127 1197.88 Q272.571 1198.33 272.571 1198.96 Q272.571 1199.59 272.127 1200.03 Q271.682 1200.48 271.052 1200.48 L223.548 1200.48 Q222.918 1200.48 222.473 1200.03 Q222.028 1199.59 222.028 1198.96 Q222.028 1198.33 222.473 1197.88 Q222.918 1197.44 223.548 1197.44 L271.052 1197.44 Q271.682 1197.44 272.127 1197.88 Z\" fill=\"#000000\" fill-rule=\"evenodd\" fill-opacity=\"1\" /><path clip-path=\"url(#clip040)\" d=\"M280.575 1217.93 Q280.575 1216.56 280.686 1216.15 Q280.835 1215.75 281.428 1215.12 L295.99 1198.89 Q303.957 1189.92 303.957 1182.1 Q303.957 1177.02 301.289 1173.39 Q298.658 1169.76 293.804 1169.76 Q290.469 1169.76 287.653 1171.8 Q284.837 1173.84 283.54 1177.47 Q283.762 1177.39 284.54 1177.39 Q286.43 1177.39 287.468 1178.58 Q288.542 1179.76 288.542 1181.36 Q288.542 1183.4 287.208 1184.4 Q285.911 1185.36 284.614 1185.36 Q284.096 1185.36 283.391 1185.25 Q282.725 1185.14 281.65 1184.1 Q280.575 1183.03 280.575 1181.14 Q280.575 1175.84 284.577 1171.61 Q288.616 1167.39 294.767 1167.39 Q301.734 1167.39 306.292 1171.54 Q310.886 1175.65 310.886 1182.1 Q310.886 1184.36 310.182 1186.43 Q309.515 1188.47 308.589 1190.07 Q307.7 1191.66 305.254 1194.22 Q302.808 1196.77 300.844 1198.59 Q298.88 1200.4 294.471 1204.26 L286.43 1212.08 L300.103 1212.08 Q306.773 1212.08 307.292 1211.48 Q308.033 1210.41 308.959 1204.74 L310.886 1204.74 L308.737 1217.93 L280.575 1217.93 Z\" fill=\"#000000\" fill-rule=\"evenodd\" fill-opacity=\"1\" /><path clip-path=\"url(#clip040)\" d=\"M317.704 1193.66 Q317.704 1182.51 320.521 1176.43 Q324.448 1167.39 333.712 1167.39 Q335.676 1167.39 337.714 1167.94 Q339.789 1168.46 342.383 1170.5 Q345.014 1172.54 346.607 1175.87 Q349.646 1182.32 349.646 1193.66 Q349.646 1204.74 346.83 1210.78 Q342.717 1219.6 333.638 1219.6 Q330.229 1219.6 326.746 1217.86 Q323.3 1216.12 321.114 1211.93 Q317.704 1205.67 317.704 1193.66 M324.004 1192.73 Q324.004 1204.18 324.819 1208.74 Q325.745 1213.67 328.265 1215.82 Q330.822 1217.93 333.638 1217.93 Q336.677 1217.93 339.196 1215.67 Q341.753 1213.37 342.531 1208.45 Q343.384 1203.59 343.347 1192.73 Q343.347 1182.17 342.605 1177.95 Q341.605 1173.02 338.937 1171.06 Q336.306 1169.06 333.638 1169.06 Q332.638 1169.06 331.563 1169.35 Q330.526 1169.65 329.006 1170.5 Q327.487 1171.35 326.301 1173.47 Q325.153 1175.58 324.597 1178.76 Q324.004 1182.88 324.004 1192.73 Z\" fill=\"#000000\" fill-rule=\"evenodd\" fill-opacity=\"1\" /><path clip-path=\"url(#clip040)\" d=\"M272.127 740.439 Q272.571 740.883 272.571 741.513 Q272.571 742.143 272.127 742.588 Q271.682 743.033 271.052 743.033 L223.548 743.033 Q222.918 743.033 222.473 742.588 Q222.028 742.143 222.028 741.513 Q222.028 740.883 222.473 740.439 Q222.918 739.994 223.548 739.994 L271.052 739.994 Q271.682 739.994 272.127 740.439 Z\" fill=\"#000000\" fill-rule=\"evenodd\" fill-opacity=\"1\" /><path clip-path=\"url(#clip040)\" d=\"M283.54 717.168 L283.54 714.797 Q292.655 714.797 297.361 709.942 Q298.658 709.942 298.88 710.239 Q299.103 710.535 299.103 711.906 L299.103 754.483 Q299.103 756.743 300.214 757.447 Q301.326 758.151 306.18 758.151 L308.589 758.151 L308.589 760.485 Q305.921 760.263 296.287 760.263 Q286.652 760.263 284.021 760.485 L284.021 758.151 L286.43 758.151 Q291.21 758.151 292.359 757.484 Q293.508 756.78 293.508 754.483 L293.508 715.167 Q289.543 717.168 283.54 717.168 Z\" fill=\"#000000\" fill-rule=\"evenodd\" fill-opacity=\"1\" /><path clip-path=\"url(#clip040)\" d=\"M317.704 736.214 Q317.704 725.061 320.521 718.984 Q324.448 709.942 333.712 709.942 Q335.676 709.942 337.714 710.498 Q339.789 711.017 342.383 713.055 Q345.014 715.093 346.607 718.428 Q349.646 724.876 349.646 736.214 Q349.646 747.294 346.83 753.334 Q342.717 762.153 333.638 762.153 Q330.229 762.153 326.746 760.411 Q323.3 758.67 321.114 754.483 Q317.704 748.22 317.704 736.214 M324.004 735.288 Q324.004 746.738 324.819 751.296 Q325.745 756.224 328.265 758.373 Q330.822 760.485 333.638 760.485 Q336.677 760.485 339.196 758.225 Q341.753 755.928 342.531 750.999 Q343.384 746.145 343.347 735.288 Q343.347 724.727 342.605 720.503 Q341.605 715.575 338.937 713.611 Q336.306 711.61 333.638 711.61 Q332.638 711.61 331.563 711.906 Q330.526 712.203 329.006 713.055 Q327.487 713.907 326.301 716.019 Q325.153 718.132 324.597 721.318 Q324.004 725.431 324.004 735.288 Z\" fill=\"#000000\" fill-rule=\"evenodd\" fill-opacity=\"1\" /><path clip-path=\"url(#clip040)\" d=\"M317.704 278.768 Q317.704 267.615 320.521 261.538 Q324.448 252.496 333.712 252.496 Q335.676 252.496 337.714 253.052 Q339.789 253.571 342.383 255.609 Q345.014 257.647 346.607 260.982 Q349.646 267.43 349.646 278.768 Q349.646 289.848 346.83 295.888 Q342.717 304.707 333.638 304.707 Q330.229 304.707 326.746 302.965 Q323.3 301.224 321.114 297.037 Q317.704 290.774 317.704 278.768 M324.004 277.842 Q324.004 289.292 324.819 293.85 Q325.745 298.778 328.265 300.927 Q330.822 303.04 333.638 303.04 Q336.677 303.04 339.196 300.779 Q341.753 298.482 342.531 293.553 Q343.384 288.699 343.347 277.842 Q343.347 267.281 342.605 263.057 Q341.605 258.129 338.937 256.165 Q336.306 254.164 333.638 254.164 Q332.638 254.164 331.563 254.46 Q330.526 254.757 329.006 255.609 Q327.487 256.461 326.301 258.573 Q325.153 260.686 324.597 263.872 Q324.004 267.985 324.004 277.842 Z\" fill=\"#000000\" fill-rule=\"evenodd\" fill-opacity=\"1\" /><path clip-path=\"url(#clip040)\" d=\"M91.8582 1063.71 Q93.7788 1063.71 93.7788 1065.31 Q93.8725 1068.12 94.4347 1070.04 Q94.95 1071.96 95.9805 1073.08 Q97.0111 1074.16 98.1354 1074.77 Q99.2128 1075.33 100.852 1075.71 L134.909 1084.23 Q144.512 1086.67 151.492 1094.54 Q158.425 1102.41 158.425 1111.35 Q158.425 1116.46 156.317 1120.72 Q154.209 1124.94 149.946 1127.56 Q145.683 1130.19 140.015 1130.19 Q137.298 1130.19 134.44 1129.48 L110.737 1123.67 L102.305 1121.52 Q96.0742 1119.93 95.5121 1119.93 Q94.622 1119.93 94.3878 1120.49 Q94.1068 1121 93.9662 1122.5 L93.7788 1126.16 Q93.7788 1127.28 93.732 1127.75 Q93.6851 1128.17 93.4509 1128.5 Q93.2167 1128.83 92.7014 1128.83 Q92.0456 1128.83 91.624 1128.69 Q91.1555 1128.5 91.015 1128.17 Q90.8745 1127.84 90.8276 1127.61 Q90.7808 1127.38 90.7808 1127 L91.0618 1114.63 L90.7808 1102.36 Q90.7808 1101 91.8582 1101 Q93.2167 1101 93.4978 1101.61 Q93.7788 1102.22 93.7788 1104.28 Q93.7788 1107.79 94.2473 1109.39 Q94.6689 1110.93 95.4184 1111.4 Q96.1211 1111.82 98.1823 1112.34 L135.518 1121.66 Q137.391 1122.13 139.265 1122.41 Q141.092 1122.64 142.029 1122.64 L142.966 1122.69 Q148.915 1122.69 152.194 1119.41 Q155.474 1116.09 155.474 1110.98 Q155.474 1103.48 149.524 1096.5 Q143.575 1089.48 134.253 1087.09 L100.009 1078.47 Q99.166 1078.19 97.9949 1078.19 Q96.1211 1078.19 94.9968 1079.59 Q93.8257 1080.95 93.7788 1084.7 Q93.7788 1086.43 92.7014 1086.43 Q91.8114 1086.43 91.3897 1086.11 Q90.9213 1085.73 90.8745 1085.45 Q90.7808 1085.12 90.7808 1084.7 Q90.7808 1083.11 90.9213 1079.73 Q91.0618 1076.36 91.0618 1074.72 Q91.0618 1073.08 90.9213 1069.8 Q90.7808 1066.52 90.7808 1064.93 Q90.7808 1064.37 91.0618 1064.09 Q91.2961 1063.76 91.5771 1063.71 L91.8582 1063.71 Z\" fill=\"#006400\" fill-rule=\"evenodd\" fill-opacity=\"1\" /><path clip-path=\"url(#clip040)\" d=\"M132.332 1053.04 Q116.124 1053.04 103.054 1046.99 Q97.5733 1044.42 92.9825 1040.81 Q88.3917 1037.2 86.3773 1034.81 Q84.363 1032.42 84.363 1031.77 Q84.363 1030.83 85.2999 1030.78 Q85.7684 1030.78 86.9395 1032.05 Q102.679 1047.51 132.332 1047.46 Q162.079 1047.46 177.21 1032.42 Q178.849 1030.78 179.364 1030.78 Q180.301 1030.78 180.301 1031.77 Q180.301 1032.42 178.381 1034.72 Q176.46 1037.01 172.057 1040.57 Q167.653 1044.13 162.266 1046.71 Q149.196 1053.04 132.332 1053.04 Z\" fill=\"#006400\" fill-rule=\"evenodd\" fill-opacity=\"1\" /><path clip-path=\"url(#clip040)\" d=\"M91.9519 965.734 Q92.8419 965.734 93.2635 966.109 Q93.6383 966.483 93.732 966.905 Q93.7788 967.327 93.7788 968.31 Q93.7788 970.325 93.9194 971.402 Q94.0599 972.479 94.6689 973.135 Q95.231 973.791 95.7932 974.025 Q96.3553 974.213 97.8075 974.541 L142.591 985.783 Q149.477 987.517 153.975 993.794 Q158.425 1000.07 158.425 1006.96 Q158.425 1012.58 155.474 1016.14 Q152.475 1019.65 147.978 1019.65 Q145.683 1019.65 144.043 1018.9 Q142.404 1018.15 141.654 1017.03 Q140.905 1015.9 140.624 1014.97 Q140.296 1013.98 140.296 1013.19 Q140.296 1011.64 141.28 1010.33 Q142.263 1008.97 144.324 1008.97 Q146.62 1008.97 148.541 1010.75 Q150.461 1012.53 150.461 1015.2 Q150.461 1016.09 150.367 1016.37 Q152.663 1015.67 154.115 1013.84 Q155.52 1012.02 155.942 1010.42 Q156.317 1008.78 156.317 1007.24 Q156.317 1003.21 152.429 999.134 Q148.541 995.059 141.935 993.419 L97.9012 982.411 Q96.4021 982.036 95.8869 982.036 Q94.9031 982.036 94.5752 982.645 Q94.2004 983.207 93.9662 984.987 Q93.7788 987.376 93.7788 990.562 Q93.7788 991.686 93.7788 992.154 Q93.732 992.623 93.6383 993.091 Q93.5446 993.56 93.3572 993.7 Q93.123 993.841 92.7014 993.841 Q91.8114 993.841 91.3897 993.466 Q90.9213 993.091 90.8745 992.763 Q90.7808 992.435 90.7808 991.826 L91.0618 977.726 Q91.0618 976.508 90.9213 972.386 Q90.7808 968.263 90.7808 967.045 Q90.7808 965.734 91.9519 965.734 Z\" fill=\"#006400\" fill-rule=\"evenodd\" fill-opacity=\"1\" /><path clip-path=\"url(#clip040)\" d=\"M130.13 919.718 Q135.237 919.718 140.296 921.967 Q145.308 924.216 149.056 927.823 Q152.757 931.383 155.099 936.067 Q157.394 940.752 157.394 945.436 Q157.394 952.135 152.85 956.492 Q148.259 960.801 141.139 960.801 Q134.487 960.801 128.163 957.101 Q121.792 953.353 117.857 947.357 Q113.922 941.361 113.922 935.084 Q113.922 928.478 118.372 924.122 Q122.823 919.718 130.13 919.718 M126.383 926.745 Q121.839 926.745 118.935 928.947 Q116.03 931.149 116.03 935.177 Q116.03 936.348 116.405 937.707 Q116.733 939.065 117.623 940.845 Q118.513 942.579 120.387 944.546 Q122.214 946.467 124.837 948.153 Q128.304 950.355 134.674 952.041 Q140.998 953.681 144.793 953.681 Q150.04 953.681 152.663 951.245 Q155.239 948.809 155.239 945.343 Q155.239 941.97 152.897 938.41 Q150.508 934.802 146.432 932.32 Q142.216 929.837 136.033 928.291 Q129.803 926.745 126.383 926.745 Z\" fill=\"#006400\" fill-rule=\"evenodd\" fill-opacity=\"1\" /><path clip-path=\"url(#clip040)\" d=\"M142.591 867.322 Q148.634 868.54 152.101 870.179 Q157.394 872.849 157.394 877.3 Q157.394 880.391 155.661 882.734 Q153.881 885.029 150.93 885.825 Q152.101 886.715 152.897 887.512 Q153.693 888.261 154.911 889.713 Q156.083 891.166 156.738 893.133 Q157.394 895.054 157.394 897.256 Q157.394 898.942 157.066 900.488 Q156.785 902.034 155.989 903.673 Q155.146 905.266 153.881 906.437 Q152.616 907.561 150.555 908.311 Q148.494 909.06 145.87 909.06 Q142.591 909.06 138.141 907.796 Q133.691 906.484 125.727 903.486 Q121.511 901.846 119.169 901.846 Q118.091 901.846 117.389 902.081 Q116.686 902.315 116.452 902.783 Q116.171 903.205 116.124 903.486 Q116.03 903.767 116.03 904.235 Q116.03 907.14 118.981 909.669 Q121.933 912.199 127.929 913.932 Q129.1 914.307 129.381 914.541 Q129.662 914.776 129.662 915.478 Q129.615 916.649 128.678 916.649 Q128.304 916.649 126.851 916.228 Q125.352 915.806 123.151 914.822 Q120.902 913.792 118.888 912.386 Q116.827 910.981 115.374 908.779 Q113.922 906.531 113.922 903.954 Q113.922 900.441 116.218 898.286 Q118.466 896.084 121.792 896.084 Q123.853 896.084 127.835 897.724 Q141.654 902.924 147.416 902.924 Q155.239 902.924 155.239 896.974 Q155.239 895.007 154.443 893.18 Q153.647 891.306 152.522 890.088 Q151.398 888.87 150.18 887.933 Q148.962 886.95 148.166 886.528 Q147.369 886.06 147.182 886.013 L118.326 878.845 Q117.201 878.564 116.452 878.049 Q115.655 877.487 115.374 876.831 Q115.093 876.175 115.046 875.801 Q114.953 875.426 114.953 875.098 Q114.953 873.927 115.655 873.13 Q116.358 872.287 117.576 872.287 Q117.81 872.287 118.935 872.568 Q120.012 872.802 121.605 873.177 Q123.151 873.552 123.994 873.739 Q129.896 875.238 130.505 875.379 L140.858 878.049 Q141.467 878.19 143.434 878.658 Q145.402 879.08 146.432 879.314 Q147.416 879.548 148.775 879.782 Q150.086 879.97 150.836 879.97 Q153.178 879.97 154.209 879.267 Q155.239 878.564 155.239 877.019 Q155.239 875.566 154.256 874.442 Q153.225 873.271 151.258 872.381 Q149.243 871.491 147.604 870.976 Q145.964 870.46 143.388 869.804 Q142.263 869.57 141.982 869.383 Q141.654 869.149 141.654 868.493 Q141.654 867.322 142.591 867.322 Z\" fill=\"#006400\" fill-rule=\"evenodd\" fill-opacity=\"1\" /><path clip-path=\"url(#clip040)\" d=\"M90.7808 841.032 L146.245 854.852 Q148.447 855.414 150.836 855.414 Q155.239 855.414 155.239 852.509 Q155.239 851.151 154.349 850.027 Q153.412 848.902 151.585 848.059 Q149.712 847.169 147.932 846.607 Q146.151 845.998 143.388 845.249 Q142.31 845.014 141.982 844.78 Q141.654 844.546 141.654 843.89 Q141.654 842.719 142.591 842.719 Q148.353 843.89 152.007 845.623 Q157.394 848.153 157.394 852.837 Q157.394 856.351 154.958 858.974 Q152.475 861.551 148.541 861.551 Q147.041 861.551 145.261 861.082 L97.2922 848.996 L95.4184 848.668 Q94.9031 848.668 94.622 848.856 Q94.341 849.043 94.0599 850.167 Q93.7788 851.245 93.7788 853.4 Q93.7788 854.29 93.732 854.711 Q93.6851 855.086 93.4509 855.461 Q93.2167 855.789 92.7014 855.789 Q91.8582 855.789 91.3897 855.461 Q90.9213 855.086 90.8276 854.805 Q90.7339 854.524 90.6871 853.962 Q90.6402 853.165 90.406 850.495 Q90.1249 847.825 89.9376 845.53 Q89.7502 843.234 89.7502 842.25 Q89.7502 841.688 90.0312 841.407 Q90.2655 841.079 90.5465 841.032 L90.7808 841.032 Z\" fill=\"#006400\" fill-rule=\"evenodd\" fill-opacity=\"1\" /><path clip-path=\"url(#clip040)\" d=\"M145.215 795.604 Q145.636 795.23 146.058 795.23 Q146.479 795.23 147.697 796.166 Q148.915 797.056 150.555 798.977 Q152.194 800.898 153.74 803.381 Q155.286 805.863 156.317 809.517 Q157.394 813.171 157.394 817.012 Q157.394 823.899 152.475 828.021 Q147.557 832.096 140.015 832.096 Q135.19 832.096 130.927 830.504 Q126.617 828.911 123.572 826.335 Q120.527 823.711 118.326 820.432 Q116.077 817.106 115 813.64 Q113.922 810.173 113.922 806.941 Q113.922 802.209 116.311 799.446 Q118.7 796.682 122.073 796.682 Q122.87 796.682 123.853 796.916 Q124.837 797.103 126.383 797.759 Q127.929 798.368 129.475 799.961 Q130.974 801.554 131.957 803.896 Q134.159 809.096 134.159 818.558 L134.159 823.664 Q140.202 825.163 144.137 825.163 Q145.683 825.163 147.276 824.882 Q148.822 824.601 150.789 823.852 Q152.757 823.055 154.021 821.275 Q155.239 819.448 155.239 816.825 Q155.239 815.982 155.192 815.092 Q155.146 814.155 154.63 811.813 Q154.115 809.424 153.225 807.316 Q152.335 805.207 150.414 802.537 Q148.447 799.82 145.777 797.665 Q144.793 796.916 144.793 796.401 Q144.793 795.979 145.215 795.604 M122.073 799.867 Q119.497 799.867 117.763 801.788 Q116.03 803.662 116.03 806.941 Q116.03 807.971 116.264 809.236 Q116.499 810.501 117.482 812.609 Q118.466 814.67 120.106 816.497 Q121.698 818.324 124.837 820.151 Q127.929 821.978 132.051 823.055 L132.051 819.12 Q132.051 817.762 132.051 816.778 Q132.004 815.794 131.817 813.64 Q131.63 811.438 131.302 809.845 Q130.927 808.252 130.177 806.238 Q129.428 804.224 128.444 802.959 Q127.413 801.647 125.774 800.757 Q124.134 799.867 122.073 799.867 Z\" fill=\"#006400\" fill-rule=\"evenodd\" fill-opacity=\"1\" /><path clip-path=\"url(#clip040)\" d=\"M122.167 752.513 Q124.79 752.513 126.195 753.824 Q127.554 755.136 127.554 756.916 Q127.554 758.368 126.711 759.165 Q125.868 759.914 124.743 759.914 Q123.104 759.914 121.792 758.603 Q120.48 757.244 120.434 755.277 Q118.7 755.932 117.67 757.666 Q116.592 759.399 116.311 760.945 Q116.03 762.444 116.03 763.943 Q116.03 766.894 116.967 769.143 Q117.904 771.391 119.356 772.516 Q120.761 773.64 122.12 774.155 Q123.478 774.67 124.65 774.67 Q125.68 774.67 126.523 774.436 Q127.32 774.155 127.929 773.499 Q128.491 772.843 128.866 772.375 Q129.24 771.86 129.568 770.735 Q129.896 769.611 130.037 769.143 Q130.13 768.674 130.412 767.363 Q130.974 764.646 131.302 763.428 Q131.583 762.21 132.379 760.617 Q133.175 758.977 134.44 757.759 Q137.391 754.808 141.467 754.808 Q142.966 754.808 144.793 755.323 Q146.62 755.792 148.915 757.15 Q151.211 758.509 153.038 760.57 Q154.865 762.631 156.129 766.191 Q157.394 769.705 157.394 774.108 Q157.394 780.245 154.818 784.039 Q152.194 787.834 148.072 787.834 Q145.074 787.834 143.434 786.194 Q141.748 784.555 141.748 782.447 Q141.748 780.854 142.638 779.87 Q143.481 778.886 145.074 778.886 Q147.229 778.886 148.868 780.62 Q150.508 782.353 150.18 784.929 Q155.239 782.728 155.239 774.015 Q155.239 770.735 154.396 768.206 Q153.506 765.629 152.288 764.224 Q151.023 762.772 149.477 761.835 Q147.932 760.898 146.76 760.617 Q145.589 760.289 144.699 760.289 Q143.153 760.289 141.982 760.898 Q140.811 761.507 140.155 762.35 Q139.453 763.147 138.89 764.692 Q138.281 766.191 138.047 767.269 Q137.813 768.346 137.438 770.267 Q137.251 771.157 137.157 771.719 Q137.017 772.281 136.642 773.452 Q136.22 774.577 135.799 775.373 Q135.377 776.123 134.628 777.106 Q133.878 778.09 132.988 778.699 Q132.098 779.308 130.786 779.73 Q129.475 780.151 127.929 780.151 Q126.523 780.151 124.837 779.73 Q123.151 779.261 121.183 778.09 Q119.216 776.872 117.623 775.139 Q116.03 773.406 115 770.501 Q113.922 767.55 113.922 763.943 Q113.922 758.696 116.358 755.605 Q118.747 752.513 122.167 752.513 Z\" fill=\"#006400\" fill-rule=\"evenodd\" fill-opacity=\"1\" /><path clip-path=\"url(#clip040)\" d=\"M179.364 741.757 Q178.896 741.757 177.725 740.539 Q161.985 725.08 132.332 725.08 Q102.586 725.08 87.5485 739.93 Q85.8152 741.757 85.2999 741.757 Q84.363 741.757 84.363 740.82 Q84.363 740.164 86.2837 737.869 Q88.2043 735.526 92.6077 732.013 Q97.0111 728.453 102.398 725.83 Q115.468 719.505 132.332 719.505 Q148.541 719.505 161.61 725.548 Q167.091 728.125 171.682 731.732 Q176.273 735.339 178.287 737.728 Q180.301 740.117 180.301 740.82 Q180.301 741.757 179.364 741.757 Z\" fill=\"#006400\" fill-rule=\"evenodd\" fill-opacity=\"1\" /><polyline clip-path=\"url(#clip043)\" style=\"stroke:#009af9; stroke-linecap:round; stroke-linejoin:round; stroke-width:8; stroke-opacity:0.7; fill:none\" points=\"461.946,277.12 468.923,274.166 475.9,271.26 540.413,246.691 604.927,226.266 643.696,215.985 682.466,207.201 715.246,200.942 748.025,195.753 819.24,188.166 884.895,185.647 920.089,186.063 955.283,187.713 996.059,191.167 1036.83,196.276 1073.07,202.206 1109.31,209.444 1141.08,216.867 1172.86,225.295 1207.51,235.63 1242.15,247.16 1277,259.964 1311.85,273.978 1350.38,290.88 1388.92,309.261 1425.58,328.122 1462.24,348.321 1500.36,370.743 1538.48,394.613 1570.57,415.827 1602.66,438.067 1641.83,466.609 1681.01,496.68 1716.9,525.568 1752.79,555.739 1785.93,584.743 1819.08,614.841 1852.66,646.445 1886.23,679.172 1923.86,717.183 1961.49,756.604 1995.59,793.544 2029.69,831.641 2068.73,876.682 2107.77,923.24 2143.91,967.702 2180.06,1013.47 2215.7,1059.86 2251.34,1107.51 2285.94,1154.99 2320.54,1203.66 2356.01,1254.8 2391.48,1307.18 2430.34,1366.01 2469.2,1426.35 2525.65,1516.68 2582.11,1610.18 2593.69,1629.75 2605.27,1649.46 \"/>\n",
       "<path clip-path=\"url(#clip040)\" d=\"M2758.26 323.054 L3058.27 323.054 L3058.27 193.454 L2758.26 193.454  Z\" fill=\"#ffffff\" fill-rule=\"evenodd\" fill-opacity=\"1\"/>\n",
       "<polyline clip-path=\"url(#clip040)\" style=\"stroke:#000000; stroke-linecap:round; stroke-linejoin:round; stroke-width:4; stroke-opacity:1; fill:none\" points=\"2758.26,323.054 3058.27,323.054 3058.27,193.454 2758.26,193.454 2758.26,323.054 \"/>\n",
       "<polyline clip-path=\"url(#clip040)\" style=\"stroke:#009af9; stroke-linecap:round; stroke-linejoin:round; stroke-width:10; stroke-opacity:0.7; fill:none\" points=\"2787.82,258.254 2965.19,258.254 \"/>\n",
       "<path clip-path=\"url(#clip040)\" d=\"M3024.62 248.491 Q3024.62 250.13 3023.59 251.067 Q3022.57 251.975 3021.4 251.975 Q3020.29 251.975 3019.7 251.331 Q3019.12 250.687 3019.12 249.867 Q3019.12 248.754 3019.94 247.788 Q3020.75 246.822 3021.98 246.617 Q3020.78 245.856 3019 245.856 Q3017.83 245.856 3016.8 246.471 Q3015.81 247.085 3015.19 247.876 Q3014.61 248.666 3014.08 249.808 Q3013.58 250.921 3013.38 251.594 Q3013.2 252.238 3013.05 252.941 L3011.01 261.139 Q3010.01 265.033 3010.01 266.409 Q3010.01 268.107 3010.83 269.249 Q3011.65 270.361 3013.29 270.361 Q3013.93 270.361 3014.67 270.186 Q3015.4 269.981 3016.33 269.454 Q3017.3 268.898 3018.15 268.078 Q3019.03 267.229 3019.88 265.794 Q3020.73 264.359 3021.28 262.515 Q3021.46 261.871 3022.04 261.871 Q3022.78 261.871 3022.78 262.456 Q3022.78 262.954 3022.37 264.008 Q3021.98 265.033 3021.14 266.38 Q3020.32 267.697 3019.23 268.898 Q3018.15 270.069 3016.54 270.888 Q3014.93 271.708 3013.17 271.708 Q3010.65 271.708 3008.99 270.361 Q3007.32 269.015 3006.7 267.141 Q3006.56 267.404 3006.35 267.756 Q3006.15 268.107 3005.53 268.898 Q3004.94 269.659 3004.27 270.244 Q3003.6 270.801 3002.54 271.24 Q3001.52 271.708 3000.41 271.708 Q2999 271.708 2997.74 271.298 Q2996.51 270.888 2995.63 269.952 Q2994.76 269.015 2994.76 267.726 Q2994.76 266.292 2995.72 265.296 Q2996.72 264.272 2998.06 264.272 Q2998.91 264.272 2999.59 264.769 Q3000.29 265.267 3000.29 266.35 Q3000.29 267.551 2999.47 268.458 Q2998.65 269.366 2997.48 269.6 Q2998.68 270.361 3000.47 270.361 Q3002.4 270.361 3003.92 268.663 Q3005.44 266.965 3006.17 264.125 Q3007.99 257.303 3008.69 254.259 Q3009.4 251.184 3009.4 249.867 Q3009.4 248.637 3009.07 247.788 Q3008.75 246.939 3008.19 246.558 Q3007.67 246.148 3007.17 246.002 Q3006.7 245.856 3006.17 245.856 Q3005.3 245.856 3004.3 246.207 Q3003.33 246.558 3002.16 247.378 Q3001.02 248.169 2999.94 249.808 Q2998.85 251.448 2998.12 253.702 Q2997.98 254.376 2997.33 254.376 Q2996.63 254.346 2996.63 253.761 Q2996.63 253.263 2997.01 252.238 Q2997.42 251.184 2998.24 249.867 Q2999.09 248.549 3000.17 247.378 Q3001.28 246.178 3002.9 245.358 Q3004.53 244.538 3006.29 244.538 Q3007.08 244.538 3007.84 244.714 Q3008.63 244.86 3009.57 245.299 Q3010.54 245.739 3011.39 246.705 Q3012.23 247.671 3012.76 249.076 Q3013.11 248.403 3013.58 247.759 Q3014.08 247.115 3014.84 246.324 Q3015.63 245.504 3016.71 245.036 Q3017.83 244.538 3019.06 244.538 Q3020.26 244.538 3021.43 244.86 Q3022.6 245.153 3023.59 246.119 Q3024.62 247.056 3024.62 248.491 Z\" fill=\"#000000\" fill-rule=\"evenodd\" fill-opacity=\"1\" /></svg>\n"
      ]
     },
     "execution_count": 3,
     "metadata": {},
     "output_type": "execute_result"
    }
   ],
   "source": [
    "#Plot 2: \n",
    "using Plots\n",
    "gr()\n",
    "using LaTeXStrings, Measures\n",
    "default(fontfamily = \"Computer Modern\", size=(800,500), titlefont = (16), legendfontsize = 10, \n",
    "        guidefont = (16, :darkgreen), tickfont = (12, :black), \n",
    "        framestyle = :box, yminorgrid = true)\n",
    "#FUNCTION TO PLOT\n",
    "U(x) = (2 * ((x/10)-(x/20)^2))\n",
    "plot(U, 0, 100, label = [L\"x\" L\"U\"], \n",
    "    linewidth = 2, linealpha=0.7, legend = :outertopright)\n",
    "plot!(margin=7mm, xlabel = L\"x (m)\", ylabel= L\"U (Joules)\")"
   ]
  },
  {
   "cell_type": "code",
   "execution_count": null,
   "metadata": {},
   "outputs": [],
   "source": []
  }
 ],
 "metadata": {
  "colab": {
   "collapsed_sections": [],
   "default_view": {},
   "name": "Assignment_01_23Jan2018.ipynb",
   "provenance": [
    {
     "file_id": "1lgEaZ4-XVqZbBJDPyxLn1Ps5hmurk01O",
     "timestamp": 1515611260721
    }
   ],
   "version": "0.3.2",
   "views": {}
  },
  "kernelspec": {
   "display_name": "Julia 1.8.5",
   "language": "julia",
   "name": "julia-1.8"
  },
  "language_info": {
   "file_extension": ".jl",
   "mimetype": "application/julia",
   "name": "julia",
   "version": "1.8.5"
  },
  "latex_envs": {
   "LaTeX_envs_menu_present": true,
   "autoclose": true,
   "autocomplete": true,
   "bibliofile": "biblio.bib",
   "cite_by": "apalike",
   "current_citInitial": 1,
   "eqLabelWithNumbers": true,
   "eqNumInitial": 1,
   "hotkeys": {
    "equation": "Ctrl-E",
    "itemize": "Ctrl-I"
   },
   "labels_anchors": false,
   "latex_user_defs": false,
   "report_style_numbering": true,
   "user_envs_cfg": false
  },
  "nteract": {
   "version": "0.28.0"
  }
 },
 "nbformat": 4,
 "nbformat_minor": 4
}
